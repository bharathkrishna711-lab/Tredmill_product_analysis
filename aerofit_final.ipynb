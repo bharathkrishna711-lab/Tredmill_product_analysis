{
  "nbformat": 4,
  "nbformat_minor": 0,
  "metadata": {
    "colab": {
      "provenance": [],
      "toc_visible": true
    },
    "kernelspec": {
      "name": "python3",
      "display_name": "Python 3"
    },
    "language_info": {
      "name": "python"
    }
  },
  "cells": [
    {
      "cell_type": "code",
      "execution_count": null,
      "metadata": {
        "id": "eofuh4cBKKEm"
      },
      "outputs": [],
      "source": [
        "#importing the necessary libraries\n",
        "import numpy as np\n",
        "import matplotlib.pyplot as plt\n",
        "import seaborn as sns\n",
        "import pandas as pd"
      ]
    },
    {
      "cell_type": "code",
      "source": [
        "#downloading the dataset\n",
        "!gdown https://d2beiqkhq929f0.cloudfront.net/public_assets/assets/000/001/125/original/aerofit_treadmill.csv?1639992749"
      ],
      "metadata": {
        "colab": {
          "base_uri": "https://localhost:8080/"
        },
        "id": "lWOm4Ob4KRSV",
        "outputId": "1d2f2df9-2bf1-4656-92d4-7b84d42eba38"
      },
      "execution_count": null,
      "outputs": [
        {
          "output_type": "stream",
          "name": "stdout",
          "text": [
            "Downloading...\n",
            "From: https://d2beiqkhq929f0.cloudfront.net/public_assets/assets/000/001/125/original/aerofit_treadmill.csv?1639992749\n",
            "To: /content/aerofit_treadmill.csv?1639992749\n",
            "\r  0% 0.00/7.28k [00:00<?, ?B/s]\r100% 7.28k/7.28k [00:00<00:00, 4.22MB/s]\n"
          ]
        }
      ]
    },
    {
      "cell_type": "code",
      "source": [
        "df=pd.read_csv(\"/content/aerofit_treadmill.csv?1639992749\")"
      ],
      "metadata": {
        "id": "8FKfuUOKKVD5"
      },
      "execution_count": null,
      "outputs": []
    },
    {
      "cell_type": "markdown",
      "source": [
        "# 1) Defining the problem statement AND Analysing the basic metrics"
      ],
      "metadata": {
        "id": "LBCwchXnKxxu"
      }
    },
    {
      "cell_type": "markdown",
      "source": [
        "The market research team at AeroFit wants to identify the characteristics of the target audience for each type of treadmill offered by the company, to provide a better recommendation of the treadmills to the new customers. The team decides to investigate whether there are differences across the product with respect to customer characteristics.\n",
        "\n"
      ],
      "metadata": {
        "id": "zKtxA5GrK_4K"
      }
    },
    {
      "cell_type": "markdown",
      "source": [
        "Exploration of the dataset to analyze the basic metrics"
      ],
      "metadata": {
        "id": "Z-CQs65XPUwP"
      }
    },
    {
      "cell_type": "markdown",
      "source": [
        "1) Observations on shape of data, data types of all the attributes, conversion of categorical attributes to 'category' (If required), statistical summary"
      ],
      "metadata": {
        "id": "1LVtedCUQpDr"
      }
    },
    {
      "cell_type": "code",
      "source": [
        "df.head()"
      ],
      "metadata": {
        "colab": {
          "base_uri": "https://localhost:8080/",
          "height": 206
        },
        "id": "cY6A3ofhKYNg",
        "outputId": "21c86af6-f77f-407c-f76e-5315be4221a7"
      },
      "execution_count": null,
      "outputs": [
        {
          "output_type": "execute_result",
          "data": {
            "text/plain": [
              "  Product  Age  Gender  Education MaritalStatus  Usage  Fitness  Income  Miles\n",
              "0   KP281   18    Male         14        Single      3        4   29562    112\n",
              "1   KP281   19    Male         15        Single      2        3   31836     75\n",
              "2   KP281   19  Female         14     Partnered      4        3   30699     66\n",
              "3   KP281   19    Male         12        Single      3        3   32973     85\n",
              "4   KP281   20    Male         13     Partnered      4        2   35247     47"
            ],
            "text/html": [
              "\n",
              "  <div id=\"df-d9295ba6-1ea4-49db-b058-a6661bf5f3f7\">\n",
              "    <div class=\"colab-df-container\">\n",
              "      <div>\n",
              "<style scoped>\n",
              "    .dataframe tbody tr th:only-of-type {\n",
              "        vertical-align: middle;\n",
              "    }\n",
              "\n",
              "    .dataframe tbody tr th {\n",
              "        vertical-align: top;\n",
              "    }\n",
              "\n",
              "    .dataframe thead th {\n",
              "        text-align: right;\n",
              "    }\n",
              "</style>\n",
              "<table border=\"1\" class=\"dataframe\">\n",
              "  <thead>\n",
              "    <tr style=\"text-align: right;\">\n",
              "      <th></th>\n",
              "      <th>Product</th>\n",
              "      <th>Age</th>\n",
              "      <th>Gender</th>\n",
              "      <th>Education</th>\n",
              "      <th>MaritalStatus</th>\n",
              "      <th>Usage</th>\n",
              "      <th>Fitness</th>\n",
              "      <th>Income</th>\n",
              "      <th>Miles</th>\n",
              "    </tr>\n",
              "  </thead>\n",
              "  <tbody>\n",
              "    <tr>\n",
              "      <th>0</th>\n",
              "      <td>KP281</td>\n",
              "      <td>18</td>\n",
              "      <td>Male</td>\n",
              "      <td>14</td>\n",
              "      <td>Single</td>\n",
              "      <td>3</td>\n",
              "      <td>4</td>\n",
              "      <td>29562</td>\n",
              "      <td>112</td>\n",
              "    </tr>\n",
              "    <tr>\n",
              "      <th>1</th>\n",
              "      <td>KP281</td>\n",
              "      <td>19</td>\n",
              "      <td>Male</td>\n",
              "      <td>15</td>\n",
              "      <td>Single</td>\n",
              "      <td>2</td>\n",
              "      <td>3</td>\n",
              "      <td>31836</td>\n",
              "      <td>75</td>\n",
              "    </tr>\n",
              "    <tr>\n",
              "      <th>2</th>\n",
              "      <td>KP281</td>\n",
              "      <td>19</td>\n",
              "      <td>Female</td>\n",
              "      <td>14</td>\n",
              "      <td>Partnered</td>\n",
              "      <td>4</td>\n",
              "      <td>3</td>\n",
              "      <td>30699</td>\n",
              "      <td>66</td>\n",
              "    </tr>\n",
              "    <tr>\n",
              "      <th>3</th>\n",
              "      <td>KP281</td>\n",
              "      <td>19</td>\n",
              "      <td>Male</td>\n",
              "      <td>12</td>\n",
              "      <td>Single</td>\n",
              "      <td>3</td>\n",
              "      <td>3</td>\n",
              "      <td>32973</td>\n",
              "      <td>85</td>\n",
              "    </tr>\n",
              "    <tr>\n",
              "      <th>4</th>\n",
              "      <td>KP281</td>\n",
              "      <td>20</td>\n",
              "      <td>Male</td>\n",
              "      <td>13</td>\n",
              "      <td>Partnered</td>\n",
              "      <td>4</td>\n",
              "      <td>2</td>\n",
              "      <td>35247</td>\n",
              "      <td>47</td>\n",
              "    </tr>\n",
              "  </tbody>\n",
              "</table>\n",
              "</div>\n",
              "      <button class=\"colab-df-convert\" onclick=\"convertToInteractive('df-d9295ba6-1ea4-49db-b058-a6661bf5f3f7')\"\n",
              "              title=\"Convert this dataframe to an interactive table.\"\n",
              "              style=\"display:none;\">\n",
              "        \n",
              "  <svg xmlns=\"http://www.w3.org/2000/svg\" height=\"24px\"viewBox=\"0 0 24 24\"\n",
              "       width=\"24px\">\n",
              "    <path d=\"M0 0h24v24H0V0z\" fill=\"none\"/>\n",
              "    <path d=\"M18.56 5.44l.94 2.06.94-2.06 2.06-.94-2.06-.94-.94-2.06-.94 2.06-2.06.94zm-11 1L8.5 8.5l.94-2.06 2.06-.94-2.06-.94L8.5 2.5l-.94 2.06-2.06.94zm10 10l.94 2.06.94-2.06 2.06-.94-2.06-.94-.94-2.06-.94 2.06-2.06.94z\"/><path d=\"M17.41 7.96l-1.37-1.37c-.4-.4-.92-.59-1.43-.59-.52 0-1.04.2-1.43.59L10.3 9.45l-7.72 7.72c-.78.78-.78 2.05 0 2.83L4 21.41c.39.39.9.59 1.41.59.51 0 1.02-.2 1.41-.59l7.78-7.78 2.81-2.81c.8-.78.8-2.07 0-2.86zM5.41 20L4 18.59l7.72-7.72 1.47 1.35L5.41 20z\"/>\n",
              "  </svg>\n",
              "      </button>\n",
              "      \n",
              "  <style>\n",
              "    .colab-df-container {\n",
              "      display:flex;\n",
              "      flex-wrap:wrap;\n",
              "      gap: 12px;\n",
              "    }\n",
              "\n",
              "    .colab-df-convert {\n",
              "      background-color: #E8F0FE;\n",
              "      border: none;\n",
              "      border-radius: 50%;\n",
              "      cursor: pointer;\n",
              "      display: none;\n",
              "      fill: #1967D2;\n",
              "      height: 32px;\n",
              "      padding: 0 0 0 0;\n",
              "      width: 32px;\n",
              "    }\n",
              "\n",
              "    .colab-df-convert:hover {\n",
              "      background-color: #E2EBFA;\n",
              "      box-shadow: 0px 1px 2px rgba(60, 64, 67, 0.3), 0px 1px 3px 1px rgba(60, 64, 67, 0.15);\n",
              "      fill: #174EA6;\n",
              "    }\n",
              "\n",
              "    [theme=dark] .colab-df-convert {\n",
              "      background-color: #3B4455;\n",
              "      fill: #D2E3FC;\n",
              "    }\n",
              "\n",
              "    [theme=dark] .colab-df-convert:hover {\n",
              "      background-color: #434B5C;\n",
              "      box-shadow: 0px 1px 3px 1px rgba(0, 0, 0, 0.15);\n",
              "      filter: drop-shadow(0px 1px 2px rgba(0, 0, 0, 0.3));\n",
              "      fill: #FFFFFF;\n",
              "    }\n",
              "  </style>\n",
              "\n",
              "      <script>\n",
              "        const buttonEl =\n",
              "          document.querySelector('#df-d9295ba6-1ea4-49db-b058-a6661bf5f3f7 button.colab-df-convert');\n",
              "        buttonEl.style.display =\n",
              "          google.colab.kernel.accessAllowed ? 'block' : 'none';\n",
              "\n",
              "        async function convertToInteractive(key) {\n",
              "          const element = document.querySelector('#df-d9295ba6-1ea4-49db-b058-a6661bf5f3f7');\n",
              "          const dataTable =\n",
              "            await google.colab.kernel.invokeFunction('convertToInteractive',\n",
              "                                                     [key], {});\n",
              "          if (!dataTable) return;\n",
              "\n",
              "          const docLinkHtml = 'Like what you see? Visit the ' +\n",
              "            '<a target=\"_blank\" href=https://colab.research.google.com/notebooks/data_table.ipynb>data table notebook</a>'\n",
              "            + ' to learn more about interactive tables.';\n",
              "          element.innerHTML = '';\n",
              "          dataTable['output_type'] = 'display_data';\n",
              "          await google.colab.output.renderOutput(dataTable, element);\n",
              "          const docLink = document.createElement('div');\n",
              "          docLink.innerHTML = docLinkHtml;\n",
              "          element.appendChild(docLink);\n",
              "        }\n",
              "      </script>\n",
              "    </div>\n",
              "  </div>\n",
              "  "
            ]
          },
          "metadata": {},
          "execution_count": 4
        }
      ]
    },
    {
      "cell_type": "code",
      "source": [
        "#Finding out the no:of records and features\n",
        "print(\"No : of records: \",df.shape[0])\n",
        "print(\"No : of features: \",df.shape[1])"
      ],
      "metadata": {
        "colab": {
          "base_uri": "https://localhost:8080/"
        },
        "id": "00u1XhYYMIHl",
        "outputId": "c296db38-ecff-4465-d063-cb7789385a8e"
      },
      "execution_count": null,
      "outputs": [
        {
          "output_type": "stream",
          "name": "stdout",
          "text": [
            "No : of records:  180\n",
            "No : of features:  9\n"
          ]
        }
      ]
    },
    {
      "cell_type": "markdown",
      "source": [
        "The data consist of 180 records and 9 features or columns"
      ],
      "metadata": {
        "id": "7EmY9euIMM2H"
      }
    },
    {
      "cell_type": "code",
      "source": [
        "# FINDING THE DATATYPES AND OTHER INFO ABOUT THE DATASET\n",
        "df.info()"
      ],
      "metadata": {
        "colab": {
          "base_uri": "https://localhost:8080/"
        },
        "id": "_euv9P5SNEfB",
        "outputId": "30831574-7780-47d4-f61b-2104066f7a2d"
      },
      "execution_count": null,
      "outputs": [
        {
          "output_type": "stream",
          "name": "stdout",
          "text": [
            "<class 'pandas.core.frame.DataFrame'>\n",
            "RangeIndex: 180 entries, 0 to 179\n",
            "Data columns (total 9 columns):\n",
            " #   Column         Non-Null Count  Dtype \n",
            "---  ------         --------------  ----- \n",
            " 0   Product        180 non-null    object\n",
            " 1   Age            180 non-null    int64 \n",
            " 2   Gender         180 non-null    object\n",
            " 3   Education      180 non-null    int64 \n",
            " 4   MaritalStatus  180 non-null    object\n",
            " 5   Usage          180 non-null    int64 \n",
            " 6   Fitness        180 non-null    int64 \n",
            " 7   Income         180 non-null    int64 \n",
            " 8   Miles          180 non-null    int64 \n",
            "dtypes: int64(6), object(3)\n",
            "memory usage: 12.8+ KB\n"
          ]
        }
      ]
    },
    {
      "cell_type": "code",
      "source": [
        "#Checking out the unique values in the dataset\n",
        "df.nunique()"
      ],
      "metadata": {
        "colab": {
          "base_uri": "https://localhost:8080/"
        },
        "id": "8hbTRBM-MLyy",
        "outputId": "f927c30d-12fe-483e-83dd-608de8d519ba"
      },
      "execution_count": null,
      "outputs": [
        {
          "output_type": "execute_result",
          "data": {
            "text/plain": [
              "Product           3\n",
              "Age              32\n",
              "Gender            2\n",
              "Education         8\n",
              "MaritalStatus     2\n",
              "Usage             6\n",
              "Fitness           5\n",
              "Income           62\n",
              "Miles            37\n",
              "dtype: int64"
            ]
          },
          "metadata": {},
          "execution_count": 7
        }
      ]
    },
    {
      "cell_type": "code",
      "source": [
        "#Checking whether there is any null values in the dataset\n",
        "df.isna().sum()"
      ],
      "metadata": {
        "colab": {
          "base_uri": "https://localhost:8080/"
        },
        "id": "5h5tmvVrMZ58",
        "outputId": "5e96c08d-1646-46df-a13a-3dcb5aa02c04"
      },
      "execution_count": null,
      "outputs": [
        {
          "output_type": "execute_result",
          "data": {
            "text/plain": [
              "Product          0\n",
              "Age              0\n",
              "Gender           0\n",
              "Education        0\n",
              "MaritalStatus    0\n",
              "Usage            0\n",
              "Fitness          0\n",
              "Income           0\n",
              "Miles            0\n",
              "dtype: int64"
            ]
          },
          "metadata": {},
          "execution_count": 8
        }
      ]
    },
    {
      "cell_type": "markdown",
      "source": [
        "There are no null values in the given dataset.\n"
      ],
      "metadata": {
        "id": "e9XlcUnwMl6n"
      }
    },
    {
      "cell_type": "code",
      "source": [
        "df.describe()"
      ],
      "metadata": {
        "colab": {
          "base_uri": "https://localhost:8080/",
          "height": 300
        },
        "id": "WNv93BLxMiu8",
        "outputId": "081413fe-b727-47e1-f62b-a77087fa78e7"
      },
      "execution_count": null,
      "outputs": [
        {
          "output_type": "execute_result",
          "data": {
            "text/plain": [
              "              Age   Education       Usage     Fitness         Income  \\\n",
              "count  180.000000  180.000000  180.000000  180.000000     180.000000   \n",
              "mean    28.788889   15.572222    3.455556    3.311111   53719.577778   \n",
              "std      6.943498    1.617055    1.084797    0.958869   16506.684226   \n",
              "min     18.000000   12.000000    2.000000    1.000000   29562.000000   \n",
              "25%     24.000000   14.000000    3.000000    3.000000   44058.750000   \n",
              "50%     26.000000   16.000000    3.000000    3.000000   50596.500000   \n",
              "75%     33.000000   16.000000    4.000000    4.000000   58668.000000   \n",
              "max     50.000000   21.000000    7.000000    5.000000  104581.000000   \n",
              "\n",
              "            Miles  \n",
              "count  180.000000  \n",
              "mean   103.194444  \n",
              "std     51.863605  \n",
              "min     21.000000  \n",
              "25%     66.000000  \n",
              "50%     94.000000  \n",
              "75%    114.750000  \n",
              "max    360.000000  "
            ],
            "text/html": [
              "\n",
              "  <div id=\"df-bba65a52-7bbb-4f39-bb18-cc989512172d\">\n",
              "    <div class=\"colab-df-container\">\n",
              "      <div>\n",
              "<style scoped>\n",
              "    .dataframe tbody tr th:only-of-type {\n",
              "        vertical-align: middle;\n",
              "    }\n",
              "\n",
              "    .dataframe tbody tr th {\n",
              "        vertical-align: top;\n",
              "    }\n",
              "\n",
              "    .dataframe thead th {\n",
              "        text-align: right;\n",
              "    }\n",
              "</style>\n",
              "<table border=\"1\" class=\"dataframe\">\n",
              "  <thead>\n",
              "    <tr style=\"text-align: right;\">\n",
              "      <th></th>\n",
              "      <th>Age</th>\n",
              "      <th>Education</th>\n",
              "      <th>Usage</th>\n",
              "      <th>Fitness</th>\n",
              "      <th>Income</th>\n",
              "      <th>Miles</th>\n",
              "    </tr>\n",
              "  </thead>\n",
              "  <tbody>\n",
              "    <tr>\n",
              "      <th>count</th>\n",
              "      <td>180.000000</td>\n",
              "      <td>180.000000</td>\n",
              "      <td>180.000000</td>\n",
              "      <td>180.000000</td>\n",
              "      <td>180.000000</td>\n",
              "      <td>180.000000</td>\n",
              "    </tr>\n",
              "    <tr>\n",
              "      <th>mean</th>\n",
              "      <td>28.788889</td>\n",
              "      <td>15.572222</td>\n",
              "      <td>3.455556</td>\n",
              "      <td>3.311111</td>\n",
              "      <td>53719.577778</td>\n",
              "      <td>103.194444</td>\n",
              "    </tr>\n",
              "    <tr>\n",
              "      <th>std</th>\n",
              "      <td>6.943498</td>\n",
              "      <td>1.617055</td>\n",
              "      <td>1.084797</td>\n",
              "      <td>0.958869</td>\n",
              "      <td>16506.684226</td>\n",
              "      <td>51.863605</td>\n",
              "    </tr>\n",
              "    <tr>\n",
              "      <th>min</th>\n",
              "      <td>18.000000</td>\n",
              "      <td>12.000000</td>\n",
              "      <td>2.000000</td>\n",
              "      <td>1.000000</td>\n",
              "      <td>29562.000000</td>\n",
              "      <td>21.000000</td>\n",
              "    </tr>\n",
              "    <tr>\n",
              "      <th>25%</th>\n",
              "      <td>24.000000</td>\n",
              "      <td>14.000000</td>\n",
              "      <td>3.000000</td>\n",
              "      <td>3.000000</td>\n",
              "      <td>44058.750000</td>\n",
              "      <td>66.000000</td>\n",
              "    </tr>\n",
              "    <tr>\n",
              "      <th>50%</th>\n",
              "      <td>26.000000</td>\n",
              "      <td>16.000000</td>\n",
              "      <td>3.000000</td>\n",
              "      <td>3.000000</td>\n",
              "      <td>50596.500000</td>\n",
              "      <td>94.000000</td>\n",
              "    </tr>\n",
              "    <tr>\n",
              "      <th>75%</th>\n",
              "      <td>33.000000</td>\n",
              "      <td>16.000000</td>\n",
              "      <td>4.000000</td>\n",
              "      <td>4.000000</td>\n",
              "      <td>58668.000000</td>\n",
              "      <td>114.750000</td>\n",
              "    </tr>\n",
              "    <tr>\n",
              "      <th>max</th>\n",
              "      <td>50.000000</td>\n",
              "      <td>21.000000</td>\n",
              "      <td>7.000000</td>\n",
              "      <td>5.000000</td>\n",
              "      <td>104581.000000</td>\n",
              "      <td>360.000000</td>\n",
              "    </tr>\n",
              "  </tbody>\n",
              "</table>\n",
              "</div>\n",
              "      <button class=\"colab-df-convert\" onclick=\"convertToInteractive('df-bba65a52-7bbb-4f39-bb18-cc989512172d')\"\n",
              "              title=\"Convert this dataframe to an interactive table.\"\n",
              "              style=\"display:none;\">\n",
              "        \n",
              "  <svg xmlns=\"http://www.w3.org/2000/svg\" height=\"24px\"viewBox=\"0 0 24 24\"\n",
              "       width=\"24px\">\n",
              "    <path d=\"M0 0h24v24H0V0z\" fill=\"none\"/>\n",
              "    <path d=\"M18.56 5.44l.94 2.06.94-2.06 2.06-.94-2.06-.94-.94-2.06-.94 2.06-2.06.94zm-11 1L8.5 8.5l.94-2.06 2.06-.94-2.06-.94L8.5 2.5l-.94 2.06-2.06.94zm10 10l.94 2.06.94-2.06 2.06-.94-2.06-.94-.94-2.06-.94 2.06-2.06.94z\"/><path d=\"M17.41 7.96l-1.37-1.37c-.4-.4-.92-.59-1.43-.59-.52 0-1.04.2-1.43.59L10.3 9.45l-7.72 7.72c-.78.78-.78 2.05 0 2.83L4 21.41c.39.39.9.59 1.41.59.51 0 1.02-.2 1.41-.59l7.78-7.78 2.81-2.81c.8-.78.8-2.07 0-2.86zM5.41 20L4 18.59l7.72-7.72 1.47 1.35L5.41 20z\"/>\n",
              "  </svg>\n",
              "      </button>\n",
              "      \n",
              "  <style>\n",
              "    .colab-df-container {\n",
              "      display:flex;\n",
              "      flex-wrap:wrap;\n",
              "      gap: 12px;\n",
              "    }\n",
              "\n",
              "    .colab-df-convert {\n",
              "      background-color: #E8F0FE;\n",
              "      border: none;\n",
              "      border-radius: 50%;\n",
              "      cursor: pointer;\n",
              "      display: none;\n",
              "      fill: #1967D2;\n",
              "      height: 32px;\n",
              "      padding: 0 0 0 0;\n",
              "      width: 32px;\n",
              "    }\n",
              "\n",
              "    .colab-df-convert:hover {\n",
              "      background-color: #E2EBFA;\n",
              "      box-shadow: 0px 1px 2px rgba(60, 64, 67, 0.3), 0px 1px 3px 1px rgba(60, 64, 67, 0.15);\n",
              "      fill: #174EA6;\n",
              "    }\n",
              "\n",
              "    [theme=dark] .colab-df-convert {\n",
              "      background-color: #3B4455;\n",
              "      fill: #D2E3FC;\n",
              "    }\n",
              "\n",
              "    [theme=dark] .colab-df-convert:hover {\n",
              "      background-color: #434B5C;\n",
              "      box-shadow: 0px 1px 3px 1px rgba(0, 0, 0, 0.15);\n",
              "      filter: drop-shadow(0px 1px 2px rgba(0, 0, 0, 0.3));\n",
              "      fill: #FFFFFF;\n",
              "    }\n",
              "  </style>\n",
              "\n",
              "      <script>\n",
              "        const buttonEl =\n",
              "          document.querySelector('#df-bba65a52-7bbb-4f39-bb18-cc989512172d button.colab-df-convert');\n",
              "        buttonEl.style.display =\n",
              "          google.colab.kernel.accessAllowed ? 'block' : 'none';\n",
              "\n",
              "        async function convertToInteractive(key) {\n",
              "          const element = document.querySelector('#df-bba65a52-7bbb-4f39-bb18-cc989512172d');\n",
              "          const dataTable =\n",
              "            await google.colab.kernel.invokeFunction('convertToInteractive',\n",
              "                                                     [key], {});\n",
              "          if (!dataTable) return;\n",
              "\n",
              "          const docLinkHtml = 'Like what you see? Visit the ' +\n",
              "            '<a target=\"_blank\" href=https://colab.research.google.com/notebooks/data_table.ipynb>data table notebook</a>'\n",
              "            + ' to learn more about interactive tables.';\n",
              "          element.innerHTML = '';\n",
              "          dataTable['output_type'] = 'display_data';\n",
              "          await google.colab.output.renderOutput(dataTable, element);\n",
              "          const docLink = document.createElement('div');\n",
              "          docLink.innerHTML = docLinkHtml;\n",
              "          element.appendChild(docLink);\n",
              "        }\n",
              "      </script>\n",
              "    </div>\n",
              "  </div>\n",
              "  "
            ]
          },
          "metadata": {},
          "execution_count": 9
        }
      ]
    },
    {
      "cell_type": "markdown",
      "source": [
        "#2) Non-Graphical Analysis: Value counts and unique attributes"
      ],
      "metadata": {
        "id": "hqnWlRgsPEXU"
      }
    },
    {
      "cell_type": "code",
      "source": [
        "df['Product'].value_counts()"
      ],
      "metadata": {
        "colab": {
          "base_uri": "https://localhost:8080/"
        },
        "id": "oi4HHjEYNNtK",
        "outputId": "d13e70aa-7b84-4f4c-b54b-c91a3dc45561"
      },
      "execution_count": null,
      "outputs": [
        {
          "output_type": "execute_result",
          "data": {
            "text/plain": [
              "KP281    80\n",
              "KP481    60\n",
              "KP781    40\n",
              "Name: Product, dtype: int64"
            ]
          },
          "metadata": {},
          "execution_count": 10
        }
      ]
    },
    {
      "cell_type": "code",
      "source": [
        "df['Product'].unique()"
      ],
      "metadata": {
        "colab": {
          "base_uri": "https://localhost:8080/"
        },
        "id": "7K65v3tURjMf",
        "outputId": "3ccfafc9-b8b3-4010-f682-aa927928a59a"
      },
      "execution_count": null,
      "outputs": [
        {
          "output_type": "execute_result",
          "data": {
            "text/plain": [
              "array(['KP281', 'KP481', 'KP781'], dtype=object)"
            ]
          },
          "metadata": {},
          "execution_count": 11
        }
      ]
    },
    {
      "cell_type": "markdown",
      "source": [
        "There are three different products in the dataset.They are 'KP281', 'KP481' and 'KP781'.\n",
        "\n",
        "The number of customers using these are :\n",
        "\n",
        "KP281--80\n",
        "\n",
        "KP481--60\n",
        "\n",
        "KP781--40"
      ],
      "metadata": {
        "id": "GedlVPIjRt5l"
      }
    },
    {
      "cell_type": "code",
      "source": [
        "df['Gender'].value_counts()"
      ],
      "metadata": {
        "colab": {
          "base_uri": "https://localhost:8080/"
        },
        "id": "SDqLyUNfQ-bG",
        "outputId": "ca80a077-4142-4400-9f9b-04fce655f10c"
      },
      "execution_count": null,
      "outputs": [
        {
          "output_type": "execute_result",
          "data": {
            "text/plain": [
              "Male      104\n",
              "Female     76\n",
              "Name: Gender, dtype: int64"
            ]
          },
          "metadata": {},
          "execution_count": 12
        }
      ]
    },
    {
      "cell_type": "code",
      "source": [
        "df['Gender'].unique()"
      ],
      "metadata": {
        "colab": {
          "base_uri": "https://localhost:8080/"
        },
        "id": "DvfBetC3RTnw",
        "outputId": "58e2f0b9-a7d1-45e2-f67c-95897d5aaedf"
      },
      "execution_count": null,
      "outputs": [
        {
          "output_type": "execute_result",
          "data": {
            "text/plain": [
              "array(['Male', 'Female'], dtype=object)"
            ]
          },
          "metadata": {},
          "execution_count": 13
        }
      ]
    },
    {
      "cell_type": "markdown",
      "source": [
        "The Gender of the customers in the dataset are 'Male' and 'Female'\n",
        "\n",
        "The number of customers belonging to each gender are :     \n",
        "\n",
        "Male      104\n",
        "\n",
        "Female     76"
      ],
      "metadata": {
        "id": "z2a-hQDYSWDV"
      }
    },
    {
      "cell_type": "code",
      "source": [
        "df['MaritalStatus'].value_counts()"
      ],
      "metadata": {
        "colab": {
          "base_uri": "https://localhost:8080/"
        },
        "id": "V0z-OLG5SNto",
        "outputId": "a3835cde-e426-41bd-cc3b-1f233e9b7d0b"
      },
      "execution_count": null,
      "outputs": [
        {
          "output_type": "execute_result",
          "data": {
            "text/plain": [
              "Partnered    107\n",
              "Single        73\n",
              "Name: MaritalStatus, dtype: int64"
            ]
          },
          "metadata": {},
          "execution_count": 14
        }
      ]
    },
    {
      "cell_type": "code",
      "source": [
        "df['MaritalStatus'].unique()"
      ],
      "metadata": {
        "colab": {
          "base_uri": "https://localhost:8080/"
        },
        "id": "kHJ6hnfcS3LC",
        "outputId": "9e3aa58c-b15e-4144-8003-484431a5c3df"
      },
      "execution_count": null,
      "outputs": [
        {
          "output_type": "execute_result",
          "data": {
            "text/plain": [
              "array(['Single', 'Partnered'], dtype=object)"
            ]
          },
          "metadata": {},
          "execution_count": 15
        }
      ]
    },
    {
      "cell_type": "markdown",
      "source": [
        "The Marital Status of the customers are : 'Single' and 'Partnered'\n",
        "\n",
        "The number of customers of each Marital Status are:\n",
        "\n",
        "Partnered    107\n",
        "\n",
        "Single        73"
      ],
      "metadata": {
        "id": "EEYeZj9HS-FC"
      }
    },
    {
      "cell_type": "code",
      "source": [
        "df['Age'].unique()"
      ],
      "metadata": {
        "colab": {
          "base_uri": "https://localhost:8080/"
        },
        "id": "8PDb8dZhTkQp",
        "outputId": "9b138187-92de-4fc0-a979-e8a857cb9b24"
      },
      "execution_count": null,
      "outputs": [
        {
          "output_type": "execute_result",
          "data": {
            "text/plain": [
              "array([18, 19, 20, 21, 22, 23, 24, 25, 26, 27, 28, 29, 30, 31, 32, 33, 34,\n",
              "       35, 36, 37, 38, 39, 40, 41, 43, 44, 46, 47, 50, 45, 48, 42])"
            ]
          },
          "metadata": {},
          "execution_count": 16
        }
      ]
    },
    {
      "cell_type": "code",
      "source": [
        "print(\"Minimum age of customers:\", df['Age'].min())\n",
        "print(\"Maximum age of customers:\", df['Age'].max())"
      ],
      "metadata": {
        "colab": {
          "base_uri": "https://localhost:8080/"
        },
        "id": "bXhL4L18UAyU",
        "outputId": "316f2979-fc34-4d80-b4fd-7791cb976d46"
      },
      "execution_count": null,
      "outputs": [
        {
          "output_type": "stream",
          "name": "stdout",
          "text": [
            "Minimum age of customers: 18\n",
            "Maximum age of customers: 50\n"
          ]
        }
      ]
    },
    {
      "cell_type": "markdown",
      "source": [
        "The dataset consist of customers from age 18 to 50"
      ],
      "metadata": {
        "id": "j9IO804MUTOn"
      }
    },
    {
      "cell_type": "code",
      "source": [
        "df['Age'].nunique()"
      ],
      "metadata": {
        "colab": {
          "base_uri": "https://localhost:8080/"
        },
        "id": "flUvPOxyS8FB",
        "outputId": "67cea887-35a3-4dcf-a970-239084329d4b"
      },
      "execution_count": null,
      "outputs": [
        {
          "output_type": "execute_result",
          "data": {
            "text/plain": [
              "32"
            ]
          },
          "metadata": {},
          "execution_count": 18
        }
      ]
    },
    {
      "cell_type": "code",
      "source": [
        "df['Age'].value_counts()"
      ],
      "metadata": {
        "colab": {
          "base_uri": "https://localhost:8080/"
        },
        "id": "q1dghOmN5ibo",
        "outputId": "2561eee4-e5a5-42d4-a9cf-00348272212a"
      },
      "execution_count": null,
      "outputs": [
        {
          "output_type": "execute_result",
          "data": {
            "text/plain": [
              "25    25\n",
              "23    18\n",
              "24    12\n",
              "26    12\n",
              "28     9\n",
              "35     8\n",
              "33     8\n",
              "30     7\n",
              "38     7\n",
              "21     7\n",
              "22     7\n",
              "27     7\n",
              "31     6\n",
              "34     6\n",
              "29     6\n",
              "20     5\n",
              "40     5\n",
              "32     4\n",
              "19     4\n",
              "48     2\n",
              "37     2\n",
              "45     2\n",
              "47     2\n",
              "46     1\n",
              "50     1\n",
              "18     1\n",
              "44     1\n",
              "43     1\n",
              "41     1\n",
              "39     1\n",
              "36     1\n",
              "42     1\n",
              "Name: Age, dtype: int64"
            ]
          },
          "metadata": {},
          "execution_count": 19
        }
      ]
    },
    {
      "cell_type": "code",
      "source": [
        "df['Income'].unique()"
      ],
      "metadata": {
        "colab": {
          "base_uri": "https://localhost:8080/"
        },
        "id": "4ua3PQs1Tq4p",
        "outputId": "e4b788b4-d9be-49ff-b8b6-7cbac44ac55c"
      },
      "execution_count": null,
      "outputs": [
        {
          "output_type": "execute_result",
          "data": {
            "text/plain": [
              "array([ 29562,  31836,  30699,  32973,  35247,  37521,  36384,  38658,\n",
              "        40932,  34110,  39795,  42069,  44343,  45480,  46617,  48891,\n",
              "        53439,  43206,  52302,  51165,  50028,  54576,  68220,  55713,\n",
              "        60261,  67083,  56850,  59124,  61398,  57987,  64809,  47754,\n",
              "        65220,  62535,  48658,  54781,  48556,  58516,  53536,  61006,\n",
              "        57271,  52291,  49801,  62251,  64741,  70966,  75946,  74701,\n",
              "        69721,  83416,  88396,  90886,  92131,  77191,  52290,  85906,\n",
              "       103336,  99601,  89641,  95866, 104581,  95508])"
            ]
          },
          "metadata": {},
          "execution_count": 20
        }
      ]
    },
    {
      "cell_type": "code",
      "source": [
        "df['Income'].nunique()"
      ],
      "metadata": {
        "colab": {
          "base_uri": "https://localhost:8080/"
        },
        "id": "rwKFRdOMTbgU",
        "outputId": "c25c3199-bca4-4cc7-fe29-9d03be00386b"
      },
      "execution_count": null,
      "outputs": [
        {
          "output_type": "execute_result",
          "data": {
            "text/plain": [
              "62"
            ]
          },
          "metadata": {},
          "execution_count": 21
        }
      ]
    },
    {
      "cell_type": "code",
      "source": [
        "df['Income'].value_counts()"
      ],
      "metadata": {
        "colab": {
          "base_uri": "https://localhost:8080/"
        },
        "id": "72uaZzXZ5smy",
        "outputId": "7c4f1722-62fe-4ef4-ca6b-87b5b9d9c156"
      },
      "execution_count": null,
      "outputs": [
        {
          "output_type": "execute_result",
          "data": {
            "text/plain": [
              "45480    14\n",
              "52302     9\n",
              "46617     8\n",
              "54576     8\n",
              "53439     8\n",
              "         ..\n",
              "65220     1\n",
              "55713     1\n",
              "68220     1\n",
              "30699     1\n",
              "95508     1\n",
              "Name: Income, Length: 62, dtype: int64"
            ]
          },
          "metadata": {},
          "execution_count": 22
        }
      ]
    },
    {
      "cell_type": "code",
      "source": [
        "df['Education'].value_counts()"
      ],
      "metadata": {
        "colab": {
          "base_uri": "https://localhost:8080/"
        },
        "id": "RGi88wjL5ZMx",
        "outputId": "7173901e-5132-4245-f19f-a08356996344"
      },
      "execution_count": null,
      "outputs": [
        {
          "output_type": "execute_result",
          "data": {
            "text/plain": [
              "16    85\n",
              "14    55\n",
              "18    23\n",
              "15     5\n",
              "13     5\n",
              "12     3\n",
              "21     3\n",
              "20     1\n",
              "Name: Education, dtype: int64"
            ]
          },
          "metadata": {},
          "execution_count": 23
        }
      ]
    },
    {
      "cell_type": "code",
      "source": [
        "df['Education'].unique()"
      ],
      "metadata": {
        "colab": {
          "base_uri": "https://localhost:8080/"
        },
        "id": "GCPe1UK0TesO",
        "outputId": "f5be5578-684e-4175-b77d-45e079b69d15"
      },
      "execution_count": null,
      "outputs": [
        {
          "output_type": "execute_result",
          "data": {
            "text/plain": [
              "array([14, 15, 12, 13, 16, 18, 20, 21])"
            ]
          },
          "metadata": {},
          "execution_count": 24
        }
      ]
    },
    {
      "cell_type": "code",
      "source": [
        "df['Education'].nunique()"
      ],
      "metadata": {
        "colab": {
          "base_uri": "https://localhost:8080/"
        },
        "id": "mTGOnr5gVv6p",
        "outputId": "b222a37f-a383-47ec-9a0d-eb5f42d76d16"
      },
      "execution_count": null,
      "outputs": [
        {
          "output_type": "execute_result",
          "data": {
            "text/plain": [
              "8"
            ]
          },
          "metadata": {},
          "execution_count": 25
        }
      ]
    },
    {
      "cell_type": "code",
      "source": [
        "print(\"Minimum education of customers (in years) :\", df['Education'].min())\n",
        "print(\"Maximum education of customers(in years) :\", df['Education'].max())"
      ],
      "metadata": {
        "colab": {
          "base_uri": "https://localhost:8080/"
        },
        "id": "eV8DKgrJV3vc",
        "outputId": "6221d493-199c-4b07-84b3-f81117feeacf"
      },
      "execution_count": null,
      "outputs": [
        {
          "output_type": "stream",
          "name": "stdout",
          "text": [
            "Minimum education of customers (in years) : 12\n",
            "Maximum education of customers(in years) : 21\n"
          ]
        }
      ]
    },
    {
      "cell_type": "code",
      "source": [
        "df['Miles'].value_counts()"
      ],
      "metadata": {
        "colab": {
          "base_uri": "https://localhost:8080/"
        },
        "id": "YktwpbpGA-nu",
        "outputId": "4632e070-e197-41c3-cdda-639994785ac1"
      },
      "execution_count": null,
      "outputs": [
        {
          "output_type": "execute_result",
          "data": {
            "text/plain": [
              "85     27\n",
              "95     12\n",
              "66     10\n",
              "75     10\n",
              "47      9\n",
              "106     9\n",
              "94      8\n",
              "113     8\n",
              "53      7\n",
              "100     7\n",
              "180     6\n",
              "200     6\n",
              "56      6\n",
              "64      6\n",
              "127     5\n",
              "160     5\n",
              "42      4\n",
              "150     4\n",
              "38      3\n",
              "74      3\n",
              "170     3\n",
              "120     3\n",
              "103     3\n",
              "132     2\n",
              "141     2\n",
              "280     1\n",
              "260     1\n",
              "300     1\n",
              "240     1\n",
              "112     1\n",
              "212     1\n",
              "80      1\n",
              "140     1\n",
              "21      1\n",
              "169     1\n",
              "188     1\n",
              "360     1\n",
              "Name: Miles, dtype: int64"
            ]
          },
          "metadata": {},
          "execution_count": 27
        }
      ]
    },
    {
      "cell_type": "code",
      "source": [
        "df['Miles'].unique()"
      ],
      "metadata": {
        "colab": {
          "base_uri": "https://localhost:8080/"
        },
        "id": "t8evIfJVWGVs",
        "outputId": "28c5c268-9602-42eb-ec21-484b58a5e2f0"
      },
      "execution_count": null,
      "outputs": [
        {
          "output_type": "execute_result",
          "data": {
            "text/plain": [
              "array([112,  75,  66,  85,  47, 141, 103,  94, 113,  38, 188,  56, 132,\n",
              "       169,  64,  53, 106,  95, 212,  42, 127,  74, 170,  21, 120, 200,\n",
              "       140, 100,  80, 160, 180, 240, 150, 300, 280, 260, 360])"
            ]
          },
          "metadata": {},
          "execution_count": 28
        }
      ]
    },
    {
      "cell_type": "code",
      "source": [
        "df['Miles'].nunique()"
      ],
      "metadata": {
        "colab": {
          "base_uri": "https://localhost:8080/"
        },
        "id": "rrt8v126WW9I",
        "outputId": "e8ab8d9c-7578-4226-8948-701025f78a55"
      },
      "execution_count": null,
      "outputs": [
        {
          "output_type": "execute_result",
          "data": {
            "text/plain": [
              "37"
            ]
          },
          "metadata": {},
          "execution_count": 29
        }
      ]
    },
    {
      "cell_type": "code",
      "source": [
        "print(\"Minimum number of miles on an average the  customers are expected to walk/run in a week :\", df['Miles'].min())\n",
        "print( \"Maximum number of miles on an average the  customers are expected to walk/run in a week ::\", df['Miles'].max())"
      ],
      "metadata": {
        "colab": {
          "base_uri": "https://localhost:8080/"
        },
        "id": "n-5zFL6DWa5a",
        "outputId": "42c3a028-2bd5-4830-ca85-7c0f92719ac3"
      },
      "execution_count": null,
      "outputs": [
        {
          "output_type": "stream",
          "name": "stdout",
          "text": [
            "Minimum number of miles on an average the  customers are expected to walk/run in a week : 21\n",
            "Maximum number of miles on an average the  customers are expected to walk/run in a week :: 360\n"
          ]
        }
      ]
    },
    {
      "cell_type": "code",
      "source": [
        "df['Fitness'].value_counts()"
      ],
      "metadata": {
        "colab": {
          "base_uri": "https://localhost:8080/"
        },
        "id": "451smmfHBJJO",
        "outputId": "746c8630-bd92-4786-e611-3bd035d94437"
      },
      "execution_count": null,
      "outputs": [
        {
          "output_type": "execute_result",
          "data": {
            "text/plain": [
              "3    97\n",
              "5    31\n",
              "2    26\n",
              "4    24\n",
              "1     2\n",
              "Name: Fitness, dtype: int64"
            ]
          },
          "metadata": {},
          "execution_count": 31
        }
      ]
    },
    {
      "cell_type": "code",
      "source": [
        "df['Fitness'].unique()"
      ],
      "metadata": {
        "colab": {
          "base_uri": "https://localhost:8080/"
        },
        "id": "aSng6vabW6U9",
        "outputId": "286adf20-b296-4244-fb05-db1f9b20d846"
      },
      "execution_count": null,
      "outputs": [
        {
          "output_type": "execute_result",
          "data": {
            "text/plain": [
              "array([4, 3, 2, 1, 5])"
            ]
          },
          "metadata": {},
          "execution_count": 32
        }
      ]
    },
    {
      "cell_type": "code",
      "source": [
        "df['Fitness'].nunique()"
      ],
      "metadata": {
        "colab": {
          "base_uri": "https://localhost:8080/"
        },
        "id": "O45PegerYeHY",
        "outputId": "488ee816-5aa8-4364-e00c-aa22ede72098"
      },
      "execution_count": null,
      "outputs": [
        {
          "output_type": "execute_result",
          "data": {
            "text/plain": [
              "5"
            ]
          },
          "metadata": {},
          "execution_count": 33
        }
      ]
    },
    {
      "cell_type": "code",
      "source": [
        "print(\"Minimum age of customers:\", df['Age'].min())\n",
        "print(\"Maximum age of customers:\", df['Age'].max())"
      ],
      "metadata": {
        "colab": {
          "base_uri": "https://localhost:8080/"
        },
        "id": "CHRuZrQVYg0f",
        "outputId": "e1e73d81-9f29-481b-fff6-bee851dd735b"
      },
      "execution_count": null,
      "outputs": [
        {
          "output_type": "stream",
          "name": "stdout",
          "text": [
            "Minimum age of customers: 18\n",
            "Maximum age of customers: 50\n"
          ]
        }
      ]
    },
    {
      "cell_type": "markdown",
      "source": [
        "#Analysing the three variants separately"
      ],
      "metadata": {
        "id": "98Cv1gnHsBOJ"
      }
    },
    {
      "cell_type": "code",
      "source": [
        "#dividing the dataset into three sets\n",
        "\n",
        "df_281=df.loc[df['Product']=='KP281']\n",
        "df_481=df.loc[df['Product']=='KP481']\n",
        "df_781=df.loc[df['Product']=='KP781']"
      ],
      "metadata": {
        "id": "2rUxs6y7pNpJ"
      },
      "execution_count": null,
      "outputs": []
    },
    {
      "cell_type": "markdown",
      "source": [
        "#KP281"
      ],
      "metadata": {
        "id": "ZVJ4YaIs83Ni"
      }
    },
    {
      "cell_type": "code",
      "source": [
        "#analysing KP281\n",
        "df_281.head()"
      ],
      "metadata": {
        "colab": {
          "base_uri": "https://localhost:8080/",
          "height": 206
        },
        "id": "DtngrD61smSM",
        "outputId": "5dd626c6-e49e-4889-a03f-8089e39565de"
      },
      "execution_count": null,
      "outputs": [
        {
          "output_type": "execute_result",
          "data": {
            "text/plain": [
              "  Product  Age  Gender  Education MaritalStatus  Usage  Fitness  Income  Miles\n",
              "0   KP281   18    Male         14        Single      3        4   29562    112\n",
              "1   KP281   19    Male         15        Single      2        3   31836     75\n",
              "2   KP281   19  Female         14     Partnered      4        3   30699     66\n",
              "3   KP281   19    Male         12        Single      3        3   32973     85\n",
              "4   KP281   20    Male         13     Partnered      4        2   35247     47"
            ],
            "text/html": [
              "\n",
              "  <div id=\"df-985d7b9f-1a87-44fd-b6fd-70210863a50f\">\n",
              "    <div class=\"colab-df-container\">\n",
              "      <div>\n",
              "<style scoped>\n",
              "    .dataframe tbody tr th:only-of-type {\n",
              "        vertical-align: middle;\n",
              "    }\n",
              "\n",
              "    .dataframe tbody tr th {\n",
              "        vertical-align: top;\n",
              "    }\n",
              "\n",
              "    .dataframe thead th {\n",
              "        text-align: right;\n",
              "    }\n",
              "</style>\n",
              "<table border=\"1\" class=\"dataframe\">\n",
              "  <thead>\n",
              "    <tr style=\"text-align: right;\">\n",
              "      <th></th>\n",
              "      <th>Product</th>\n",
              "      <th>Age</th>\n",
              "      <th>Gender</th>\n",
              "      <th>Education</th>\n",
              "      <th>MaritalStatus</th>\n",
              "      <th>Usage</th>\n",
              "      <th>Fitness</th>\n",
              "      <th>Income</th>\n",
              "      <th>Miles</th>\n",
              "    </tr>\n",
              "  </thead>\n",
              "  <tbody>\n",
              "    <tr>\n",
              "      <th>0</th>\n",
              "      <td>KP281</td>\n",
              "      <td>18</td>\n",
              "      <td>Male</td>\n",
              "      <td>14</td>\n",
              "      <td>Single</td>\n",
              "      <td>3</td>\n",
              "      <td>4</td>\n",
              "      <td>29562</td>\n",
              "      <td>112</td>\n",
              "    </tr>\n",
              "    <tr>\n",
              "      <th>1</th>\n",
              "      <td>KP281</td>\n",
              "      <td>19</td>\n",
              "      <td>Male</td>\n",
              "      <td>15</td>\n",
              "      <td>Single</td>\n",
              "      <td>2</td>\n",
              "      <td>3</td>\n",
              "      <td>31836</td>\n",
              "      <td>75</td>\n",
              "    </tr>\n",
              "    <tr>\n",
              "      <th>2</th>\n",
              "      <td>KP281</td>\n",
              "      <td>19</td>\n",
              "      <td>Female</td>\n",
              "      <td>14</td>\n",
              "      <td>Partnered</td>\n",
              "      <td>4</td>\n",
              "      <td>3</td>\n",
              "      <td>30699</td>\n",
              "      <td>66</td>\n",
              "    </tr>\n",
              "    <tr>\n",
              "      <th>3</th>\n",
              "      <td>KP281</td>\n",
              "      <td>19</td>\n",
              "      <td>Male</td>\n",
              "      <td>12</td>\n",
              "      <td>Single</td>\n",
              "      <td>3</td>\n",
              "      <td>3</td>\n",
              "      <td>32973</td>\n",
              "      <td>85</td>\n",
              "    </tr>\n",
              "    <tr>\n",
              "      <th>4</th>\n",
              "      <td>KP281</td>\n",
              "      <td>20</td>\n",
              "      <td>Male</td>\n",
              "      <td>13</td>\n",
              "      <td>Partnered</td>\n",
              "      <td>4</td>\n",
              "      <td>2</td>\n",
              "      <td>35247</td>\n",
              "      <td>47</td>\n",
              "    </tr>\n",
              "  </tbody>\n",
              "</table>\n",
              "</div>\n",
              "      <button class=\"colab-df-convert\" onclick=\"convertToInteractive('df-985d7b9f-1a87-44fd-b6fd-70210863a50f')\"\n",
              "              title=\"Convert this dataframe to an interactive table.\"\n",
              "              style=\"display:none;\">\n",
              "        \n",
              "  <svg xmlns=\"http://www.w3.org/2000/svg\" height=\"24px\"viewBox=\"0 0 24 24\"\n",
              "       width=\"24px\">\n",
              "    <path d=\"M0 0h24v24H0V0z\" fill=\"none\"/>\n",
              "    <path d=\"M18.56 5.44l.94 2.06.94-2.06 2.06-.94-2.06-.94-.94-2.06-.94 2.06-2.06.94zm-11 1L8.5 8.5l.94-2.06 2.06-.94-2.06-.94L8.5 2.5l-.94 2.06-2.06.94zm10 10l.94 2.06.94-2.06 2.06-.94-2.06-.94-.94-2.06-.94 2.06-2.06.94z\"/><path d=\"M17.41 7.96l-1.37-1.37c-.4-.4-.92-.59-1.43-.59-.52 0-1.04.2-1.43.59L10.3 9.45l-7.72 7.72c-.78.78-.78 2.05 0 2.83L4 21.41c.39.39.9.59 1.41.59.51 0 1.02-.2 1.41-.59l7.78-7.78 2.81-2.81c.8-.78.8-2.07 0-2.86zM5.41 20L4 18.59l7.72-7.72 1.47 1.35L5.41 20z\"/>\n",
              "  </svg>\n",
              "      </button>\n",
              "      \n",
              "  <style>\n",
              "    .colab-df-container {\n",
              "      display:flex;\n",
              "      flex-wrap:wrap;\n",
              "      gap: 12px;\n",
              "    }\n",
              "\n",
              "    .colab-df-convert {\n",
              "      background-color: #E8F0FE;\n",
              "      border: none;\n",
              "      border-radius: 50%;\n",
              "      cursor: pointer;\n",
              "      display: none;\n",
              "      fill: #1967D2;\n",
              "      height: 32px;\n",
              "      padding: 0 0 0 0;\n",
              "      width: 32px;\n",
              "    }\n",
              "\n",
              "    .colab-df-convert:hover {\n",
              "      background-color: #E2EBFA;\n",
              "      box-shadow: 0px 1px 2px rgba(60, 64, 67, 0.3), 0px 1px 3px 1px rgba(60, 64, 67, 0.15);\n",
              "      fill: #174EA6;\n",
              "    }\n",
              "\n",
              "    [theme=dark] .colab-df-convert {\n",
              "      background-color: #3B4455;\n",
              "      fill: #D2E3FC;\n",
              "    }\n",
              "\n",
              "    [theme=dark] .colab-df-convert:hover {\n",
              "      background-color: #434B5C;\n",
              "      box-shadow: 0px 1px 3px 1px rgba(0, 0, 0, 0.15);\n",
              "      filter: drop-shadow(0px 1px 2px rgba(0, 0, 0, 0.3));\n",
              "      fill: #FFFFFF;\n",
              "    }\n",
              "  </style>\n",
              "\n",
              "      <script>\n",
              "        const buttonEl =\n",
              "          document.querySelector('#df-985d7b9f-1a87-44fd-b6fd-70210863a50f button.colab-df-convert');\n",
              "        buttonEl.style.display =\n",
              "          google.colab.kernel.accessAllowed ? 'block' : 'none';\n",
              "\n",
              "        async function convertToInteractive(key) {\n",
              "          const element = document.querySelector('#df-985d7b9f-1a87-44fd-b6fd-70210863a50f');\n",
              "          const dataTable =\n",
              "            await google.colab.kernel.invokeFunction('convertToInteractive',\n",
              "                                                     [key], {});\n",
              "          if (!dataTable) return;\n",
              "\n",
              "          const docLinkHtml = 'Like what you see? Visit the ' +\n",
              "            '<a target=\"_blank\" href=https://colab.research.google.com/notebooks/data_table.ipynb>data table notebook</a>'\n",
              "            + ' to learn more about interactive tables.';\n",
              "          element.innerHTML = '';\n",
              "          dataTable['output_type'] = 'display_data';\n",
              "          await google.colab.output.renderOutput(dataTable, element);\n",
              "          const docLink = document.createElement('div');\n",
              "          docLink.innerHTML = docLinkHtml;\n",
              "          element.appendChild(docLink);\n",
              "        }\n",
              "      </script>\n",
              "    </div>\n",
              "  </div>\n",
              "  "
            ]
          },
          "metadata": {},
          "execution_count": 36
        }
      ]
    },
    {
      "cell_type": "code",
      "source": [
        "#Checking out the no:of Male and Female customers\n",
        "\n",
        "df_281['Gender'].value_counts()"
      ],
      "metadata": {
        "colab": {
          "base_uri": "https://localhost:8080/"
        },
        "id": "OiMrtrlutIql",
        "outputId": "b6a71958-eafd-46a5-d9e3-a1235fd3a8d8"
      },
      "execution_count": null,
      "outputs": [
        {
          "output_type": "execute_result",
          "data": {
            "text/plain": [
              "Male      40\n",
              "Female    40\n",
              "Name: Gender, dtype: int64"
            ]
          },
          "metadata": {},
          "execution_count": 37
        }
      ]
    },
    {
      "cell_type": "code",
      "source": [
        "#checking Marital Status of the customers\n",
        "df_281['MaritalStatus'].value_counts()"
      ],
      "metadata": {
        "colab": {
          "base_uri": "https://localhost:8080/"
        },
        "id": "RBNveA1ytTVk",
        "outputId": "08e8c438-bb7c-4cac-f892-ec2e11f8369a"
      },
      "execution_count": null,
      "outputs": [
        {
          "output_type": "execute_result",
          "data": {
            "text/plain": [
              "Partnered    48\n",
              "Single       32\n",
              "Name: MaritalStatus, dtype: int64"
            ]
          },
          "metadata": {},
          "execution_count": 38
        }
      ]
    },
    {
      "cell_type": "code",
      "source": [
        "#Age related analysis\n",
        "print(\"Max age of customer using KP281:\",df_281['Age'].max())\n",
        "print(\"Min age of customer using KP281:\",df_281['Age'].min())\n",
        "print(\"Mean age of customer using KP281:\",df_281['Age'].mean())\n",
        "print(\"Median age of customer using KP281:\",df_281['Age'].median())\n",
        "print(\"Mode age of customer using KP281:\",df_281['Age'].mode()[0])\n",
        "print(\"25 percentile of age of customers using KP281:\",np.percentile(np.array(df_281['Age']),25))\n",
        "print(\"50 percentile of age of customers using KP281:\",np.percentile(np.array(df_281['Age']),50))\n",
        "print(\"75 percentile of age of customers using KP281:\",np.percentile(np.array(df_281['Age']),75))"
      ],
      "metadata": {
        "colab": {
          "base_uri": "https://localhost:8080/"
        },
        "id": "vCTcfZhB135W",
        "outputId": "9c5b2bc1-234d-4613-e5e3-da9065046cdb"
      },
      "execution_count": null,
      "outputs": [
        {
          "output_type": "stream",
          "name": "stdout",
          "text": [
            "Max age of customer using KP281: 50\n",
            "Min age of customer using KP281: 18\n",
            "Mean age of customer using KP281: 28.55\n",
            "Median age of customer using KP281: 26.0\n",
            "Mode age of customer using KP281: 23\n",
            "25 percentile of age of customers using KP281: 23.0\n",
            "50 percentile of age of customers using KP281: 26.0\n",
            "75 percentile of age of customers using KP281: 33.0\n"
          ]
        }
      ]
    },
    {
      "cell_type": "code",
      "source": [
        "#Education related Analysis\n",
        "print(\"Max Education of customer using KP281:\",df_281['Education'].max())\n",
        "print(\"Min Education of customer using KP281:\",df_281['Education'].min())\n",
        "print(\"Mean Education of customer using KP281:\",df_281['Education'].mean())\n",
        "print(\"Median Education of customer using KP281:\",df_281['Education'].median())\n",
        "print(\"Mode Edcucation of customer using KP281:\",df_281['Education'].mode()[0])\n",
        "print(\"25 percentile of Education of customers using KP281:\",np.percentile(np.array(df_281['Education']),25))\n",
        "print(\"50 percentile of Education of customers using KP281:\",np.percentile(np.array(df_281['Education']),50))\n",
        "print(\"75 percentile of Education of customers using KP281:\",np.percentile(np.array(df_281['Education']),75))\n"
      ],
      "metadata": {
        "colab": {
          "base_uri": "https://localhost:8080/"
        },
        "id": "xdLIltbG5ffv",
        "outputId": "232271b6-442a-43f0-ecf8-ca68bae987aa"
      },
      "execution_count": null,
      "outputs": [
        {
          "output_type": "stream",
          "name": "stdout",
          "text": [
            "Max Education of customer using KP281: 18\n",
            "Min Education of customer using KP281: 12\n",
            "Mean Education of customer using KP281: 15.0375\n",
            "Median Education of customer using KP281: 16.0\n",
            "Mode Edcucation of customer using KP281: 16\n",
            "25 percentile of Education of customers using KP281: 14.0\n",
            "50 percentile of Education of customers using KP281: 16.0\n",
            "75 percentile of Education of customers using KP281: 16.0\n"
          ]
        }
      ]
    },
    {
      "cell_type": "code",
      "source": [
        "#Income related Analysis\n",
        "print(\"Max Income of customer using KP281:\",df_281['Income'].max())\n",
        "print(\"Min Income of customer using KP281:\",df_281['Income'].min())\n",
        "print(\"Mean Income of customer using KP281:\",df_281['Income'].mean())\n",
        "print(\"Median Income of customer using KP281:\",df_281['Income'].median())\n",
        "print(\"Mode Income of customer using KP281:\",df_281['Income'].mode()[0])\n",
        "print(\"25 percentile of Income of customers using KP281:\",np.percentile(np.array(df_281['Income']),25))\n",
        "print(\"50 percentile of Income of customers using KP281:\",np.percentile(np.array(df_281['Income']),50))\n",
        "print(\"75 percentile of Income of customers using KP281:\",np.percentile(np.array(df_281['Income']),75))"
      ],
      "metadata": {
        "colab": {
          "base_uri": "https://localhost:8080/"
        },
        "id": "ztrxKgS06WU4",
        "outputId": "9287b9c2-7718-4a2c-d7ed-57821079b6e0"
      },
      "execution_count": null,
      "outputs": [
        {
          "output_type": "stream",
          "name": "stdout",
          "text": [
            "Max Income of customer using KP281: 68220\n",
            "Min Income of customer using KP281: 29562\n",
            "Mean Income of customer using KP281: 46418.025\n",
            "Median Income of customer using KP281: 46617.0\n",
            "Mode Income of customer using KP281: 46617\n",
            "25 percentile of Income of customers using KP281: 38658.0\n",
            "50 percentile of Income of customers using KP281: 46617.0\n",
            "75 percentile of Income of customers using KP281: 53439.0\n"
          ]
        }
      ]
    },
    {
      "cell_type": "code",
      "source": [
        "#Usage related Analysis\n",
        "print(\"Max Usage of customer using KP281:\",df_281['Usage'].max())\n",
        "print(\"Min Usage of customer using KP281:\",df_281['Usage'].min())\n",
        "print(\"Mean Usage of customer using KP281:\",df_281['Usage'].mean())\n",
        "print(\"Median Usage of customer using KP281:\",df_281['Usage'].median())\n",
        "print(\"Mode Usage of customer using KP281:\",df_281['Usage'].mode()[0])\n",
        "print(\"25 percentile of Usage of customers using KP281:\",np.percentile(np.array(df_281['Usage']),25))\n",
        "print(\"50 percentile of Usage of customers using KP281:\",np.percentile(np.array(df_281['Usage']),50))\n",
        "print(\"75 percentile of Usage of customers using KP281:\",np.percentile(np.array(df_281['Usage']),75))"
      ],
      "metadata": {
        "colab": {
          "base_uri": "https://localhost:8080/"
        },
        "id": "rMd4LiSD7O03",
        "outputId": "9d4c52a2-2a49-4693-8025-12aa5b407196"
      },
      "execution_count": null,
      "outputs": [
        {
          "output_type": "stream",
          "name": "stdout",
          "text": [
            "Max Usage of customer using KP281: 5\n",
            "Min Usage of customer using KP281: 2\n",
            "Mean Usage of customer using KP281: 3.0875\n",
            "Median Usage of customer using KP281: 3.0\n",
            "Mode Usage of customer using KP281: 3\n",
            "25 percentile of Usage of customers using KP281: 3.0\n",
            "50 percentile of Usage of customers using KP281: 3.0\n",
            "75 percentile of Usage of customers using KP281: 4.0\n"
          ]
        }
      ]
    },
    {
      "cell_type": "code",
      "source": [
        "#fitness related Analysis\n",
        "print(\"Max Fitness of customer using KP281:\",df_281['Fitness'].max())\n",
        "print(\"Min Fitness of customer using KP281:\",df_281['Fitness'].min())\n",
        "print(\"Mean Fitness of customer using KP281:\",df_281['Fitness'].mean())\n",
        "print(\"Median Fitness of customer using KP281:\",df_281['Fitness'].median())\n",
        "print(\"Mode Fitness of customer using KP281:\",df_281['Fitness'].mode()[0])\n",
        "print(\"25 percentile of Fitness of customers using KP281:\",np.percentile(np.array(df_281['Fitness']),25))\n",
        "print(\"50 percentile of Fitness of customers using KP281:\",np.percentile(np.array(df_281['Fitness']),50))\n",
        "print(\"75 percentile of Fitness of customers using KP281:\",np.percentile(np.array(df_281['Fitness']),75))"
      ],
      "metadata": {
        "colab": {
          "base_uri": "https://localhost:8080/"
        },
        "id": "n9QVjIKr7zO6",
        "outputId": "81fbd059-6ed3-430a-fb44-f69a0000eca3"
      },
      "execution_count": null,
      "outputs": [
        {
          "output_type": "stream",
          "name": "stdout",
          "text": [
            "Max Fitness of customer using KP281: 5\n",
            "Min Fitness of customer using KP281: 1\n",
            "Mean Fitness of customer using KP281: 2.9625\n",
            "Median Fitness of customer using KP281: 3.0\n",
            "Mode Fitness of customer using KP281: 3\n",
            "25 percentile of Fitness of customers using KP281: 3.0\n",
            "50 percentile of Fitness of customers using KP281: 3.0\n",
            "75 percentile of Fitness of customers using KP281: 3.0\n"
          ]
        }
      ]
    },
    {
      "cell_type": "code",
      "source": [
        "#Miles related Analysis\n",
        "print(\"Max Miles of customer using KP281:\",df_281['Miles'].max())\n",
        "print(\"Min Miles of customer using KP281:\",df_281['Miles'].min())\n",
        "print(\"Mean Miles of customer using KP281:\",df_281['Miles'].mean())\n",
        "print(\"Median Miles of customer using KP281:\",df_281['Miles'].median())\n",
        "print(\"Mode Miles of customer using KP281:\",df_281['Miles'].mode()[0])\n",
        "print(\"25 percentile of Miles of customers using KP281:\",np.percentile(np.array(df_281['Miles']),25))\n",
        "print(\"50 percentile of Miles of customers using KP281:\",np.percentile(np.array(df_281['Miles']),50))\n",
        "print(\"75 percentile of Miles of customers using KP281:\",np.percentile(np.array(df_281['Miles']),75))"
      ],
      "metadata": {
        "colab": {
          "base_uri": "https://localhost:8080/"
        },
        "id": "NG4U0fVC8YFm",
        "outputId": "59bf0c43-ebe4-4c62-b9d2-6cb1813080e7"
      },
      "execution_count": null,
      "outputs": [
        {
          "output_type": "stream",
          "name": "stdout",
          "text": [
            "Max Miles of customer using KP281: 188\n",
            "Min Miles of customer using KP281: 38\n",
            "Mean Miles of customer using KP281: 82.7875\n",
            "Median Miles of customer using KP281: 85.0\n",
            "Mode Miles of customer using KP281: 85\n",
            "25 percentile of Miles of customers using KP281: 66.0\n",
            "50 percentile of Miles of customers using KP281: 85.0\n",
            "75 percentile of Miles of customers using KP281: 94.0\n"
          ]
        }
      ]
    },
    {
      "cell_type": "code",
      "source": [
        "#checking the No of :\n",
        "\n",
        "# Female  Single and Female Partnered\n",
        "# Male Single and Male Partnered\n",
        "\n",
        "temp1=pd.DataFrame(df_281[['Gender','MaritalStatus']].value_counts().sort_values())\n",
        "temp1=temp1.reset_index()\n",
        "temp1.columns=['Gender','MaritalStatus','Count']\n",
        "temp1"
      ],
      "metadata": {
        "colab": {
          "base_uri": "https://localhost:8080/",
          "height": 175
        },
        "id": "Ku1LOCM_t7Fh",
        "outputId": "46b5d369-3430-48f4-d7eb-d97ef02655d6"
      },
      "execution_count": null,
      "outputs": [
        {
          "output_type": "execute_result",
          "data": {
            "text/plain": [
              "   Gender MaritalStatus  Count\n",
              "0  Female        Single     13\n",
              "1    Male        Single     19\n",
              "2    Male     Partnered     21\n",
              "3  Female     Partnered     27"
            ],
            "text/html": [
              "\n",
              "  <div id=\"df-cc481077-673c-49c4-8bec-9d543c75756b\">\n",
              "    <div class=\"colab-df-container\">\n",
              "      <div>\n",
              "<style scoped>\n",
              "    .dataframe tbody tr th:only-of-type {\n",
              "        vertical-align: middle;\n",
              "    }\n",
              "\n",
              "    .dataframe tbody tr th {\n",
              "        vertical-align: top;\n",
              "    }\n",
              "\n",
              "    .dataframe thead th {\n",
              "        text-align: right;\n",
              "    }\n",
              "</style>\n",
              "<table border=\"1\" class=\"dataframe\">\n",
              "  <thead>\n",
              "    <tr style=\"text-align: right;\">\n",
              "      <th></th>\n",
              "      <th>Gender</th>\n",
              "      <th>MaritalStatus</th>\n",
              "      <th>Count</th>\n",
              "    </tr>\n",
              "  </thead>\n",
              "  <tbody>\n",
              "    <tr>\n",
              "      <th>0</th>\n",
              "      <td>Female</td>\n",
              "      <td>Single</td>\n",
              "      <td>13</td>\n",
              "    </tr>\n",
              "    <tr>\n",
              "      <th>1</th>\n",
              "      <td>Male</td>\n",
              "      <td>Single</td>\n",
              "      <td>19</td>\n",
              "    </tr>\n",
              "    <tr>\n",
              "      <th>2</th>\n",
              "      <td>Male</td>\n",
              "      <td>Partnered</td>\n",
              "      <td>21</td>\n",
              "    </tr>\n",
              "    <tr>\n",
              "      <th>3</th>\n",
              "      <td>Female</td>\n",
              "      <td>Partnered</td>\n",
              "      <td>27</td>\n",
              "    </tr>\n",
              "  </tbody>\n",
              "</table>\n",
              "</div>\n",
              "      <button class=\"colab-df-convert\" onclick=\"convertToInteractive('df-cc481077-673c-49c4-8bec-9d543c75756b')\"\n",
              "              title=\"Convert this dataframe to an interactive table.\"\n",
              "              style=\"display:none;\">\n",
              "        \n",
              "  <svg xmlns=\"http://www.w3.org/2000/svg\" height=\"24px\"viewBox=\"0 0 24 24\"\n",
              "       width=\"24px\">\n",
              "    <path d=\"M0 0h24v24H0V0z\" fill=\"none\"/>\n",
              "    <path d=\"M18.56 5.44l.94 2.06.94-2.06 2.06-.94-2.06-.94-.94-2.06-.94 2.06-2.06.94zm-11 1L8.5 8.5l.94-2.06 2.06-.94-2.06-.94L8.5 2.5l-.94 2.06-2.06.94zm10 10l.94 2.06.94-2.06 2.06-.94-2.06-.94-.94-2.06-.94 2.06-2.06.94z\"/><path d=\"M17.41 7.96l-1.37-1.37c-.4-.4-.92-.59-1.43-.59-.52 0-1.04.2-1.43.59L10.3 9.45l-7.72 7.72c-.78.78-.78 2.05 0 2.83L4 21.41c.39.39.9.59 1.41.59.51 0 1.02-.2 1.41-.59l7.78-7.78 2.81-2.81c.8-.78.8-2.07 0-2.86zM5.41 20L4 18.59l7.72-7.72 1.47 1.35L5.41 20z\"/>\n",
              "  </svg>\n",
              "      </button>\n",
              "      \n",
              "  <style>\n",
              "    .colab-df-container {\n",
              "      display:flex;\n",
              "      flex-wrap:wrap;\n",
              "      gap: 12px;\n",
              "    }\n",
              "\n",
              "    .colab-df-convert {\n",
              "      background-color: #E8F0FE;\n",
              "      border: none;\n",
              "      border-radius: 50%;\n",
              "      cursor: pointer;\n",
              "      display: none;\n",
              "      fill: #1967D2;\n",
              "      height: 32px;\n",
              "      padding: 0 0 0 0;\n",
              "      width: 32px;\n",
              "    }\n",
              "\n",
              "    .colab-df-convert:hover {\n",
              "      background-color: #E2EBFA;\n",
              "      box-shadow: 0px 1px 2px rgba(60, 64, 67, 0.3), 0px 1px 3px 1px rgba(60, 64, 67, 0.15);\n",
              "      fill: #174EA6;\n",
              "    }\n",
              "\n",
              "    [theme=dark] .colab-df-convert {\n",
              "      background-color: #3B4455;\n",
              "      fill: #D2E3FC;\n",
              "    }\n",
              "\n",
              "    [theme=dark] .colab-df-convert:hover {\n",
              "      background-color: #434B5C;\n",
              "      box-shadow: 0px 1px 3px 1px rgba(0, 0, 0, 0.15);\n",
              "      filter: drop-shadow(0px 1px 2px rgba(0, 0, 0, 0.3));\n",
              "      fill: #FFFFFF;\n",
              "    }\n",
              "  </style>\n",
              "\n",
              "      <script>\n",
              "        const buttonEl =\n",
              "          document.querySelector('#df-cc481077-673c-49c4-8bec-9d543c75756b button.colab-df-convert');\n",
              "        buttonEl.style.display =\n",
              "          google.colab.kernel.accessAllowed ? 'block' : 'none';\n",
              "\n",
              "        async function convertToInteractive(key) {\n",
              "          const element = document.querySelector('#df-cc481077-673c-49c4-8bec-9d543c75756b');\n",
              "          const dataTable =\n",
              "            await google.colab.kernel.invokeFunction('convertToInteractive',\n",
              "                                                     [key], {});\n",
              "          if (!dataTable) return;\n",
              "\n",
              "          const docLinkHtml = 'Like what you see? Visit the ' +\n",
              "            '<a target=\"_blank\" href=https://colab.research.google.com/notebooks/data_table.ipynb>data table notebook</a>'\n",
              "            + ' to learn more about interactive tables.';\n",
              "          element.innerHTML = '';\n",
              "          dataTable['output_type'] = 'display_data';\n",
              "          await google.colab.output.renderOutput(dataTable, element);\n",
              "          const docLink = document.createElement('div');\n",
              "          docLink.innerHTML = docLinkHtml;\n",
              "          element.appendChild(docLink);\n",
              "        }\n",
              "      </script>\n",
              "    </div>\n",
              "  </div>\n",
              "  "
            ]
          },
          "metadata": {},
          "execution_count": 45
        }
      ]
    },
    {
      "cell_type": "code",
      "source": [
        "sns.barplot(data=temp1,x='Gender',hue='MaritalStatus',y='Count')"
      ],
      "metadata": {
        "colab": {
          "base_uri": "https://localhost:8080/",
          "height": 297
        },
        "id": "-lJPZ2Zsw6BD",
        "outputId": "aaab948d-26c1-4d09-f72e-eb4f6a6c36e5"
      },
      "execution_count": null,
      "outputs": [
        {
          "output_type": "execute_result",
          "data": {
            "text/plain": [
              "<matplotlib.axes._subplots.AxesSubplot at 0x7f06a774a520>"
            ]
          },
          "metadata": {},
          "execution_count": 46
        },
        {
          "output_type": "display_data",
          "data": {
            "text/plain": [
              "<Figure size 432x288 with 1 Axes>"
            ],
            "image/png": "[encoded data removed]"
          },
          "metadata": {
            "needs_background": "light"
          }
        }
      ]
    },
    {
      "cell_type": "code",
      "source": [
        "#Analysing the female and male customers of KP281 separately\n",
        "df_281_males=df_281.loc[df_281['Gender']=='Male']\n",
        "df_281_females=df_281.loc[df_281['Gender']=='Female']"
      ],
      "metadata": {
        "id": "wEcKhl-N1uFL"
      },
      "execution_count": null,
      "outputs": []
    },
    {
      "cell_type": "code",
      "source": [
        "#Age related analysis if female and male customers\n",
        "#Comparison\n",
        "print(\"Max age of  male customer using KP281:\",df_281_males['Age'].max())\n",
        "print(\"Max age of  Female customer using KP281:\",df_281_females['Age'].max())\n",
        "print(\"==================================================================\")\n",
        "print(\"Min age of male customer using KP281:\",df_281_males['Age'].min())\n",
        "print(\"Min age of  female customer using KP281:\",df_281_females['Age'].min())\n",
        "print(\"==================================================================\")\n",
        "print(\"Mean age of male customers using KP281:\",df_281_males['Age'].mean())\n",
        "print(\"Mean age of female customers using KP281:\",df_281_females['Age'].mean())\n",
        "print(\"==================================================================\")\n",
        "print(\"Median age of male customers using KP281:\",df_281_males['Age'].median())\n",
        "print(\"Median age of female customers using KP281:\",df_281_females['Age'].median())\n",
        "print(\"==================================================================\")\n",
        "print(\"Mode age of male customer using KP281:\",df_281_males['Age'].mode()[0])\n",
        "print(\"Mode age of female customer using KP281:\",df_281_females['Age'].mode()[0])\n",
        "print(\"==================================================================\")\n",
        "print(\"25 percentile of  age of male customers using KP281:\",np.percentile(np.array(df_281_males['Age']),25))\n",
        "print(\"25 percentile of  age of  female customers using KP281:\",np.percentile(np.array(df_281_females['Age']),25))\n",
        "print(\"==================================================================\")\n",
        "print(\"50 percentile of age of male customers using KP281 (median):\",np.percentile(np.array(df_281_males['Age']),50))\n",
        "print(\"50 percentile of age of female customers using KP281 (median):\",np.percentile(np.array(df_281_females['Age']),50))\n",
        "print(\"==================================================================\")\n",
        "print(\"75 percentile of age of male customers using KP281:\",np.percentile(np.array(df_281_males['Age']),75))\n",
        "print(\"75 percentile of age of female customers using KP281:\",np.percentile(np.array(df_281_females['Age']),75))"
      ],
      "metadata": {
        "colab": {
          "base_uri": "https://localhost:8080/"
        },
        "id": "PL_-McaF_vVN",
        "outputId": "d8a68d5c-2ce9-4a86-b28b-bcef4b1603b0"
      },
      "execution_count": null,
      "outputs": [
        {
          "output_type": "stream",
          "name": "stdout",
          "text": [
            "Max age of  male customer using KP281: 47\n",
            "Max age of  Female customer using KP281: 50\n",
            "==================================================================\n",
            "Min age of male customer using KP281: 18\n",
            "Min age of  female customer using KP281: 19\n",
            "==================================================================\n",
            "Mean age of male customers using KP281: 28.65\n",
            "Mean age of female customers using KP281: 28.45\n",
            "==================================================================\n",
            "Median age of male customers using KP281: 26.0\n",
            "Median age of female customers using KP281: 26.5\n",
            "==================================================================\n",
            "Mode age of male customer using KP281: 23\n",
            "Mode age of female customer using KP281: 25\n",
            "==================================================================\n",
            "25 percentile of  age of male customers using KP281: 23.0\n",
            "25 percentile of  age of  female customers using KP281: 23.75\n",
            "==================================================================\n",
            "50 percentile of age of male customers using KP281 (median): 26.0\n",
            "50 percentile of age of female customers using KP281 (median): 26.5\n",
            "==================================================================\n",
            "75 percentile of age of male customers using KP281: 34.25\n",
            "75 percentile of age of female customers using KP281: 32.25\n"
          ]
        }
      ]
    },
    {
      "cell_type": "code",
      "source": [
        "#Education related analysis if female and male customers\n",
        "#Comparison\n",
        "\n",
        "print(\"Max Education of  male customer using KP281:\",df_281_males['Education'].max())\n",
        "print(\"Max Education of  Female customer using KP281:\",df_281_females['Education'].max())\n",
        "print(\"==================================================================\")\n",
        "print(\"Min Education of male customer using KP281:\",df_281_males['Education'].min())\n",
        "print(\"Min Education of  female customer using KP281:\",df_281_females['Education'].min())\n",
        "print(\"==================================================================\")\n",
        "print(\"Mean Education of male customers using KP281:\",df_281_males['Education'].mean())\n",
        "print(\"Mean Education of female customers using KP281:\",df_281_females['Education'].mean())\n",
        "print(\"==================================================================\")\n",
        "print(\"Median Education of male customers using KP281:\",df_281_males['Education'].median())\n",
        "print(\"Median Education of female customers using KP281:\",df_281_females['Education'].median())\n",
        "print(\"==================================================================\")\n",
        "print(\"Mode Education of male customer using KP281:\",df_281_males['Education'].mode()[0])\n",
        "print(\"Mode Education of female customer using KP281:\",df_281_females['Education'].mode()[0])\n",
        "print(\"==================================================================\")\n",
        "print(\"25 percentile of  Education of male customers using KP281:\",np.percentile(np.array(df_281_males['Education']),25))\n",
        "print(\"25 percentile of  Education of  female customers using KP281:\",np.percentile(np.array(df_281_females['Education']),25))\n",
        "print(\"==================================================================\")\n",
        "print(\"50 percentile of Education of male customers using KP281 (median):\",np.percentile(np.array(df_281_males['Education']),50))\n",
        "print(\"50 percentile of Education of female customers using KP281 (median):\",np.percentile(np.array(df_281_females['Education']),50))\n",
        "print(\"==================================================================\")\n",
        "print(\"75 percentile of Education of male customers using KP281:\",np.percentile(np.array(df_281_males['Education']),75))\n",
        "print(\"75 percentile of Education of female customers using KP281:\",np.percentile(np.array(df_281_females['Education']),75))\n"
      ],
      "metadata": {
        "colab": {
          "base_uri": "https://localhost:8080/"
        },
        "id": "yw3HIKtoCtQQ",
        "outputId": "1f77e70c-222f-42c9-99d8-f470698b0e45"
      },
      "execution_count": null,
      "outputs": [
        {
          "output_type": "stream",
          "name": "stdout",
          "text": [
            "Max Education of  male customer using KP281: 18\n",
            "Max Education of  Female customer using KP281: 18\n",
            "==================================================================\n",
            "Min Education of male customer using KP281: 12\n",
            "Min Education of  female customer using KP281: 14\n",
            "==================================================================\n",
            "Mean Education of male customers using KP281: 14.975\n",
            "Mean Education of female customers using KP281: 15.1\n",
            "==================================================================\n",
            "Median Education of male customers using KP281: 16.0\n",
            "Median Education of female customers using KP281: 15.5\n",
            "==================================================================\n",
            "Mode Education of male customer using KP281: 16\n",
            "Mode Education of female customer using KP281: 16\n",
            "==================================================================\n",
            "25 percentile of  Education of male customers using KP281: 14.0\n",
            "25 percentile of  Education of  female customers using KP281: 14.0\n",
            "==================================================================\n",
            "50 percentile of Education of male customers using KP281 (median): 16.0\n",
            "50 percentile of Education of female customers using KP281 (median): 15.5\n",
            "==================================================================\n",
            "75 percentile of Education of male customers using KP281: 16.0\n",
            "75 percentile of Education of female customers using KP281: 16.0\n"
          ]
        }
      ]
    },
    {
      "cell_type": "code",
      "source": [
        "#Income related analysis of female and male customers\n",
        "#Comparison\n",
        "\n",
        "print(\"Max Income of  male customer using KP281:\",df_281_males['Income'].max())\n",
        "print(\"Max Income of  Female customer using KP281:\",df_281_females['Income'].max())\n",
        "print(\"==================================================================\")\n",
        "print(\"Min Income of male customer using KP281:\",df_281_males['Income'].min())\n",
        "print(\"Min Income of  female customer using KP281:\",df_281_females['Income'].min())\n",
        "print(\"==================================================================\")\n",
        "print(\"Mean Income of male customers using KP281:\",df_281_males['Income'].mean())\n",
        "print(\"Mean Income of female customers using KP281:\",df_281_females['Income'].mean())\n",
        "print(\"==================================================================\")\n",
        "print(\"Median Income of male customers using KP281:\",df_281_males['Income'].median())\n",
        "print(\"Median Income of female customers using KP281:\",df_281_females['Income'].median())\n",
        "print(\"==================================================================\")\n",
        "print(\"Mode Income of male customer using KP281:\",df_281_males['Income'].mode()[0])\n",
        "print(\"Mode Income of female customer using KP281:\",df_281_females['Income'].mode()[0])\n",
        "print(\"==================================================================\")\n",
        "print(\"25 percentile of  Income of male customers using KP281:\",np.percentile(np.array(df_281_males['Income']),25))\n",
        "print(\"25 percentile of Income  of  female customers using KP281:\",np.percentile(np.array(df_281_females['Income']),25))\n",
        "print(\"==================================================================\")\n",
        "print(\"50 percentile of Income of male customers using KP281 (median):\",np.percentile(np.array(df_281_males['Income']),50))\n",
        "print(\"50 percentile of Income of female customers using KP281 (median):\",np.percentile(np.array(df_281_females['Income']),50))\n",
        "print(\"==================================================================\")\n",
        "print(\"75 percentile of Income of male customers using KP281:\",np.percentile(np.array(df_281_males['Income']),75))\n",
        "print(\"75 percentile of Income of female customers using KP281:\",np.percentile(np.array(df_281_females['Income']),75))"
      ],
      "metadata": {
        "colab": {
          "base_uri": "https://localhost:8080/"
        },
        "id": "NZ8KjiO_FvdZ",
        "outputId": "20d0b811-cbda-4e7f-b700-583808b32be7"
      },
      "execution_count": null,
      "outputs": [
        {
          "output_type": "stream",
          "name": "stdout",
          "text": [
            "Max Income of  male customer using KP281: 68220\n",
            "Max Income of  Female customer using KP281: 67083\n",
            "==================================================================\n",
            "Min Income of male customer using KP281: 29562\n",
            "Min Income of  female customer using KP281: 30699\n",
            "==================================================================\n",
            "Mean Income of male customers using KP281: 46815.975\n",
            "Mean Income of female customers using KP281: 46020.075\n",
            "==================================================================\n",
            "Median Income of male customers using KP281: 46617.0\n",
            "Median Income of female customers using KP281: 46048.5\n",
            "==================================================================\n",
            "Mode Income of male customer using KP281: 54576\n",
            "Mode Income of female customer using KP281: 46617\n",
            "==================================================================\n",
            "25 percentile of  Income of male customers using KP281: 40647.75\n",
            "25 percentile of Income  of  female customers using KP281: 37521.0\n",
            "==================================================================\n",
            "50 percentile of Income of male customers using KP281 (median): 46617.0\n",
            "50 percentile of Income of female customers using KP281 (median): 46048.5\n",
            "==================================================================\n",
            "75 percentile of Income of male customers using KP281: 53723.25\n",
            "75 percentile of Income of female customers using KP281: 52302.0\n"
          ]
        }
      ]
    },
    {
      "cell_type": "code",
      "source": [
        "#Usage related analysis of female and male customers\n",
        "#Comparison\n",
        "\n",
        "print(\"Max Usage of  male customer using KP281:\",df_281_males['Usage'].max())\n",
        "print(\"Max Usage of  Female customer using KP281:\",df_281_females['Usage'].max())\n",
        "print(\"==================================================================\")\n",
        "print(\"Min Usage of male customer using KP281:\",df_281_males['Usage'].min())\n",
        "print(\"Min Usage of  female customer using KP281:\",df_281_females['Usage'].min())\n",
        "print(\"==================================================================\")\n",
        "print(\"Mean Usage of male customers using KP281:\",df_281_males['Usage'].mean())\n",
        "print(\"Mean Usage of female customers using KP281:\",df_281_females['Usage'].mean())\n",
        "print(\"==================================================================\")\n",
        "print(\"Median Usage of male customers using KP281:\",df_281_males['Usage'].median())\n",
        "print(\"Median Usage of female customers using KP281:\",df_281_females['Usage'].median())\n",
        "print(\"==================================================================\")\n",
        "print(\"Mode Usage of male customer using KP281:\",df_281_males['Usage'].mode()[0])\n",
        "print(\"Mode Usage of female customer using KP281:\",df_281_females['Usage'].mode()[0])\n",
        "print(\"==================================================================\")\n",
        "print(\"25 percentile of  Usage of male customers using KP281:\",np.percentile(np.array(df_281_males['Usage']),25))\n",
        "print(\"25 percentile of Usage  of  female customers using KP281:\",np.percentile(np.array(df_281_females['Usage']),25))\n",
        "print(\"==================================================================\")\n",
        "print(\"50 percentile of Usage of male customers using KP281 (median):\",np.percentile(np.array(df_281_males['Usage']),50))\n",
        "print(\"50 percentile of Usage of female customers using KP281 (median):\",np.percentile(np.array(df_281_females['Usage']),50))\n",
        "print(\"==================================================================\")\n",
        "print(\"75 percentile of Usage of male customers using KP281:\",np.percentile(np.array(df_281_males['Usage']),75))\n",
        "print(\"75 percentile of Usage of female customers using KP281:\",np.percentile(np.array(df_281_females['Usage']),75))\n",
        "\n",
        "\n"
      ],
      "metadata": {
        "colab": {
          "base_uri": "https://localhost:8080/"
        },
        "id": "9wnjT86EHHJ7",
        "outputId": "346c426f-7ee5-47bc-c8e6-d9320cf34818"
      },
      "execution_count": null,
      "outputs": [
        {
          "output_type": "stream",
          "name": "stdout",
          "text": [
            "Max Usage of  male customer using KP281: 5\n",
            "Max Usage of  Female customer using KP281: 5\n",
            "==================================================================\n",
            "Min Usage of male customer using KP281: 2\n",
            "Min Usage of  female customer using KP281: 2\n",
            "==================================================================\n",
            "Mean Usage of male customers using KP281: 3.275\n",
            "Mean Usage of female customers using KP281: 2.9\n",
            "==================================================================\n",
            "Median Usage of male customers using KP281: 3.0\n",
            "Median Usage of female customers using KP281: 3.0\n",
            "==================================================================\n",
            "Mode Usage of male customer using KP281: 3\n",
            "Mode Usage of female customer using KP281: 3\n",
            "==================================================================\n",
            "25 percentile of  Usage of male customers using KP281: 3.0\n",
            "25 percentile of Usage  of  female customers using KP281: 2.0\n",
            "==================================================================\n",
            "50 percentile of Usage of male customers using KP281 (median): 3.0\n",
            "50 percentile of Usage of female customers using KP281 (median): 3.0\n",
            "==================================================================\n",
            "75 percentile of Usage of male customers using KP281: 4.0\n",
            "75 percentile of Usage of female customers using KP281: 3.0\n"
          ]
        }
      ]
    },
    {
      "cell_type": "code",
      "source": [
        "#Fitness related analysis of female and male customers\n",
        "#Comparison\n",
        "\n",
        "print(\"Max Fitness of  male customer using KP281:\",df_281_males['Fitness'].max())\n",
        "print(\"Max Fitness of  Female customer using KP281:\",df_281_females['Fitness'].max())\n",
        "print(\"==================================================================\")\n",
        "print(\"Min Fitness of male customer using KP281:\",df_281_males['Fitness'].min())\n",
        "print(\"Min Fitness of  female customer using KP281:\",df_281_females['Fitness'].min())\n",
        "print(\"==================================================================\")\n",
        "print(\"Mean Fitness of male customers using KP281:\",df_281_males['Fitness'].mean())\n",
        "print(\"Mean Fitness of female customers using KP281:\",df_281_females['Fitness'].mean())\n",
        "print(\"==================================================================\")\n",
        "print(\"Median Fitness of male customers using KP281:\",df_281_males['Fitness'].median())\n",
        "print(\"Median Fitness of female customers using KP281:\",df_281_females['Fitness'].median())\n",
        "print(\"==================================================================\")\n",
        "print(\"Mode Fitness of male customer using KP281:\",df_281_males['Fitness'].mode()[0])\n",
        "print(\"Mode Fitness of female customer using KP281:\",df_281_females['Fitness'].mode()[0])\n",
        "print(\"==================================================================\")\n",
        "print(\"25 percentile of  Fitness of male customers using KP281:\",np.percentile(np.array(df_281_males['Fitness']),25))\n",
        "print(\"25 percentile of Fitness  of  female customers using KP281:\",np.percentile(np.array(df_281_females['Fitness']),25))\n",
        "print(\"==================================================================\")\n",
        "print(\"50 percentile of Fitness of male customers using KP281 (median):\",np.percentile(np.array(df_281_males['Fitness']),50))\n",
        "print(\"50 percentile of Fitness of female customers using KP281 (median):\",np.percentile(np.array(df_281_females['Fitness']),50))\n",
        "print(\"==================================================================\")\n",
        "print(\"75 percentile of Fitness of male customers using KP281:\",np.percentile(np.array(df_281_males['Fitness']),75))\n",
        "print(\"75 percentile of Fitness of female customers using KP281:\",np.percentile(np.array(df_281_females['Fitness']),75))"
      ],
      "metadata": {
        "colab": {
          "base_uri": "https://localhost:8080/"
        },
        "id": "ujy-l_CRPhhr",
        "outputId": "1f711ff7-56c1-4f6c-ce0e-3c1b231707e1"
      },
      "execution_count": null,
      "outputs": [
        {
          "output_type": "stream",
          "name": "stdout",
          "text": [
            "Max Fitness of  male customer using KP281: 5\n",
            "Max Fitness of  Female customer using KP281: 5\n",
            "==================================================================\n",
            "Min Fitness of male customer using KP281: 1\n",
            "Min Fitness of  female customer using KP281: 2\n",
            "==================================================================\n",
            "Mean Fitness of male customers using KP281: 3.05\n",
            "Mean Fitness of female customers using KP281: 2.875\n",
            "==================================================================\n",
            "Median Fitness of male customers using KP281: 3.0\n",
            "Median Fitness of female customers using KP281: 3.0\n",
            "==================================================================\n",
            "Mode Fitness of male customer using KP281: 3\n",
            "Mode Fitness of female customer using KP281: 3\n",
            "==================================================================\n",
            "25 percentile of  Fitness of male customers using KP281: 3.0\n",
            "25 percentile of Fitness  of  female customers using KP281: 2.75\n",
            "==================================================================\n",
            "50 percentile of Fitness of male customers using KP281 (median): 3.0\n",
            "50 percentile of Fitness of female customers using KP281 (median): 3.0\n",
            "==================================================================\n",
            "75 percentile of Fitness of male customers using KP281: 3.0\n",
            "75 percentile of Fitness of female customers using KP281: 3.0\n"
          ]
        }
      ]
    },
    {
      "cell_type": "code",
      "source": [
        "#Miles related analysis of female and male customers\n",
        "#Comparison\n",
        "\n",
        "print(\"Max Miles covered by  male customer using KP281:\",df_281_males['Miles'].max())\n",
        "print(\"Max Miles covered by Female customer using KP281:\",df_281_females['Miles'].max())\n",
        "print(\"==================================================================\")\n",
        "print(\"Min Miles covered by male customer using KP281:\",df_281_males['Miles'].min())\n",
        "print(\"Min Miles covered by female customer using KP281:\",df_281_females['Miles'].min())\n",
        "print(\"==================================================================\")\n",
        "print(\"Mean Miles covered by male customers using KP281:\",df_281_males['Miles'].mean())\n",
        "print(\"Mean Miles covered by female customers using KP281:\",df_281_females['Miles'].mean())\n",
        "print(\"==================================================================\")\n",
        "print(\"Median Miles covered by male customers using KP281:\",df_281_males['Miles'].median())\n",
        "print(\"Median Miles covered by female customers using KP281:\",df_281_females['Miles'].median())\n",
        "print(\"==================================================================\")\n",
        "print(\"Mode Miles covered by male customer using KP281:\",df_281_males['Miles'].mode()[0])\n",
        "print(\"Mode Miles covered by female customer using KP281:\",df_281_females['Miles'].mode()[0])\n",
        "print(\"==================================================================\")\n",
        "print(\"25 percentile of  Miles covered by male customers using KP281:\",np.percentile(np.array(df_281_males['Miles']),25))\n",
        "print(\"25 percentile of Miles covered by  female customers using KP281:\",np.percentile(np.array(df_281_females['Miles']),25))\n",
        "print(\"==================================================================\")\n",
        "print(\"50 percentile of Miles covered by male customers using KP281 (median):\",np.percentile(np.array(df_281_males['Miles']),50))\n",
        "print(\"50 percentile of Miles covered by female customers using KP281 (median):\",np.percentile(np.array(df_281_females['Miles']),50))\n",
        "print(\"==================================================================\")\n",
        "print(\"75 percentile of Miles covered by male customers using KP281:\",np.percentile(np.array(df_281_males['Miles']),75))\n",
        "print(\"75 percentile of Miles covered by female customers using KP281:\",np.percentile(np.array(df_281_females['Miles']),75))"
      ],
      "metadata": {
        "colab": {
          "base_uri": "https://localhost:8080/"
        },
        "id": "hD5khxObQHe9",
        "outputId": "aefd3efd-0f81-4f12-b090-b78ea339da39"
      },
      "execution_count": null,
      "outputs": [
        {
          "output_type": "stream",
          "name": "stdout",
          "text": [
            "Max Miles covered by  male customer using KP281: 169\n",
            "Max Miles covered by Female customer using KP281: 188\n",
            "==================================================================\n",
            "Min Miles covered by male customer using KP281: 47\n",
            "Min Miles covered by female customer using KP281: 38\n",
            "==================================================================\n",
            "Mean Miles covered by male customers using KP281: 89.375\n",
            "Mean Miles covered by female customers using KP281: 76.2\n",
            "==================================================================\n",
            "Median Miles covered by male customers using KP281: 85.0\n",
            "Median Miles covered by female customers using KP281: 75.0\n",
            "==================================================================\n",
            "Mode Miles covered by male customer using KP281: 85\n",
            "Mode Miles covered by female customer using KP281: 66\n",
            "==================================================================\n",
            "25 percentile of  Miles covered by male customers using KP281: 75.0\n",
            "25 percentile of Miles covered by  female customers using KP281: 56.0\n",
            "==================================================================\n",
            "50 percentile of Miles covered by male customers using KP281 (median): 85.0\n",
            "50 percentile of Miles covered by female customers using KP281 (median): 75.0\n",
            "==================================================================\n",
            "75 percentile of Miles covered by male customers using KP281: 105.25\n",
            "75 percentile of Miles covered by female customers using KP281: 87.25\n"
          ]
        }
      ]
    },
    {
      "cell_type": "markdown",
      "source": [
        "#KP481"
      ],
      "metadata": {
        "id": "zTlIQCKCTlLz"
      }
    },
    {
      "cell_type": "code",
      "source": [
        "#Checking out the no:of Male and Female customers\n",
        "\n",
        "df_481['Gender'].value_counts()"
      ],
      "metadata": {
        "colab": {
          "base_uri": "https://localhost:8080/"
        },
        "id": "yyusTsErROr6",
        "outputId": "adff8b4d-ba0d-44de-9cd7-a1b133ffc6d9"
      },
      "execution_count": null,
      "outputs": [
        {
          "output_type": "execute_result",
          "data": {
            "text/plain": [
              "Male      31\n",
              "Female    29\n",
              "Name: Gender, dtype: int64"
            ]
          },
          "metadata": {},
          "execution_count": 54
        }
      ]
    },
    {
      "cell_type": "code",
      "source": [
        "#checking Marital Status of the customers\n",
        "df_481['MaritalStatus'].value_counts()"
      ],
      "metadata": {
        "colab": {
          "base_uri": "https://localhost:8080/"
        },
        "id": "jLH0ad5CTyCd",
        "outputId": "8fa0bb92-5860-424a-f72e-fcadf6316714"
      },
      "execution_count": null,
      "outputs": [
        {
          "output_type": "execute_result",
          "data": {
            "text/plain": [
              "Partnered    36\n",
              "Single       24\n",
              "Name: MaritalStatus, dtype: int64"
            ]
          },
          "metadata": {},
          "execution_count": 55
        }
      ]
    },
    {
      "cell_type": "code",
      "source": [
        "#Age related analysis\n",
        "print(\"Max age of customer using KP481:\",df_481['Age'].max())\n",
        "print(\"Min age of customer using KP481:\",df_481['Age'].min())\n",
        "print(\"Mean age of customer using KP481:\",df_481['Age'].mean())\n",
        "print(\"Median age of customer using KP481:\",df_481['Age'].median())\n",
        "print(\"Mode age of customer using KP481:\",df_481['Age'].mode()[0])\n",
        "print(\"25 percentile of age of customers using KP481:\",np.percentile(np.array(df_481['Age']),25))\n",
        "print(\"50 percentile of age of customers using KP481:\",np.percentile(np.array(df_481['Age']),50))\n",
        "print(\"75 percentile of age of customers using KP481:\",np.percentile(np.array(df_481['Age']),75))"
      ],
      "metadata": {
        "colab": {
          "base_uri": "https://localhost:8080/"
        },
        "id": "9EAGNDu1T4cO",
        "outputId": "e6e39ce5-acd9-4a04-9d18-d94a4df8e434"
      },
      "execution_count": null,
      "outputs": [
        {
          "output_type": "stream",
          "name": "stdout",
          "text": [
            "Max age of customer using KP481: 48\n",
            "Min age of customer using KP481: 19\n",
            "Mean age of customer using KP481: 28.9\n",
            "Median age of customer using KP481: 26.0\n",
            "Mode age of customer using KP481: 25\n",
            "25 percentile of age of customers using KP481: 24.0\n",
            "50 percentile of age of customers using KP481: 26.0\n",
            "75 percentile of age of customers using KP481: 33.25\n"
          ]
        }
      ]
    },
    {
      "cell_type": "code",
      "source": [
        "#Education related Analysis\n",
        "print(\"Max Education of customer using KP481:\",df_481['Education'].max())\n",
        "print(\"Min Education of customer using KP481:\",df_481['Education'].min())\n",
        "print(\"Mean Education of customer using KP481:\",df_481['Education'].mean())\n",
        "print(\"Median Education of customer using KP481:\",df_481['Education'].median())\n",
        "print(\"Mode Edcucation of customer using KP481:\",df_481['Education'].mode()[0])\n",
        "print(\"25 percentile of Education of customers using KP481:\",np.percentile(np.array(df_481['Education']),25))\n",
        "print(\"50 percentile of Education of customers using KP481:\",np.percentile(np.array(df_481['Education']),50))\n",
        "print(\"75 percentile of Education of customers using KP481:\",np.percentile(np.array(df_481['Education']),75))"
      ],
      "metadata": {
        "colab": {
          "base_uri": "https://localhost:8080/"
        },
        "id": "c7iAGEdUUMgE",
        "outputId": "ecf55aeb-7984-47bf-fecb-e103129cc63a"
      },
      "execution_count": null,
      "outputs": [
        {
          "output_type": "stream",
          "name": "stdout",
          "text": [
            "Max Education of customer using KP481: 18\n",
            "Min Education of customer using KP481: 12\n",
            "Mean Education of customer using KP481: 15.116666666666667\n",
            "Median Education of customer using KP481: 16.0\n",
            "Mode Edcucation of customer using KP481: 16\n",
            "25 percentile of Education of customers using KP481: 14.0\n",
            "50 percentile of Education of customers using KP481: 16.0\n",
            "75 percentile of Education of customers using KP481: 16.0\n"
          ]
        }
      ]
    },
    {
      "cell_type": "code",
      "source": [
        "#Income related Analysis\n",
        "print(\"Max Income of customer using KP481:\",df_481['Income'].max())\n",
        "print(\"Min Income of customer using KP481:\",df_481['Income'].min())\n",
        "print(\"Mean Income of customer using KP481:\",df_481['Income'].mean())\n",
        "print(\"Median Income of customer using KP481:\",df_481['Income'].median())\n",
        "print(\"Mode Income of customer using KP481:\",df_481['Income'].mode()[0])\n",
        "print(\"25 percentile of Income of customers using KP481:\",np.percentile(np.array(df_481['Income']),25))\n",
        "print(\"50 percentile of Income of customers using KP481:\",np.percentile(np.array(df_481['Income']),50))\n",
        "print(\"75 percentile of Income of customers using KP481:\",np.percentile(np.array(df_481['Income']),75))"
      ],
      "metadata": {
        "colab": {
          "base_uri": "https://localhost:8080/"
        },
        "id": "KEfQLKiPUgUQ",
        "outputId": "1d9880a4-86c9-4017-8a9c-a39bf1b6ec89"
      },
      "execution_count": null,
      "outputs": [
        {
          "output_type": "stream",
          "name": "stdout",
          "text": [
            "Max Income of customer using KP481: 67083\n",
            "Min Income of customer using KP481: 31836\n",
            "Mean Income of customer using KP481: 48973.65\n",
            "Median Income of customer using KP481: 49459.5\n",
            "Mode Income of customer using KP481: 45480\n",
            "25 percentile of Income of customers using KP481: 44911.5\n",
            "50 percentile of Income of customers using KP481: 49459.5\n",
            "75 percentile of Income of customers using KP481: 53439.0\n"
          ]
        }
      ]
    },
    {
      "cell_type": "code",
      "source": [
        "#Usage related Analysis\n",
        "print(\"Max Usage of customer using KP481:\",df_481['Usage'].max())\n",
        "print(\"Min Usage of customer using KP481:\",df_481['Usage'].min())\n",
        "print(\"Mean Usage of customer using KP481:\",df_481['Usage'].mean())\n",
        "print(\"Median Usage of customer using KP481:\",df_481['Usage'].median())\n",
        "print(\"Mode Usage of customer using KP481:\",df_481['Usage'].mode()[0])\n",
        "print(\"25 percentile of Usage of customers using KP481:\",np.percentile(np.array(df_481['Usage']),25))\n",
        "print(\"50 percentile of Usage of customers using KP481:\",np.percentile(np.array(df_481['Usage']),50))\n",
        "print(\"75 percentile of Usage of customers using KP481:\",np.percentile(np.array(df_481['Usage']),75))"
      ],
      "metadata": {
        "colab": {
          "base_uri": "https://localhost:8080/"
        },
        "id": "QwNQ8AFDU0mG",
        "outputId": "44da53ca-5be6-4305-d8ae-bb99a7d77adc"
      },
      "execution_count": null,
      "outputs": [
        {
          "output_type": "stream",
          "name": "stdout",
          "text": [
            "Max Usage of customer using KP481: 5\n",
            "Min Usage of customer using KP481: 2\n",
            "Mean Usage of customer using KP481: 3.066666666666667\n",
            "Median Usage of customer using KP481: 3.0\n",
            "Mode Usage of customer using KP481: 3\n",
            "25 percentile of Usage of customers using KP481: 3.0\n",
            "50 percentile of Usage of customers using KP481: 3.0\n",
            "75 percentile of Usage of customers using KP481: 3.25\n"
          ]
        }
      ]
    },
    {
      "cell_type": "code",
      "source": [
        "#fitness related Analysis\n",
        "print(\"Max Fitness of customer using KP481:\",df_481['Fitness'].max())\n",
        "print(\"Min Fitness of customer using KP481:\",df_481['Fitness'].min())\n",
        "print(\"Mean Fitness of customer using KP481:\",df_481['Fitness'].mean())\n",
        "print(\"Median Fitness of customer using KP481:\",df_481['Fitness'].median())\n",
        "print(\"Mode Fitness of customer using KP481:\",df_481['Fitness'].mode()[0])\n",
        "print(\"25 percentile of Fitness of customers using KP481:\",np.percentile(np.array(df_481['Fitness']),25))\n",
        "print(\"50 percentile of Fitness of customers using KP481:\",np.percentile(np.array(df_481['Fitness']),50))\n",
        "print(\"75 percentile of Fitness of customers using KP481:\",np.percentile(np.array(df_481['Fitness']),75))"
      ],
      "metadata": {
        "colab": {
          "base_uri": "https://localhost:8080/"
        },
        "id": "R1RuyvS8VLT1",
        "outputId": "40ff4d7a-4df3-4261-83ac-0043b417fa97"
      },
      "execution_count": null,
      "outputs": [
        {
          "output_type": "stream",
          "name": "stdout",
          "text": [
            "Max Fitness of customer using KP481: 4\n",
            "Min Fitness of customer using KP481: 1\n",
            "Mean Fitness of customer using KP481: 2.9\n",
            "Median Fitness of customer using KP481: 3.0\n",
            "Mode Fitness of customer using KP481: 3\n",
            "25 percentile of Fitness of customers using KP481: 3.0\n",
            "50 percentile of Fitness of customers using KP481: 3.0\n",
            "75 percentile of Fitness of customers using KP481: 3.0\n"
          ]
        }
      ]
    },
    {
      "cell_type": "code",
      "source": [
        "#Miles related Analysis\n",
        "print(\"Max Miles of customer using KP481:\",df_481['Miles'].max())\n",
        "print(\"Min Miles of customer using KP481:\",df_481['Miles'].min())\n",
        "print(\"Mean Miles of customer using KP481:\",df_481['Miles'].mean())\n",
        "print(\"Median Miles of customer using KP481:\",df_481['Miles'].median())\n",
        "print(\"Mode Miles of customer using KP481:\",df_481['Miles'].mode()[0])\n",
        "print(\"25 percentile of Miles of customers using KP481:\",np.percentile(np.array(df_481['Miles']),25))\n",
        "print(\"50 percentile of Miles of customers using KP481:\",np.percentile(np.array(df_481['Miles']),50))\n",
        "print(\"75 percentile of Miles of customers using KP481:\",np.percentile(np.array(df_481['Miles']),75))"
      ],
      "metadata": {
        "colab": {
          "base_uri": "https://localhost:8080/"
        },
        "id": "r9ReKh6tVlUA",
        "outputId": "79babfe5-2ba4-4ff0-ec5f-b14840a4d25a"
      },
      "execution_count": null,
      "outputs": [
        {
          "output_type": "stream",
          "name": "stdout",
          "text": [
            "Max Miles of customer using KP481: 212\n",
            "Min Miles of customer using KP481: 21\n",
            "Mean Miles of customer using KP481: 87.93333333333334\n",
            "Median Miles of customer using KP481: 85.0\n",
            "Mode Miles of customer using KP481: 95\n",
            "25 percentile of Miles of customers using KP481: 64.0\n",
            "50 percentile of Miles of customers using KP481: 85.0\n",
            "75 percentile of Miles of customers using KP481: 106.0\n"
          ]
        }
      ]
    },
    {
      "cell_type": "code",
      "source": [
        "#checking the No of :\n",
        "\n",
        "# Female  Single and Female Partnered\n",
        "# Male Single and Male Partnered\n",
        "\n",
        "temp2=pd.DataFrame(df_481[['Gender','MaritalStatus']].value_counts().sort_values())\n",
        "temp2=temp2.reset_index()\n",
        "temp2.columns=['Gender','MaritalStatus','Count']\n",
        "temp2"
      ],
      "metadata": {
        "colab": {
          "base_uri": "https://localhost:8080/",
          "height": 175
        },
        "id": "JaM0zXn2Vy9L",
        "outputId": "dfdc7c27-9774-4c81-a115-57ca0636f64e"
      },
      "execution_count": null,
      "outputs": [
        {
          "output_type": "execute_result",
          "data": {
            "text/plain": [
              "   Gender MaritalStatus  Count\n",
              "0    Male        Single     10\n",
              "1  Female        Single     14\n",
              "2  Female     Partnered     15\n",
              "3    Male     Partnered     21"
            ],
            "text/html": [
              "\n",
              "  <div id=\"df-a23888ea-f573-4026-beff-b641b378dec5\">\n",
              "    <div class=\"colab-df-container\">\n",
              "      <div>\n",
              "<style scoped>\n",
              "    .dataframe tbody tr th:only-of-type {\n",
              "        vertical-align: middle;\n",
              "    }\n",
              "\n",
              "    .dataframe tbody tr th {\n",
              "        vertical-align: top;\n",
              "    }\n",
              "\n",
              "    .dataframe thead th {\n",
              "        text-align: right;\n",
              "    }\n",
              "</style>\n",
              "<table border=\"1\" class=\"dataframe\">\n",
              "  <thead>\n",
              "    <tr style=\"text-align: right;\">\n",
              "      <th></th>\n",
              "      <th>Gender</th>\n",
              "      <th>MaritalStatus</th>\n",
              "      <th>Count</th>\n",
              "    </tr>\n",
              "  </thead>\n",
              "  <tbody>\n",
              "    <tr>\n",
              "      <th>0</th>\n",
              "      <td>Male</td>\n",
              "      <td>Single</td>\n",
              "      <td>10</td>\n",
              "    </tr>\n",
              "    <tr>\n",
              "      <th>1</th>\n",
              "      <td>Female</td>\n",
              "      <td>Single</td>\n",
              "      <td>14</td>\n",
              "    </tr>\n",
              "    <tr>\n",
              "      <th>2</th>\n",
              "      <td>Female</td>\n",
              "      <td>Partnered</td>\n",
              "      <td>15</td>\n",
              "    </tr>\n",
              "    <tr>\n",
              "      <th>3</th>\n",
              "      <td>Male</td>\n",
              "      <td>Partnered</td>\n",
              "      <td>21</td>\n",
              "    </tr>\n",
              "  </tbody>\n",
              "</table>\n",
              "</div>\n",
              "      <button class=\"colab-df-convert\" onclick=\"convertToInteractive('df-a23888ea-f573-4026-beff-b641b378dec5')\"\n",
              "              title=\"Convert this dataframe to an interactive table.\"\n",
              "              style=\"display:none;\">\n",
              "        \n",
              "  <svg xmlns=\"http://www.w3.org/2000/svg\" height=\"24px\"viewBox=\"0 0 24 24\"\n",
              "       width=\"24px\">\n",
              "    <path d=\"M0 0h24v24H0V0z\" fill=\"none\"/>\n",
              "    <path d=\"M18.56 5.44l.94 2.06.94-2.06 2.06-.94-2.06-.94-.94-2.06-.94 2.06-2.06.94zm-11 1L8.5 8.5l.94-2.06 2.06-.94-2.06-.94L8.5 2.5l-.94 2.06-2.06.94zm10 10l.94 2.06.94-2.06 2.06-.94-2.06-.94-.94-2.06-.94 2.06-2.06.94z\"/><path d=\"M17.41 7.96l-1.37-1.37c-.4-.4-.92-.59-1.43-.59-.52 0-1.04.2-1.43.59L10.3 9.45l-7.72 7.72c-.78.78-.78 2.05 0 2.83L4 21.41c.39.39.9.59 1.41.59.51 0 1.02-.2 1.41-.59l7.78-7.78 2.81-2.81c.8-.78.8-2.07 0-2.86zM5.41 20L4 18.59l7.72-7.72 1.47 1.35L5.41 20z\"/>\n",
              "  </svg>\n",
              "      </button>\n",
              "      \n",
              "  <style>\n",
              "    .colab-df-container {\n",
              "      display:flex;\n",
              "      flex-wrap:wrap;\n",
              "      gap: 12px;\n",
              "    }\n",
              "\n",
              "    .colab-df-convert {\n",
              "      background-color: #E8F0FE;\n",
              "      border: none;\n",
              "      border-radius: 50%;\n",
              "      cursor: pointer;\n",
              "      display: none;\n",
              "      fill: #1967D2;\n",
              "      height: 32px;\n",
              "      padding: 0 0 0 0;\n",
              "      width: 32px;\n",
              "    }\n",
              "\n",
              "    .colab-df-convert:hover {\n",
              "      background-color: #E2EBFA;\n",
              "      box-shadow: 0px 1px 2px rgba(60, 64, 67, 0.3), 0px 1px 3px 1px rgba(60, 64, 67, 0.15);\n",
              "      fill: #174EA6;\n",
              "    }\n",
              "\n",
              "    [theme=dark] .colab-df-convert {\n",
              "      background-color: #3B4455;\n",
              "      fill: #D2E3FC;\n",
              "    }\n",
              "\n",
              "    [theme=dark] .colab-df-convert:hover {\n",
              "      background-color: #434B5C;\n",
              "      box-shadow: 0px 1px 3px 1px rgba(0, 0, 0, 0.15);\n",
              "      filter: drop-shadow(0px 1px 2px rgba(0, 0, 0, 0.3));\n",
              "      fill: #FFFFFF;\n",
              "    }\n",
              "  </style>\n",
              "\n",
              "      <script>\n",
              "        const buttonEl =\n",
              "          document.querySelector('#df-a23888ea-f573-4026-beff-b641b378dec5 button.colab-df-convert');\n",
              "        buttonEl.style.display =\n",
              "          google.colab.kernel.accessAllowed ? 'block' : 'none';\n",
              "\n",
              "        async function convertToInteractive(key) {\n",
              "          const element = document.querySelector('#df-a23888ea-f573-4026-beff-b641b378dec5');\n",
              "          const dataTable =\n",
              "            await google.colab.kernel.invokeFunction('convertToInteractive',\n",
              "                                                     [key], {});\n",
              "          if (!dataTable) return;\n",
              "\n",
              "          const docLinkHtml = 'Like what you see? Visit the ' +\n",
              "            '<a target=\"_blank\" href=https://colab.research.google.com/notebooks/data_table.ipynb>data table notebook</a>'\n",
              "            + ' to learn more about interactive tables.';\n",
              "          element.innerHTML = '';\n",
              "          dataTable['output_type'] = 'display_data';\n",
              "          await google.colab.output.renderOutput(dataTable, element);\n",
              "          const docLink = document.createElement('div');\n",
              "          docLink.innerHTML = docLinkHtml;\n",
              "          element.appendChild(docLink);\n",
              "        }\n",
              "      </script>\n",
              "    </div>\n",
              "  </div>\n",
              "  "
            ]
          },
          "metadata": {},
          "execution_count": 62
        }
      ]
    },
    {
      "cell_type": "code",
      "source": [
        "sns.barplot(data=temp2,x='Gender',hue='MaritalStatus',y='Count')"
      ],
      "metadata": {
        "colab": {
          "base_uri": "https://localhost:8080/",
          "height": 297
        },
        "id": "Gl8kp4yqWEnp",
        "outputId": "4454ed57-dddc-485e-8ae0-c873cc367c30"
      },
      "execution_count": null,
      "outputs": [
        {
          "output_type": "execute_result",
          "data": {
            "text/plain": [
              "<matplotlib.axes._subplots.AxesSubplot at 0x7f06a76b5280>"
            ]
          },
          "metadata": {},
          "execution_count": 63
        },
        {
          "output_type": "display_data",
          "data": {
            "text/plain": [
              "<Figure size 432x288 with 1 Axes>"
            ],
            "image/png": "[encoded data removed]"
          },
          "metadata": {
            "needs_background": "light"
          }
        }
      ]
    },
    {
      "cell_type": "code",
      "source": [
        "#Analysing the female and male customers of KP481 separately\n",
        "df_481_males=df_481.loc[df_481['Gender']=='Male']\n",
        "df_481_females=df_481.loc[df_481['Gender']=='Female']"
      ],
      "metadata": {
        "id": "dKja_bV-WRrb"
      },
      "execution_count": null,
      "outputs": []
    },
    {
      "cell_type": "code",
      "source": [
        "#Age related analysis if female and male customers\n",
        "#Comparison\n",
        "print(\"Max age of  male customer using KP481:\",df_481_males['Age'].max())\n",
        "print(\"Max age of  Female customer using KP481:\",df_481_females['Age'].max())\n",
        "print(\"==================================================================\")\n",
        "print(\"Min age of male customer using KP481:\",df_481_males['Age'].min())\n",
        "print(\"Min age of  female customer using KP481:\",df_481_females['Age'].min())\n",
        "print(\"==================================================================\")\n",
        "print(\"Mean age of male customers using KP481:\",df_481_males['Age'].mean())\n",
        "print(\"Mean age of female customers using KP481:\",df_481_females['Age'].mean())\n",
        "print(\"==================================================================\")\n",
        "print(\"Median age of male customers using KP481:\",df_481_males['Age'].median())\n",
        "print(\"Median age of female customers using KP481:\",df_481_females['Age'].median())\n",
        "print(\"==================================================================\")\n",
        "print(\"Mode age of male customer using KP481:\",df_481_males['Age'].mode()[0])\n",
        "print(\"Mode age of female customer using KP481:\",df_481_females['Age'].mode()[0])\n",
        "print(\"==================================================================\")\n",
        "print(\"25 percentile of  age of male customers using KP481:\",np.percentile(np.array(df_481_males['Age']),25))\n",
        "print(\"25 percentile of  age of  female customers using KP481:\",np.percentile(np.array(df_481_females['Age']),25))\n",
        "print(\"==================================================================\")\n",
        "print(\"50 percentile of age of male customers using KP481 (median):\",np.percentile(np.array(df_481_males['Age']),50))\n",
        "print(\"50 percentile of age of female customers using KP481 (median):\",np.percentile(np.array(df_481_females['Age']),50))\n",
        "print(\"==================================================================\")\n",
        "print(\"75 percentile of age of male customers using KP481:\",np.percentile(np.array(df_481_males['Age']),75))\n",
        "print(\"75 percentile of age of female customers using KP481:\",np.percentile(np.array(df_481_females['Age']),75))"
      ],
      "metadata": {
        "colab": {
          "base_uri": "https://localhost:8080/"
        },
        "id": "GzQay0apXzSW",
        "outputId": "eeee9343-fee3-4fd1-bd47-96b89f00a168"
      },
      "execution_count": null,
      "outputs": [
        {
          "output_type": "stream",
          "name": "stdout",
          "text": [
            "Max age of  male customer using KP481: 48\n",
            "Max age of  Female customer using KP481: 40\n",
            "==================================================================\n",
            "Min age of male customer using KP481: 19\n",
            "Min age of  female customer using KP481: 20\n",
            "==================================================================\n",
            "Mean age of male customers using KP481: 28.70967741935484\n",
            "Mean age of female customers using KP481: 29.103448275862068\n",
            "==================================================================\n",
            "Median age of male customers using KP481: 25.0\n",
            "Median age of female customers using KP481: 29.0\n",
            "==================================================================\n",
            "Mode age of male customer using KP481: 25\n",
            "Mode age of female customer using KP481: 25\n",
            "==================================================================\n",
            "25 percentile of  age of male customers using KP481: 23.0\n",
            "25 percentile of  age of  female customers using KP481: 25.0\n",
            "==================================================================\n",
            "50 percentile of age of male customers using KP481 (median): 25.0\n",
            "50 percentile of age of female customers using KP481 (median): 29.0\n",
            "==================================================================\n",
            "75 percentile of age of male customers using KP481: 33.5\n",
            "75 percentile of age of female customers using KP481: 33.0\n"
          ]
        }
      ]
    },
    {
      "cell_type": "code",
      "source": [
        "#Education related analysis of female and male customers\n",
        "#Comparison\n",
        "\n",
        "print(\"Max Education of  male customer using KP481:\",df_481_males['Education'].max())\n",
        "print(\"Max Education of  Female customer using KP481:\",df_481_females['Education'].max())\n",
        "print(\"==================================================================\")\n",
        "print(\"Min Education of male customer using KP481:\",df_481_males['Education'].min())\n",
        "print(\"Min Education of  female customer using KP481:\",df_481_females['Education'].min())\n",
        "print(\"==================================================================\")\n",
        "print(\"Mean Education of male customers using KP481:\",df_481_males['Education'].mean())\n",
        "print(\"Mean Education of female customers using KP481:\",df_481_females['Education'].mean())\n",
        "print(\"==================================================================\")\n",
        "print(\"Median Education of male customers using KP481:\",df_481_males['Education'].median())\n",
        "print(\"Median Education of female customers using KP481:\",df_481_females['Education'].median())\n",
        "print(\"==================================================================\")\n",
        "print(\"Mode Education of male customer using KP481:\",df_481_males['Education'].mode()[0])\n",
        "print(\"Mode Education of female customer using KP481:\",df_481_females['Education'].mode()[0])\n",
        "print(\"==================================================================\")\n",
        "print(\"25 percentile of  Education of male customers using KP481:\",np.percentile(np.array(df_481_males['Education']),25))\n",
        "print(\"25 percentile of  Education of  female customers using KP481:\",np.percentile(np.array(df_481_females['Education']),25))\n",
        "print(\"==================================================================\")\n",
        "print(\"50 percentile of Education of male customers using KP481 (median):\",np.percentile(np.array(df_481_males['Education']),50))\n",
        "print(\"50 percentile of Education of female customers using KP481 (median):\",np.percentile(np.array(df_281_females['Education']),50))\n",
        "print(\"==================================================================\")\n",
        "print(\"75 percentile of Education of male customers using KP481:\",np.percentile(np.array(df_481_males['Education']),75))\n",
        "print(\"75 percentile of Education of female customers using KP481:\",np.percentile(np.array(df_481_females['Education']),75))"
      ],
      "metadata": {
        "colab": {
          "base_uri": "https://localhost:8080/"
        },
        "id": "7UqCNSb6YRV7",
        "outputId": "996d1458-19fa-4c95-aa47-48512c024c33"
      },
      "execution_count": null,
      "outputs": [
        {
          "output_type": "stream",
          "name": "stdout",
          "text": [
            "Max Education of  male customer using KP481: 16\n",
            "Max Education of  Female customer using KP481: 18\n",
            "==================================================================\n",
            "Min Education of male customer using KP481: 12\n",
            "Min Education of  female customer using KP481: 13\n",
            "==================================================================\n",
            "Mean Education of male customers using KP481: 15.03225806451613\n",
            "Mean Education of female customers using KP481: 15.206896551724139\n",
            "==================================================================\n",
            "Median Education of male customers using KP481: 16.0\n",
            "Median Education of female customers using KP481: 16.0\n",
            "==================================================================\n",
            "Mode Education of male customer using KP481: 16\n",
            "Mode Education of female customer using KP481: 16\n",
            "==================================================================\n",
            "25 percentile of  Education of male customers using KP481: 14.0\n",
            "25 percentile of  Education of  female customers using KP481: 14.0\n",
            "==================================================================\n",
            "50 percentile of Education of male customers using KP481 (median): 16.0\n",
            "50 percentile of Education of female customers using KP481 (median): 15.5\n",
            "==================================================================\n",
            "75 percentile of Education of male customers using KP481: 16.0\n",
            "75 percentile of Education of female customers using KP481: 16.0\n"
          ]
        }
      ]
    },
    {
      "cell_type": "code",
      "source": [
        "#Income related analysis of female and male customers\n",
        "#Comparison\n",
        "\n",
        "print(\"Max Income of  male customer using KP481:\",df_481_males['Income'].max())\n",
        "print(\"Max Income of  Female customer using KP481:\",df_481_females['Income'].max())\n",
        "print(\"==================================================================\")\n",
        "print(\"Min Income of male customer using KP481:\",df_481_males['Income'].min())\n",
        "print(\"Min Income of  female customer using KP481:\",df_481_females['Income'].min())\n",
        "print(\"==================================================================\")\n",
        "print(\"Mean Income of male customers using KP481:\",df_481_males['Income'].mean())\n",
        "print(\"Mean Income of female customers using KP481:\",df_481_females['Income'].mean())\n",
        "print(\"==================================================================\")\n",
        "print(\"Median Income of male customers using KP481:\",df_481_males['Income'].median())\n",
        "print(\"Median Income of female customers using KP481:\",df_481_females['Income'].median())\n",
        "print(\"==================================================================\")\n",
        "print(\"Mode Income of male customer using KP481:\",df_481_males['Income'].mode()[0])\n",
        "print(\"Mode Income of female customer using KP481:\",df_481_females['Income'].mode()[0])\n",
        "print(\"==================================================================\")\n",
        "print(\"25 percentile of  Income of male customers using KP481:\",np.percentile(np.array(df_481_males['Income']),25))\n",
        "print(\"25 percentile of Income  of  female customers using KP481:\",np.percentile(np.array(df_481_females['Income']),25))\n",
        "print(\"==================================================================\")\n",
        "print(\"50 percentile of Income of male customers using KP481 (median):\",np.percentile(np.array(df_481_males['Income']),50))\n",
        "print(\"50 percentile of Income of female customers using KP481 (median):\",np.percentile(np.array(df_481_females['Income']),50))\n",
        "print(\"==================================================================\")\n",
        "print(\"75 percentile of Income of male customers using KP481:\",np.percentile(np.array(df_481_males['Income']),75))\n",
        "print(\"75 percentile of Income of female customers using KP481:\",np.percentile(np.array(df_481_females['Income']),75))"
      ],
      "metadata": {
        "id": "S6TDFsFuZn6l",
        "colab": {
          "base_uri": "https://localhost:8080/"
        },
        "outputId": "004bc929-5339-4cf8-e96e-b895aa7fe22b"
      },
      "execution_count": null,
      "outputs": [
        {
          "output_type": "stream",
          "name": "stdout",
          "text": [
            "Max Income of  male customer using KP481: 67083\n",
            "Max Income of  Female customer using KP481: 65220\n",
            "==================================================================\n",
            "Min Income of male customer using KP481: 31836\n",
            "Min Income of  female customer using KP481: 34110\n",
            "==================================================================\n",
            "Mean Income of male customers using KP481: 48634.25806451613\n",
            "Mean Income of female customers using KP481: 49336.44827586207\n",
            "==================================================================\n",
            "Median Income of male customers using KP481: 50028.0\n",
            "Median Income of female customers using KP481: 48891.0\n",
            "==================================================================\n",
            "Mode Income of male customer using KP481: 45480\n",
            "Mode Income of female customer using KP481: 45480\n",
            "==================================================================\n",
            "25 percentile of  Income of male customers using KP481: 44343.0\n",
            "25 percentile of Income  of  female customers using KP481: 45480.0\n",
            "==================================================================\n",
            "50 percentile of Income of male customers using KP481 (median): 50028.0\n",
            "50 percentile of Income of female customers using KP481 (median): 48891.0\n",
            "==================================================================\n",
            "75 percentile of Income of male customers using KP481: 53439.0\n",
            "75 percentile of Income of female customers using KP481: 52302.0\n"
          ]
        }
      ]
    },
    {
      "cell_type": "code",
      "source": [
        "#Usage related analysis of female and male customers\n",
        "#Comparison\n",
        "\n",
        "print(\"Max Usage of  male customer using KP481:\",df_481_males['Usage'].max())\n",
        "print(\"Max Usage of  Female customer using KP481:\",df_481_females['Usage'].max())\n",
        "print(\"==================================================================\")\n",
        "print(\"Min Usage of male customer using KP481:\",df_481_males['Usage'].min())\n",
        "print(\"Min Usage of  female customer using KP481:\",df_481_females['Usage'].min())\n",
        "print(\"==================================================================\")\n",
        "print(\"Mean Usage of male customers using KP481:\",df_481_males['Usage'].mean())\n",
        "print(\"Mean Usage of female customers using KP481:\",df_481_females['Usage'].mean())\n",
        "print(\"==================================================================\")\n",
        "print(\"Median Usage of male customers using KP481:\",df_481_males['Usage'].median())\n",
        "print(\"Median Usage of female customers using KP481:\",df_281_females['Usage'].median())\n",
        "print(\"==================================================================\")\n",
        "print(\"Mode Usage of male customer using KP481:\",df_481_males['Usage'].mode()[0])\n",
        "print(\"Mode Usage of female customer using KP481:\",df_481_females['Usage'].mode()[0])\n",
        "print(\"==================================================================\")\n",
        "print(\"25 percentile of  Usage of male customers using KP481:\",np.percentile(np.array(df_481_males['Usage']),25))\n",
        "print(\"25 percentile of Usage  of  female customers using KP481:\",np.percentile(np.array(df_481_females['Usage']),25))\n",
        "print(\"==================================================================\")\n",
        "print(\"50 percentile of Usage of male customers using KP481 (median):\",np.percentile(np.array(df_481_males['Usage']),50))\n",
        "print(\"50 percentile of Usage of female customers using KP481 (median):\",np.percentile(np.array(df_481_females['Usage']),50))\n",
        "print(\"==================================================================\")\n",
        "print(\"75 percentile of Usage of male customers using KP481:\",np.percentile(np.array(df_481_males['Usage']),75))\n",
        "print(\"75 percentile of Usage of female customers using KP481:\",np.percentile(np.array(df_481_females['Usage']),75))"
      ],
      "metadata": {
        "colab": {
          "base_uri": "https://localhost:8080/"
        },
        "id": "ckiFJ_lw15QH",
        "outputId": "883ed640-8d73-44a8-d983-5465cc111a18"
      },
      "execution_count": null,
      "outputs": [
        {
          "output_type": "stream",
          "name": "stdout",
          "text": [
            "Max Usage of  male customer using KP481: 4\n",
            "Max Usage of  Female customer using KP481: 5\n",
            "==================================================================\n",
            "Min Usage of male customer using KP481: 2\n",
            "Min Usage of  female customer using KP481: 2\n",
            "==================================================================\n",
            "Mean Usage of male customers using KP481: 3.0\n",
            "Mean Usage of female customers using KP481: 3.1379310344827585\n",
            "==================================================================\n",
            "Median Usage of male customers using KP481: 3.0\n",
            "Median Usage of female customers using KP481: 3.0\n",
            "==================================================================\n",
            "Mode Usage of male customer using KP481: 3\n",
            "Mode Usage of female customer using KP481: 3\n",
            "==================================================================\n",
            "25 percentile of  Usage of male customers using KP481: 3.0\n",
            "25 percentile of Usage  of  female customers using KP481: 3.0\n",
            "==================================================================\n",
            "50 percentile of Usage of male customers using KP481 (median): 3.0\n",
            "50 percentile of Usage of female customers using KP481 (median): 3.0\n",
            "==================================================================\n",
            "75 percentile of Usage of male customers using KP481: 3.0\n",
            "75 percentile of Usage of female customers using KP481: 4.0\n"
          ]
        }
      ]
    },
    {
      "cell_type": "code",
      "source": [
        "#Fitness related analysis of female and male customers\n",
        "#Comparison\n",
        "\n",
        "print(\"Max Fitness of  male customer using KP481:\",df_481_males['Fitness'].max())\n",
        "print(\"Max Fitness of  Female customer using KP481:\",df_481_females['Fitness'].max())\n",
        "print(\"==================================================================\")\n",
        "print(\"Min Fitness of male customer using KP481:\",df_481_males['Fitness'].min())\n",
        "print(\"Min Fitness of  female customer using KP481:\",df_481_females['Fitness'].min())\n",
        "print(\"==================================================================\")\n",
        "print(\"Mean Fitness of male customers using KP481:\",df_481_males['Fitness'].mean())\n",
        "print(\"Mean Fitness of female customers using KP481:\",df_481_females['Fitness'].mean())\n",
        "print(\"==================================================================\")\n",
        "print(\"Median Fitness of male customers using KP481:\",df_481_males['Fitness'].median())\n",
        "print(\"Median Fitness of female customers using KP481:\",df_481_females['Fitness'].median())\n",
        "print(\"==================================================================\")\n",
        "print(\"Mode Fitness of male customer using KP481:\",df_481_males['Fitness'].mode()[0])\n",
        "print(\"Mode Fitness of female customer using KP481:\",df_481_females['Fitness'].mode()[0])\n",
        "print(\"==================================================================\")\n",
        "print(\"25 percentile of  Fitness of male customers using KP481:\",np.percentile(np.array(df_481_males['Fitness']),25))\n",
        "print(\"25 percentile of Fitness  of  female customers using KP481:\",np.percentile(np.array(df_481_females['Fitness']),25))\n",
        "print(\"==================================================================\")\n",
        "print(\"50 percentile of Fitness of male customers using KP481 (median):\",np.percentile(np.array(df_481_males['Fitness']),50))\n",
        "print(\"50 percentile of Fitness of female customers using KP481 (median):\",np.percentile(np.array(df_481_females['Fitness']),50))\n",
        "print(\"==================================================================\")\n",
        "print(\"75 percentile of Fitness of male customers using KP481:\",np.percentile(np.array(df_481_males['Fitness']),75))\n",
        "print(\"75 percentile of Fitness of female customers using KP481:\",np.percentile(np.array(df_481_females['Fitness']),75))"
      ],
      "metadata": {
        "colab": {
          "base_uri": "https://localhost:8080/"
        },
        "id": "wQWu72VD2mnM",
        "outputId": "163b3dfd-6700-4f63-acb4-077a24df85ed"
      },
      "execution_count": null,
      "outputs": [
        {
          "output_type": "stream",
          "name": "stdout",
          "text": [
            "Max Fitness of  male customer using KP481: 4\n",
            "Max Fitness of  Female customer using KP481: 4\n",
            "==================================================================\n",
            "Min Fitness of male customer using KP481: 2\n",
            "Min Fitness of  female customer using KP481: 1\n",
            "==================================================================\n",
            "Mean Fitness of male customers using KP481: 2.935483870967742\n",
            "Mean Fitness of female customers using KP481: 2.8620689655172415\n",
            "==================================================================\n",
            "Median Fitness of male customers using KP481: 3.0\n",
            "Median Fitness of female customers using KP481: 3.0\n",
            "==================================================================\n",
            "Mode Fitness of male customer using KP481: 3\n",
            "Mode Fitness of female customer using KP481: 3\n",
            "==================================================================\n",
            "25 percentile of  Fitness of male customers using KP481: 3.0\n",
            "25 percentile of Fitness  of  female customers using KP481: 3.0\n",
            "==================================================================\n",
            "50 percentile of Fitness of male customers using KP481 (median): 3.0\n",
            "50 percentile of Fitness of female customers using KP481 (median): 3.0\n",
            "==================================================================\n",
            "75 percentile of Fitness of male customers using KP481: 3.0\n",
            "75 percentile of Fitness of female customers using KP481: 3.0\n"
          ]
        }
      ]
    },
    {
      "cell_type": "code",
      "source": [
        "#Miles related analysis of female and male customers\n",
        "#Comparison\n",
        "\n",
        "print(\"Max Miles covered by  male customer using KP481:\",df_481_males['Miles'].max())\n",
        "print(\"Max Miles covered by Female customer using KP481:\",df_481_females['Miles'].max())\n",
        "print(\"==================================================================\")\n",
        "print(\"Min Miles covered by male customer using KP481:\",df_481_males['Miles'].min())\n",
        "print(\"Min Miles covered by female customer using KP481:\",df_481_females['Miles'].min())\n",
        "print(\"==================================================================\")\n",
        "print(\"Mean Miles covered by male customers using KP481:\",df_481_males['Miles'].mean())\n",
        "print(\"Mean Miles covered by female customers using KP481:\",df_481_females['Miles'].mean())\n",
        "print(\"==================================================================\")\n",
        "print(\"Median Miles covered by male customers using KP481:\",df_481_males['Miles'].median())\n",
        "print(\"Median Miles covered by female customers using KP481:\",df_481_females['Miles'].median())\n",
        "print(\"==================================================================\")\n",
        "print(\"Mode Miles covered by male customer using KP481:\",df_481_males['Miles'].mode()[0])\n",
        "print(\"Mode Miles covered by female customer using KP481:\",df_481_females['Miles'].mode()[0])\n",
        "print(\"==================================================================\")\n",
        "print(\"25 percentile of  Miles covered by male customers using KP481:\",np.percentile(np.array(df_481_males['Miles']),25))\n",
        "print(\"25 percentile of Miles covered by  female customers using KP481:\",np.percentile(np.array(df_481_females['Miles']),25))\n",
        "print(\"==================================================================\")\n",
        "print(\"50 percentile of Miles covered by male customers using KP481 (median):\",np.percentile(np.array(df_481_males['Miles']),50))\n",
        "print(\"50 percentile of Miles covered by female customers using KP481 (median):\",np.percentile(np.array(df_481_females['Miles']),50))\n",
        "print(\"==================================================================\")\n",
        "print(\"75 percentile of Miles covered by male customers using KP481:\",np.percentile(np.array(df_481_males['Miles']),75))\n",
        "print(\"75 percentile of Miles covered by female customers using KP481:\",np.percentile(np.array(df_481_females['Miles']),75))"
      ],
      "metadata": {
        "colab": {
          "base_uri": "https://localhost:8080/"
        },
        "id": "Aawv7LOk3PTQ",
        "outputId": "9e9473ca-2455-43b9-8551-bdd1cf06a434"
      },
      "execution_count": null,
      "outputs": [
        {
          "output_type": "stream",
          "name": "stdout",
          "text": [
            "Max Miles covered by  male customer using KP481: 170\n",
            "Max Miles covered by Female customer using KP481: 212\n",
            "==================================================================\n",
            "Min Miles covered by male customer using KP481: 42\n",
            "Min Miles covered by female customer using KP481: 21\n",
            "==================================================================\n",
            "Mean Miles covered by male customers using KP481: 88.48387096774194\n",
            "Mean Miles covered by female customers using KP481: 87.34482758620689\n",
            "==================================================================\n",
            "Median Miles covered by male customers using KP481: 95.0\n",
            "Median Miles covered by female customers using KP481: 85.0\n",
            "==================================================================\n",
            "Mode Miles covered by male customer using KP481: 95\n",
            "Mode Miles covered by female customer using KP481: 85\n",
            "==================================================================\n",
            "25 percentile of  Miles covered by male customers using KP481: 58.5\n",
            "25 percentile of Miles covered by  female customers using KP481: 74.0\n",
            "==================================================================\n",
            "50 percentile of Miles covered by male customers using KP481 (median): 95.0\n",
            "50 percentile of Miles covered by female customers using KP481 (median): 85.0\n",
            "==================================================================\n",
            "75 percentile of Miles covered by male customers using KP481: 106.0\n",
            "75 percentile of Miles covered by female customers using KP481: 95.0\n"
          ]
        }
      ]
    },
    {
      "cell_type": "markdown",
      "source": [
        "#KP781"
      ],
      "metadata": {
        "id": "ObBt3Yc634-E"
      }
    },
    {
      "cell_type": "code",
      "source": [
        "#Checking out the no:of Male and Female customers\n",
        "\n",
        "df_781['Gender'].value_counts()"
      ],
      "metadata": {
        "colab": {
          "base_uri": "https://localhost:8080/"
        },
        "id": "QW3OY7vp32o7",
        "outputId": "9ab2c2cf-1a96-4812-922a-5f77ef5fa8db"
      },
      "execution_count": null,
      "outputs": [
        {
          "output_type": "execute_result",
          "data": {
            "text/plain": [
              "Male      33\n",
              "Female     7\n",
              "Name: Gender, dtype: int64"
            ]
          },
          "metadata": {},
          "execution_count": 71
        }
      ]
    },
    {
      "cell_type": "code",
      "source": [
        "#checking Marital Status of the customers\n",
        "df_781['MaritalStatus'].value_counts()"
      ],
      "metadata": {
        "colab": {
          "base_uri": "https://localhost:8080/"
        },
        "id": "p9bYLhZzKNaI",
        "outputId": "c366fb14-e71c-4a74-bd3d-9a315ee10058"
      },
      "execution_count": null,
      "outputs": [
        {
          "output_type": "execute_result",
          "data": {
            "text/plain": [
              "Partnered    23\n",
              "Single       17\n",
              "Name: MaritalStatus, dtype: int64"
            ]
          },
          "metadata": {},
          "execution_count": 72
        }
      ]
    },
    {
      "cell_type": "code",
      "source": [
        "#Age related analysis\n",
        "print(\"Max age of customer using KP781:\",df_781['Age'].max())\n",
        "print(\"Min age of customer using KP781:\",df_781['Age'].min())\n",
        "print(\"Mean age of customer using KP781:\",df_781['Age'].mean())\n",
        "print(\"Median age of customer using KP781:\",df_781['Age'].median())\n",
        "print(\"Mode age of customer using KP781:\",df_781['Age'].mode()[0])\n",
        "print(\"25 percentile of age of customers using KP781:\",np.percentile(np.array(df_781['Age']),25))\n",
        "print(\"50 percentile of age of customers using KP781:\",np.percentile(np.array(df_781['Age']),50))\n",
        "print(\"75 percentile of age of customers using KP781:\",np.percentile(np.array(df_781['Age']),75))"
      ],
      "metadata": {
        "colab": {
          "base_uri": "https://localhost:8080/"
        },
        "id": "SlAGnGhrKVBo",
        "outputId": "2d415be0-a53f-4d0a-fce5-8cfb943045f2"
      },
      "execution_count": null,
      "outputs": [
        {
          "output_type": "stream",
          "name": "stdout",
          "text": [
            "Max age of customer using KP781: 48\n",
            "Min age of customer using KP781: 22\n",
            "Mean age of customer using KP781: 29.1\n",
            "Median age of customer using KP781: 27.0\n",
            "Mode age of customer using KP781: 25\n",
            "25 percentile of age of customers using KP781: 24.75\n",
            "50 percentile of age of customers using KP781: 27.0\n",
            "75 percentile of age of customers using KP781: 30.25\n"
          ]
        }
      ]
    },
    {
      "cell_type": "code",
      "source": [
        "#Education related Analysis\n",
        "print(\"Max Education of customer using KP781:\",df_781['Education'].max())\n",
        "print(\"Min Education of customer using KP781:\",df_781['Education'].min())\n",
        "print(\"Mean Education of customer using KP781:\",df_781['Education'].mean())\n",
        "print(\"Median Education of customer using KP781:\",df_781['Education'].median())\n",
        "print(\"Mode Edcucation of customer using KP781:\",df_781['Education'].mode()[0])\n",
        "print(\"25 percentile of Education of customers using KP781:\",np.percentile(np.array(df_781['Education']),25))\n",
        "print(\"50 percentile of Education of customers using KP781:\",np.percentile(np.array(df_781['Education']),50))\n",
        "print(\"75 percentile of Education of customers using KP781:\",np.percentile(np.array(df_781['Education']),75))"
      ],
      "metadata": {
        "colab": {
          "base_uri": "https://localhost:8080/"
        },
        "id": "uuS3i7NRKlCb",
        "outputId": "c0d37bf5-8cae-4394-9a32-26a8989c7477"
      },
      "execution_count": null,
      "outputs": [
        {
          "output_type": "stream",
          "name": "stdout",
          "text": [
            "Max Education of customer using KP781: 21\n",
            "Min Education of customer using KP781: 14\n",
            "Mean Education of customer using KP781: 17.325\n",
            "Median Education of customer using KP781: 18.0\n",
            "Mode Edcucation of customer using KP781: 18\n",
            "25 percentile of Education of customers using KP781: 16.0\n",
            "50 percentile of Education of customers using KP781: 18.0\n",
            "75 percentile of Education of customers using KP781: 18.0\n"
          ]
        }
      ]
    },
    {
      "cell_type": "code",
      "source": [
        "#Income related Analysis\n",
        "print(\"Max Income of customer using KP781:\",df_781['Income'].max())\n",
        "print(\"Min Income of customer using KP781:\",df_781['Income'].min())\n",
        "print(\"Mean Income of customer using KP781:\",df_781['Income'].mean())\n",
        "print(\"Median Income of customer using KP781:\",df_781['Income'].median())\n",
        "print(\"Mode Income of customer using KP781:\",df_781['Income'].mode()[0])\n",
        "print(\"25 percentile of Income of customers using KP781:\",np.percentile(np.array(df_781['Income']),25))\n",
        "print(\"50 percentile of Income of customers using KP781:\",np.percentile(np.array(df_781['Income']),50))\n",
        "print(\"75 percentile of Income of customers using KP781:\",np.percentile(np.array(df_781['Income']),75))"
      ],
      "metadata": {
        "colab": {
          "base_uri": "https://localhost:8080/"
        },
        "id": "wgH0enH3K0bo",
        "outputId": "25d14719-8959-44a1-e8e9-e7fbad74ab0b"
      },
      "execution_count": null,
      "outputs": [
        {
          "output_type": "stream",
          "name": "stdout",
          "text": [
            "Max Income of customer using KP781: 104581\n",
            "Min Income of customer using KP781: 48556\n",
            "Mean Income of customer using KP781: 75441.575\n",
            "Median Income of customer using KP781: 76568.5\n",
            "Mode Income of customer using KP781: 90886\n",
            "25 percentile of Income of customers using KP781: 58204.75\n",
            "50 percentile of Income of customers using KP781: 76568.5\n",
            "75 percentile of Income of customers using KP781: 90886.0\n"
          ]
        }
      ]
    },
    {
      "cell_type": "code",
      "source": [
        "#Usage related Analysis\n",
        "print(\"Max Usage of customer using KP781:\",df_781['Usage'].max())\n",
        "print(\"Min Usage of customer using KP781:\",df_781['Usage'].min())\n",
        "print(\"Mean Usage of customer using KP781:\",df_781['Usage'].mean())\n",
        "print(\"Median Usage of customer using KP781:\",df_781['Usage'].median())\n",
        "print(\"Mode Usage of customer using KP781:\",df_781['Usage'].mode()[0])\n",
        "print(\"25 percentile of Usage of customers using KP781:\",np.percentile(np.array(df_781['Usage']),25))\n",
        "print(\"50 percentile of Usage of customers using KP781:\",np.percentile(np.array(df_781['Usage']),50))\n",
        "print(\"75 percentile of Usage of customers using KP781:\",np.percentile(np.array(df_781['Usage']),75))"
      ],
      "metadata": {
        "colab": {
          "base_uri": "https://localhost:8080/"
        },
        "id": "pKl3u9f8LEXd",
        "outputId": "f6d89a02-5626-4f17-ceb0-b167c4ec602d"
      },
      "execution_count": null,
      "outputs": [
        {
          "output_type": "stream",
          "name": "stdout",
          "text": [
            "Max Usage of customer using KP781: 7\n",
            "Min Usage of customer using KP781: 3\n",
            "Mean Usage of customer using KP781: 4.775\n",
            "Median Usage of customer using KP781: 5.0\n",
            "Mode Usage of customer using KP781: 4\n",
            "25 percentile of Usage of customers using KP781: 4.0\n",
            "50 percentile of Usage of customers using KP781: 5.0\n",
            "75 percentile of Usage of customers using KP781: 5.0\n"
          ]
        }
      ]
    },
    {
      "cell_type": "code",
      "source": [
        "#fitness related Analysis\n",
        "print(\"Max Fitness of customer using KP781:\",df_781['Fitness'].max())\n",
        "print(\"Min Fitness of customer using KP781:\",df_781['Fitness'].min())\n",
        "print(\"Mean Fitness of customer using KP781:\",df_781['Fitness'].mean())\n",
        "print(\"Median Fitness of customer using KP781:\",df_781['Fitness'].median())\n",
        "print(\"Mode Fitness of customer using KP781:\",df_781['Fitness'].mode()[0])\n",
        "print(\"25 percentile of Fitness of customers using KP781:\",np.percentile(np.array(df_781['Fitness']),25))\n",
        "print(\"50 percentile of Fitness of customers using KP781:\",np.percentile(np.array(df_781['Fitness']),50))\n",
        "print(\"75 percentile of Fitness of customers using KP781:\",np.percentile(np.array(df_781['Fitness']),75))"
      ],
      "metadata": {
        "colab": {
          "base_uri": "https://localhost:8080/"
        },
        "id": "cBQJfbIBLbSO",
        "outputId": "4e3e5f56-9f47-46a1-efe9-3c948a482b27"
      },
      "execution_count": null,
      "outputs": [
        {
          "output_type": "stream",
          "name": "stdout",
          "text": [
            "Max Fitness of customer using KP781: 5\n",
            "Min Fitness of customer using KP781: 3\n",
            "Mean Fitness of customer using KP781: 4.625\n",
            "Median Fitness of customer using KP781: 5.0\n",
            "Mode Fitness of customer using KP781: 5\n",
            "25 percentile of Fitness of customers using KP781: 4.0\n",
            "50 percentile of Fitness of customers using KP781: 5.0\n",
            "75 percentile of Fitness of customers using KP781: 5.0\n"
          ]
        }
      ]
    },
    {
      "cell_type": "code",
      "source": [
        "#Miles related Analysis\n",
        "print(\"Max Miles of customer using KP781:\",df_781['Miles'].max())\n",
        "print(\"Min Miles of customer using KP781:\",df_781['Miles'].min())\n",
        "print(\"Mean Miles of customer using KP781:\",df_781['Miles'].mean())\n",
        "print(\"Median Miles of customer using KP781:\",df_781['Miles'].median())\n",
        "print(\"Mode Miles of customer using KP781:\",df_781['Miles'].mode()[0])\n",
        "print(\"25 percentile of Miles of customers using KP781:\",np.percentile(np.array(df_781['Miles']),25))\n",
        "print(\"50 percentile of Miles of customers using KP781:\",np.percentile(np.array(df_781['Miles']),50))\n",
        "print(\"75 percentile of Miles of customers using KP781:\",np.percentile(np.array(df_781['Miles']),75))"
      ],
      "metadata": {
        "colab": {
          "base_uri": "https://localhost:8080/"
        },
        "id": "qr-QQC7dLyp_",
        "outputId": "7b180ef2-3b2e-4348-967e-89b36e73400f"
      },
      "execution_count": null,
      "outputs": [
        {
          "output_type": "stream",
          "name": "stdout",
          "text": [
            "Max Miles of customer using KP781: 360\n",
            "Min Miles of customer using KP781: 80\n",
            "Mean Miles of customer using KP781: 166.9\n",
            "Median Miles of customer using KP781: 160.0\n",
            "Mode Miles of customer using KP781: 100\n",
            "25 percentile of Miles of customers using KP781: 120.0\n",
            "50 percentile of Miles of customers using KP781: 160.0\n",
            "75 percentile of Miles of customers using KP781: 200.0\n"
          ]
        }
      ]
    },
    {
      "cell_type": "code",
      "source": [
        "#checking the No of :\n",
        "\n",
        "# Female  Single and Female Partnered\n",
        "# Male Single and Male Partnered\n",
        "\n",
        "temp3=pd.DataFrame(df_781[['Gender','MaritalStatus']].value_counts().sort_values())\n",
        "temp3=temp3.reset_index()\n",
        "temp3.columns=['Gender','MaritalStatus','Count']\n",
        "temp3"
      ],
      "metadata": {
        "colab": {
          "base_uri": "https://localhost:8080/",
          "height": 175
        },
        "id": "lqN4bJ8lMElU",
        "outputId": "582cfe35-a771-4a44-fa79-c1d29eb0c57f"
      },
      "execution_count": null,
      "outputs": [
        {
          "output_type": "execute_result",
          "data": {
            "text/plain": [
              "   Gender MaritalStatus  Count\n",
              "0  Female        Single      3\n",
              "1  Female     Partnered      4\n",
              "2    Male        Single     14\n",
              "3    Male     Partnered     19"
            ],
            "text/html": [
              "\n",
              "  <div id=\"df-fdc7caf2-41f3-4bcf-a803-8fa352c02c9a\">\n",
              "    <div class=\"colab-df-container\">\n",
              "      <div>\n",
              "<style scoped>\n",
              "    .dataframe tbody tr th:only-of-type {\n",
              "        vertical-align: middle;\n",
              "    }\n",
              "\n",
              "    .dataframe tbody tr th {\n",
              "        vertical-align: top;\n",
              "    }\n",
              "\n",
              "    .dataframe thead th {\n",
              "        text-align: right;\n",
              "    }\n",
              "</style>\n",
              "<table border=\"1\" class=\"dataframe\">\n",
              "  <thead>\n",
              "    <tr style=\"text-align: right;\">\n",
              "      <th></th>\n",
              "      <th>Gender</th>\n",
              "      <th>MaritalStatus</th>\n",
              "      <th>Count</th>\n",
              "    </tr>\n",
              "  </thead>\n",
              "  <tbody>\n",
              "    <tr>\n",
              "      <th>0</th>\n",
              "      <td>Female</td>\n",
              "      <td>Single</td>\n",
              "      <td>3</td>\n",
              "    </tr>\n",
              "    <tr>\n",
              "      <th>1</th>\n",
              "      <td>Female</td>\n",
              "      <td>Partnered</td>\n",
              "      <td>4</td>\n",
              "    </tr>\n",
              "    <tr>\n",
              "      <th>2</th>\n",
              "      <td>Male</td>\n",
              "      <td>Single</td>\n",
              "      <td>14</td>\n",
              "    </tr>\n",
              "    <tr>\n",
              "      <th>3</th>\n",
              "      <td>Male</td>\n",
              "      <td>Partnered</td>\n",
              "      <td>19</td>\n",
              "    </tr>\n",
              "  </tbody>\n",
              "</table>\n",
              "</div>\n",
              "      <button class=\"colab-df-convert\" onclick=\"convertToInteractive('df-fdc7caf2-41f3-4bcf-a803-8fa352c02c9a')\"\n",
              "              title=\"Convert this dataframe to an interactive table.\"\n",
              "              style=\"display:none;\">\n",
              "        \n",
              "  <svg xmlns=\"http://www.w3.org/2000/svg\" height=\"24px\"viewBox=\"0 0 24 24\"\n",
              "       width=\"24px\">\n",
              "    <path d=\"M0 0h24v24H0V0z\" fill=\"none\"/>\n",
              "    <path d=\"M18.56 5.44l.94 2.06.94-2.06 2.06-.94-2.06-.94-.94-2.06-.94 2.06-2.06.94zm-11 1L8.5 8.5l.94-2.06 2.06-.94-2.06-.94L8.5 2.5l-.94 2.06-2.06.94zm10 10l.94 2.06.94-2.06 2.06-.94-2.06-.94-.94-2.06-.94 2.06-2.06.94z\"/><path d=\"M17.41 7.96l-1.37-1.37c-.4-.4-.92-.59-1.43-.59-.52 0-1.04.2-1.43.59L10.3 9.45l-7.72 7.72c-.78.78-.78 2.05 0 2.83L4 21.41c.39.39.9.59 1.41.59.51 0 1.02-.2 1.41-.59l7.78-7.78 2.81-2.81c.8-.78.8-2.07 0-2.86zM5.41 20L4 18.59l7.72-7.72 1.47 1.35L5.41 20z\"/>\n",
              "  </svg>\n",
              "      </button>\n",
              "      \n",
              "  <style>\n",
              "    .colab-df-container {\n",
              "      display:flex;\n",
              "      flex-wrap:wrap;\n",
              "      gap: 12px;\n",
              "    }\n",
              "\n",
              "    .colab-df-convert {\n",
              "      background-color: #E8F0FE;\n",
              "      border: none;\n",
              "      border-radius: 50%;\n",
              "      cursor: pointer;\n",
              "      display: none;\n",
              "      fill: #1967D2;\n",
              "      height: 32px;\n",
              "      padding: 0 0 0 0;\n",
              "      width: 32px;\n",
              "    }\n",
              "\n",
              "    .colab-df-convert:hover {\n",
              "      background-color: #E2EBFA;\n",
              "      box-shadow: 0px 1px 2px rgba(60, 64, 67, 0.3), 0px 1px 3px 1px rgba(60, 64, 67, 0.15);\n",
              "      fill: #174EA6;\n",
              "    }\n",
              "\n",
              "    [theme=dark] .colab-df-convert {\n",
              "      background-color: #3B4455;\n",
              "      fill: #D2E3FC;\n",
              "    }\n",
              "\n",
              "    [theme=dark] .colab-df-convert:hover {\n",
              "      background-color: #434B5C;\n",
              "      box-shadow: 0px 1px 3px 1px rgba(0, 0, 0, 0.15);\n",
              "      filter: drop-shadow(0px 1px 2px rgba(0, 0, 0, 0.3));\n",
              "      fill: #FFFFFF;\n",
              "    }\n",
              "  </style>\n",
              "\n",
              "      <script>\n",
              "        const buttonEl =\n",
              "          document.querySelector('#df-fdc7caf2-41f3-4bcf-a803-8fa352c02c9a button.colab-df-convert');\n",
              "        buttonEl.style.display =\n",
              "          google.colab.kernel.accessAllowed ? 'block' : 'none';\n",
              "\n",
              "        async function convertToInteractive(key) {\n",
              "          const element = document.querySelector('#df-fdc7caf2-41f3-4bcf-a803-8fa352c02c9a');\n",
              "          const dataTable =\n",
              "            await google.colab.kernel.invokeFunction('convertToInteractive',\n",
              "                                                     [key], {});\n",
              "          if (!dataTable) return;\n",
              "\n",
              "          const docLinkHtml = 'Like what you see? Visit the ' +\n",
              "            '<a target=\"_blank\" href=https://colab.research.google.com/notebooks/data_table.ipynb>data table notebook</a>'\n",
              "            + ' to learn more about interactive tables.';\n",
              "          element.innerHTML = '';\n",
              "          dataTable['output_type'] = 'display_data';\n",
              "          await google.colab.output.renderOutput(dataTable, element);\n",
              "          const docLink = document.createElement('div');\n",
              "          docLink.innerHTML = docLinkHtml;\n",
              "          element.appendChild(docLink);\n",
              "        }\n",
              "      </script>\n",
              "    </div>\n",
              "  </div>\n",
              "  "
            ]
          },
          "metadata": {},
          "execution_count": 79
        }
      ]
    },
    {
      "cell_type": "code",
      "source": [
        "sns.barplot(data=temp3,x='Gender',hue='MaritalStatus',y='Count')"
      ],
      "metadata": {
        "colab": {
          "base_uri": "https://localhost:8080/",
          "height": 297
        },
        "id": "IU3H4PXqMST0",
        "outputId": "f46f936d-1269-423c-9ea4-d6a662204e82"
      },
      "execution_count": null,
      "outputs": [
        {
          "output_type": "execute_result",
          "data": {
            "text/plain": [
              "<matplotlib.axes._subplots.AxesSubplot at 0x7f06a71aeb50>"
            ]
          },
          "metadata": {},
          "execution_count": 80
        },
        {
          "output_type": "display_data",
          "data": {
            "text/plain": [
              "<Figure size 432x288 with 1 Axes>"
            ],
            "image/png": "[encoded data removed]"
          },
          "metadata": {
            "needs_background": "light"
          }
        }
      ]
    },
    {
      "cell_type": "code",
      "source": [
        "#Analysing the female and male customers of KP781 separately\n",
        "df_781_males=df_781.loc[df_781['Gender']=='Male']\n",
        "df_781_females=df_781.loc[df_781['Gender']=='Female']"
      ],
      "metadata": {
        "id": "UzImfGHsMdlK"
      },
      "execution_count": null,
      "outputs": []
    },
    {
      "cell_type": "code",
      "source": [
        "#Age related analysis if female and male customers\n",
        "#Comparison\n",
        "print(\"Max age of  male customer using KP781:\",df_781_males['Age'].max())\n",
        "print(\"Max age of  Female customer using KP781:\",df_781_females['Age'].max())\n",
        "print(\"==================================================================\")\n",
        "print(\"Min age of male customer using KP781:\",df_781_males['Age'].min())\n",
        "print(\"Min age of  female customer using KP781:\",df_781_females['Age'].min())\n",
        "print(\"==================================================================\")\n",
        "print(\"Mean age of male customers using KP781:\",df_781_males['Age'].mean())\n",
        "print(\"Mean age of female customers using KP781:\",df_781_females['Age'].mean())\n",
        "print(\"==================================================================\")\n",
        "print(\"Median age of male customers using KP781:\",df_781_males['Age'].median())\n",
        "print(\"Median age of female customers using KP781:\",df_781_females['Age'].median())\n",
        "print(\"==================================================================\")\n",
        "print(\"Mode age of male customer using KP781:\",df_781_males['Age'].mode()[0])\n",
        "print(\"Mode age of female customer using KP781:\",df_781_females['Age'].mode()[0])\n",
        "print(\"==================================================================\")\n",
        "print(\"25 percentile of  age of male customers using KP781:\",np.percentile(np.array(df_781_males['Age']),25))\n",
        "print(\"25 percentile of  age of  female customers using KP781:\",np.percentile(np.array(df_781_females['Age']),25))\n",
        "print(\"==================================================================\")\n",
        "print(\"50 percentile of age of male customers using KP781 (median):\",np.percentile(np.array(df_781_males['Age']),50))\n",
        "print(\"50 percentile of age of female customers using KP781 (median):\",np.percentile(np.array(df_781_females['Age']),50))\n",
        "print(\"==================================================================\")\n",
        "print(\"75 percentile of age of male customers using KP781:\",np.percentile(np.array(df_781_males['Age']),75))\n",
        "print(\"75 percentile of age of female customers using KP781:\",np.percentile(np.array(df_781_females['Age']),75))"
      ],
      "metadata": {
        "colab": {
          "base_uri": "https://localhost:8080/"
        },
        "id": "Vn1Y0Y8lMo__",
        "outputId": "42f42d50-e7f2-4339-829a-1d0fcb98f604"
      },
      "execution_count": null,
      "outputs": [
        {
          "output_type": "stream",
          "name": "stdout",
          "text": [
            "Max age of  male customer using KP781: 48\n",
            "Max age of  Female customer using KP781: 33\n",
            "==================================================================\n",
            "Min age of male customer using KP781: 22\n",
            "Min age of  female customer using KP781: 23\n",
            "==================================================================\n",
            "Mean age of male customers using KP781: 29.545454545454547\n",
            "Mean age of female customers using KP781: 27.0\n",
            "==================================================================\n",
            "Median age of male customers using KP781: 27.0\n",
            "Median age of female customers using KP781: 26.0\n",
            "==================================================================\n",
            "Mode age of male customer using KP781: 25\n",
            "Mode age of female customer using KP781: 23\n",
            "==================================================================\n",
            "25 percentile of  age of male customers using KP781: 25.0\n",
            "25 percentile of  age of  female customers using KP781: 24.5\n",
            "==================================================================\n",
            "50 percentile of age of male customers using KP781 (median): 27.0\n",
            "50 percentile of age of female customers using KP781 (median): 26.0\n",
            "==================================================================\n",
            "75 percentile of age of male customers using KP781: 31.0\n",
            "75 percentile of age of female customers using KP781: 29.0\n"
          ]
        }
      ]
    },
    {
      "cell_type": "code",
      "source": [
        "#Education related analysis of female and male customers\n",
        "#Comparison\n",
        "\n",
        "print(\"Max Education of  male customer using KP781:\",df_781_males['Education'].max())\n",
        "print(\"Max Education of  Female customer using KP781:\",df_781_females['Education'].max())\n",
        "print(\"==================================================================\")\n",
        "print(\"Min Education of male customer using KP781:\",df_781_males['Education'].min())\n",
        "print(\"Min Education of  female customer using KP781:\",df_781_females['Education'].min())\n",
        "print(\"==================================================================\")\n",
        "print(\"Mean Education of male customers using KP781:\",df_781_males['Education'].mean())\n",
        "print(\"Mean Education of female customers using KP781:\",df_781_females['Education'].mean())\n",
        "print(\"==================================================================\")\n",
        "print(\"Median Education of male customers using KP781:\",df_781_males['Education'].median())\n",
        "print(\"Median Education of female customers using KP781:\",df_781_females['Education'].median())\n",
        "print(\"==================================================================\")\n",
        "print(\"Mode Education of male customer using KP781:\",df_781_males['Education'].mode()[0])\n",
        "print(\"Mode Education of female customer using KP781:\",df_781_females['Education'].mode()[0])\n",
        "print(\"==================================================================\")\n",
        "print(\"25 percentile of  Education of male customers using KP781:\",np.percentile(np.array(df_781_males['Education']),25))\n",
        "print(\"25 percentile of  Education of  female customers using KP781:\",np.percentile(np.array(df_781_females['Education']),25))\n",
        "print(\"==================================================================\")\n",
        "print(\"50 percentile of Education of male customers using KP781 (median):\",np.percentile(np.array(df_781_males['Education']),50))\n",
        "print(\"50 percentile of Education of female customers using KP781 (median):\",np.percentile(np.array(df_781_females['Education']),50))\n",
        "print(\"==================================================================\")\n",
        "print(\"75 percentile of Education of male customers using KP781:\",np.percentile(np.array(df_781_males['Education']),75))\n",
        "print(\"75 percentile of Education of female customers using KP781:\",np.percentile(np.array(df_781_females['Education']),75))"
      ],
      "metadata": {
        "colab": {
          "base_uri": "https://localhost:8080/"
        },
        "id": "wJTvmSoKNy6G",
        "outputId": "c7ae1486-ab68-4c79-8704-7783978db982"
      },
      "execution_count": null,
      "outputs": [
        {
          "output_type": "stream",
          "name": "stdout",
          "text": [
            "Max Education of  male customer using KP781: 21\n",
            "Max Education of  Female customer using KP781: 21\n",
            "==================================================================\n",
            "Min Education of male customer using KP781: 14\n",
            "Min Education of  female customer using KP781: 16\n",
            "==================================================================\n",
            "Mean Education of male customers using KP781: 17.21212121212121\n",
            "Mean Education of female customers using KP781: 17.857142857142858\n",
            "==================================================================\n",
            "Median Education of male customers using KP781: 18.0\n",
            "Median Education of female customers using KP781: 18.0\n",
            "==================================================================\n",
            "Mode Education of male customer using KP781: 18\n",
            "Mode Education of female customer using KP781: 18\n",
            "==================================================================\n",
            "25 percentile of  Education of male customers using KP781: 16.0\n",
            "25 percentile of  Education of  female customers using KP781: 17.0\n",
            "==================================================================\n",
            "50 percentile of Education of male customers using KP781 (median): 18.0\n",
            "50 percentile of Education of female customers using KP781 (median): 18.0\n",
            "==================================================================\n",
            "75 percentile of Education of male customers using KP781: 18.0\n",
            "75 percentile of Education of female customers using KP781: 18.0\n"
          ]
        }
      ]
    },
    {
      "cell_type": "code",
      "source": [
        "#Income related analysis of female and male customers\n",
        "#Comparison\n",
        "\n",
        "print(\"Max Income of  male customer using KP781:\",df_781_males['Income'].max())\n",
        "print(\"Max Income of  Female customer using KP781:\",df_781_females['Income'].max())\n",
        "print(\"==================================================================\")\n",
        "print(\"Min Income of male customer using KP781:\",df_781_males['Income'].min())\n",
        "print(\"Min Income of  female customer using KP781:\",df_781_females['Income'].min())\n",
        "print(\"==================================================================\")\n",
        "print(\"Mean Income of male customers using KP781:\",df_781_males['Income'].mean())\n",
        "print(\"Mean Income of female customers using KP781:\",df_781_females['Income'].mean())\n",
        "print(\"==================================================================\")\n",
        "print(\"Median Income of male customers using KP781:\",df_781_males['Income'].median())\n",
        "print(\"Median Income of female customers using KP781:\",df_781_females['Income'].median())\n",
        "print(\"==================================================================\")\n",
        "print(\"Mode Income of male customer using KP781:\",df_781_males['Income'].mode()[0])\n",
        "print(\"Mode Income of female customer using KP781:\",df_781_females['Income'].mode()[0])\n",
        "print(\"==================================================================\")\n",
        "print(\"25 percentile of  Income of male customers using KP781:\",np.percentile(np.array(df_781_males['Income']),25))\n",
        "print(\"25 percentile of Income  of  female customers using KP781:\",np.percentile(np.array(df_781_females['Income']),25))\n",
        "print(\"==================================================================\")\n",
        "print(\"50 percentile of Income of male customers using KP781 (median):\",np.percentile(np.array(df_781_males['Income']),50))\n",
        "print(\"50 percentile of Income of female customers using KP781 (median):\",np.percentile(np.array(df_781_females['Income']),50))\n",
        "print(\"==================================================================\")\n",
        "print(\"75 percentile of Income of male customers using KP781:\",np.percentile(np.array(df_781_males['Income']),75))\n",
        "print(\"75 percentile of Income of female customers using KP781:\",np.percentile(np.array(df_781_females['Income']),75))"
      ],
      "metadata": {
        "colab": {
          "base_uri": "https://localhost:8080/"
        },
        "id": "ArQT6wqhOSw1",
        "outputId": "8886f52b-d9dd-4f56-a15d-311eea7d6535"
      },
      "execution_count": null,
      "outputs": [
        {
          "output_type": "stream",
          "name": "stdout",
          "text": [
            "Max Income of  male customer using KP781: 104581\n",
            "Max Income of  Female customer using KP781: 95866\n",
            "==================================================================\n",
            "Min Income of male customer using KP781: 48556\n",
            "Min Income of  female customer using KP781: 52291\n",
            "==================================================================\n",
            "Mean Income of male customers using KP781: 75825.0303030303\n",
            "Mean Income of female customers using KP781: 73633.85714285714\n",
            "==================================================================\n",
            "Median Income of male customers using KP781: 77191.0\n",
            "Median Income of female customers using KP781: 69721.0\n",
            "==================================================================\n",
            "Mode Income of male customer using KP781: 48556\n",
            "Mode Income of female customer using KP781: 52291\n",
            "==================================================================\n",
            "25 percentile of  Income of male customers using KP781: 58516.0\n",
            "25 percentile of Income  of  female customers using KP781: 57271.0\n",
            "==================================================================\n",
            "50 percentile of Income of male customers using KP781 (median): 77191.0\n",
            "50 percentile of Income of female customers using KP781 (median): 69721.0\n",
            "==================================================================\n",
            "75 percentile of Income of male customers using KP781: 90886.0\n",
            "75 percentile of Income of female customers using KP781: 91508.5\n"
          ]
        }
      ]
    },
    {
      "cell_type": "code",
      "source": [
        "#Usage related analysis of female and male customers\n",
        "#Comparison\n",
        "\n",
        "print(\"Max Usage of  male customer using KP781:\",df_781_males['Usage'].max())\n",
        "print(\"Max Usage of  Female customer using KP781:\",df_781_females['Usage'].max())\n",
        "print(\"==================================================================\")\n",
        "print(\"Min Usage of male customer using KP781:\",df_781_males['Usage'].min())\n",
        "print(\"Min Usage of  female customer using KP781:\",df_781_females['Usage'].min())\n",
        "print(\"==================================================================\")\n",
        "print(\"Mean Usage of male customers using KP781:\",df_781_males['Usage'].mean())\n",
        "print(\"Mean Usage of female customers using KP781:\",df_781_females['Usage'].mean())\n",
        "print(\"==================================================================\")\n",
        "print(\"Median Usage of male customers using KP781:\",df_781_males['Usage'].median())\n",
        "print(\"Median Usage of female customers using KP781:\",df_781_females['Usage'].median())\n",
        "print(\"==================================================================\")\n",
        "print(\"Mode Usage of male customer using KP781:\",df_781_males['Usage'].mode()[0])\n",
        "print(\"Mode Usage of female customer using KP781:\",df_781_females['Usage'].mode()[0])\n",
        "print(\"==================================================================\")\n",
        "print(\"25 percentile of  Usage of male customers using KP781:\",np.percentile(np.array(df_781_males['Usage']),25))\n",
        "print(\"25 percentile of Usage  of  female customers using KP781:\",np.percentile(np.array(df_781_females['Usage']),25))\n",
        "print(\"==================================================================\")\n",
        "print(\"50 percentile of Usage of male customers using KP781 (median):\",np.percentile(np.array(df_781_males['Usage']),50))\n",
        "print(\"50 percentile of Usage of female customers using KP781 (median):\",np.percentile(np.array(df_781_females['Usage']),50))\n",
        "print(\"==================================================================\")\n",
        "print(\"75 percentile of Usage of male customers using KP781:\",np.percentile(np.array(df_781_males['Usage']),75))\n",
        "print(\"75 percentile of Usage of female customers using KP781:\",np.percentile(np.array(df_781_females['Usage']),75))"
      ],
      "metadata": {
        "colab": {
          "base_uri": "https://localhost:8080/"
        },
        "id": "FC8G8Eb1bWpV",
        "outputId": "fa0b9a5f-cbd7-435c-c7ac-f8e15774f400"
      },
      "execution_count": null,
      "outputs": [
        {
          "output_type": "stream",
          "name": "stdout",
          "text": [
            "Max Usage of  male customer using KP781: 7\n",
            "Max Usage of  Female customer using KP781: 6\n",
            "==================================================================\n",
            "Min Usage of male customer using KP781: 3\n",
            "Min Usage of  female customer using KP781: 4\n",
            "==================================================================\n",
            "Mean Usage of male customers using KP781: 4.7272727272727275\n",
            "Mean Usage of female customers using KP781: 5.0\n",
            "==================================================================\n",
            "Median Usage of male customers using KP781: 4.0\n",
            "Median Usage of female customers using KP781: 5.0\n",
            "==================================================================\n",
            "Mode Usage of male customer using KP781: 4\n",
            "Mode Usage of female customer using KP781: 5\n",
            "==================================================================\n",
            "25 percentile of  Usage of male customers using KP781: 4.0\n",
            "25 percentile of Usage  of  female customers using KP781: 4.5\n",
            "==================================================================\n",
            "50 percentile of Usage of male customers using KP781 (median): 4.0\n",
            "50 percentile of Usage of female customers using KP781 (median): 5.0\n",
            "==================================================================\n",
            "75 percentile of Usage of male customers using KP781: 5.0\n",
            "75 percentile of Usage of female customers using KP781: 5.5\n"
          ]
        }
      ]
    },
    {
      "cell_type": "code",
      "source": [
        "#Fitness related analysis of female and male customers\n",
        "#Comparison\n",
        "\n",
        "print(\"Max Fitness of  male customer using KP781:\",df_781_males['Fitness'].max())\n",
        "print(\"Max Fitness of  Female customer using KP781:\",df_781_females['Fitness'].max())\n",
        "print(\"==================================================================\")\n",
        "print(\"Min Fitness of male customer using KP781:\",df_781_males['Fitness'].min())\n",
        "print(\"Min Fitness of  female customer using KP781:\",df_781_females['Fitness'].min())\n",
        "print(\"==================================================================\")\n",
        "print(\"Mean Fitness of male customers using KP781:\",df_781_males['Fitness'].mean())\n",
        "print(\"Mean Fitness of female customers using KP781:\",df_781_females['Fitness'].mean())\n",
        "print(\"==================================================================\")\n",
        "print(\"Median Fitness of male customers using KP781:\",df_781_males['Fitness'].median())\n",
        "print(\"Median Fitness of female customers using KP781:\",df_781_females['Fitness'].median())\n",
        "print(\"==================================================================\")\n",
        "print(\"Mode Fitness of male customer using KP781:\",df_781_males['Fitness'].mode()[0])\n",
        "print(\"Mode Fitness of female customer using KP781:\",df_781_females['Fitness'].mode()[0])\n",
        "print(\"==================================================================\")\n",
        "print(\"25 percentile of  Fitness of male customers using KP781:\",np.percentile(np.array(df_781_males['Fitness']),25))\n",
        "print(\"25 percentile of Fitness  of  female customers using KP781:\",np.percentile(np.array(df_781_females['Fitness']),25))\n",
        "print(\"==================================================================\")\n",
        "print(\"50 percentile of Fitness of male customers using KP781 (median):\",np.percentile(np.array(df_781_males['Fitness']),50))\n",
        "print(\"50 percentile of Fitness of female customers using KP781 (median):\",np.percentile(np.array(df_781_females['Fitness']),50))\n",
        "print(\"==================================================================\")\n",
        "print(\"75 percentile of Fitness of male customers using KP781:\",np.percentile(np.array(df_781_males['Fitness']),75))\n",
        "print(\"75 percentile of Fitness of female customers using KP781:\",np.percentile(np.array(df_781_females['Fitness']),75))"
      ],
      "metadata": {
        "colab": {
          "base_uri": "https://localhost:8080/"
        },
        "id": "9jo-XKFlb_dO",
        "outputId": "0c208cc1-58ee-49b6-bc11-b8b22afc6844"
      },
      "execution_count": null,
      "outputs": [
        {
          "output_type": "stream",
          "name": "stdout",
          "text": [
            "Max Fitness of  male customer using KP781: 5\n",
            "Max Fitness of  Female customer using KP781: 5\n",
            "==================================================================\n",
            "Min Fitness of male customer using KP781: 3\n",
            "Min Fitness of  female customer using KP781: 3\n",
            "==================================================================\n",
            "Mean Fitness of male customers using KP781: 4.636363636363637\n",
            "Mean Fitness of female customers using KP781: 4.571428571428571\n",
            "==================================================================\n",
            "Median Fitness of male customers using KP781: 5.0\n",
            "Median Fitness of female customers using KP781: 5.0\n",
            "==================================================================\n",
            "Mode Fitness of male customer using KP781: 5\n",
            "Mode Fitness of female customer using KP781: 5\n",
            "==================================================================\n",
            "25 percentile of  Fitness of male customers using KP781: 4.0\n",
            "25 percentile of Fitness  of  female customers using KP781: 4.5\n",
            "==================================================================\n",
            "50 percentile of Fitness of male customers using KP781 (median): 5.0\n",
            "50 percentile of Fitness of female customers using KP781 (median): 5.0\n",
            "==================================================================\n",
            "75 percentile of Fitness of male customers using KP781: 5.0\n",
            "75 percentile of Fitness of female customers using KP781: 5.0\n"
          ]
        }
      ]
    },
    {
      "cell_type": "code",
      "source": [
        "#Miles related analysis of female and male customers\n",
        "#Comparison\n",
        "\n",
        "print(\"Max Miles covered by  male customer using KP781:\",df_781_males['Miles'].max())\n",
        "print(\"Max Miles covered by Female customer using KP781:\",df_781_females['Miles'].max())\n",
        "print(\"==================================================================\")\n",
        "print(\"Min Miles covered by male customer using KP781:\",df_781_males['Miles'].min())\n",
        "print(\"Min Miles covered by female customer using KP781:\",df_781_females['Miles'].min())\n",
        "print(\"==================================================================\")\n",
        "print(\"Mean Miles covered by male customers using KP781:\",df_781_males['Miles'].mean())\n",
        "print(\"Mean Miles covered by female customers using KP781:\",df_781_females['Miles'].mean())\n",
        "print(\"==================================================================\")\n",
        "print(\"Median Miles covered by male customers using KP781:\",df_781_males['Miles'].median())\n",
        "print(\"Median Miles covered by female customers using KP781:\",df_781_females['Miles'].median())\n",
        "print(\"==================================================================\")\n",
        "print(\"Mode Miles covered by male customer using KP781:\",df_781_males['Miles'].mode()[0])\n",
        "print(\"Mode Miles covered by female customer using KP781:\",df_781_females['Miles'].mode()[0])\n",
        "print(\"==================================================================\")\n",
        "print(\"25 percentile of  Miles covered by male customers using KP781:\",np.percentile(np.array(df_781_males['Miles']),25))\n",
        "print(\"25 percentile of Miles covered by  female customers using KP781:\",np.percentile(np.array(df_781_females['Miles']),25))\n",
        "print(\"==================================================================\")\n",
        "print(\"50 percentile of Miles covered by male customers using KP781 (median):\",np.percentile(np.array(df_781_males['Miles']),50))\n",
        "print(\"50 percentile of Miles covered by female customers using KP781 (median):\",np.percentile(np.array(df_781_females['Miles']),50))\n",
        "print(\"==================================================================\")\n",
        "print(\"75 percentile of Miles covered by male customers using KP781:\",np.percentile(np.array(df_781_males['Miles']),75))\n",
        "print(\"75 percentile of Miles covered by female customers using KP781:\",np.percentile(np.array(df_781_females['Miles']),75))"
      ],
      "metadata": {
        "colab": {
          "base_uri": "https://localhost:8080/"
        },
        "id": "l7Gz_uSecioj",
        "outputId": "7415ae0a-52a4-4d8c-f545-cc15647d1cb4"
      },
      "execution_count": null,
      "outputs": [
        {
          "output_type": "stream",
          "name": "stdout",
          "text": [
            "Max Miles covered by  male customer using KP781: 360\n",
            "Max Miles covered by Female customer using KP781: 280\n",
            "==================================================================\n",
            "Min Miles covered by male customer using KP781: 80\n",
            "Min Miles covered by female customer using KP781: 100\n",
            "==================================================================\n",
            "Mean Miles covered by male customers using KP781: 164.12121212121212\n",
            "Mean Miles covered by female customers using KP781: 180.0\n",
            "==================================================================\n",
            "Median Miles covered by male customers using KP781: 160.0\n",
            "Median Miles covered by female customers using KP781: 200.0\n",
            "==================================================================\n",
            "Mode Miles covered by male customer using KP781: 100\n",
            "Mode Miles covered by female customer using KP781: 200\n",
            "==================================================================\n",
            "25 percentile of  Miles covered by male customers using KP781: 120.0\n",
            "25 percentile of Miles covered by  female customers using KP781: 140.0\n",
            "==================================================================\n",
            "50 percentile of Miles covered by male customers using KP781 (median): 160.0\n",
            "50 percentile of Miles covered by female customers using KP781 (median): 200.0\n",
            "==================================================================\n",
            "75 percentile of Miles covered by male customers using KP781: 180.0\n",
            "75 percentile of Miles covered by female customers using KP781: 200.0\n"
          ]
        }
      ]
    },
    {
      "cell_type": "markdown",
      "source": [
        "#3) Visual Analysis - Univariate & Bivariate"
      ],
      "metadata": {
        "id": "SrwEPHzydPr2"
      }
    },
    {
      "cell_type": "markdown",
      "source": [
        "#1) Univariate Analysis-continuous"
      ],
      "metadata": {
        "id": "s50Ek5_ndvLH"
      }
    },
    {
      "cell_type": "code",
      "source": [
        "plt.figure(figsize=(8,5))\n",
        "sns.distplot(df['Age'],bins=10)\n",
        "plt.title(\"Age Analysis\")\n",
        "plt.show()"
      ],
      "metadata": {
        "colab": {
          "base_uri": "https://localhost:8080/",
          "height": 407
        },
        "id": "hLBrzEeRdoRJ",
        "outputId": "b9d777f9-b6da-412b-e4f3-c49d45f0c415"
      },
      "execution_count": null,
      "outputs": [
        {
          "output_type": "stream",
          "name": "stderr",
          "text": [
            "/usr/local/lib/python3.8/dist-packages/seaborn/distributions.py:2619: FutureWarning: `distplot` is a deprecated function and will be removed in a future version. Please adapt your code to use either `displot` (a figure-level function with similar flexibility) or `histplot` (an axes-level function for histograms).\n",
            "  warnings.warn(msg, FutureWarning)\n"
          ]
        },
        {
          "output_type": "display_data",
          "data": {
            "text/plain": [
              "<Figure size 576x360 with 1 Axes>"
            ],
            "image/png": "[encoded data removed]"
          },
          "metadata": {
            "needs_background": "light"
          }
        }
      ]
    },
    {
      "cell_type": "markdown",
      "source": [
        "From this plot,Its clear that the majority of the users are in the age group 20-30"
      ],
      "metadata": {
        "id": "0WV3P_QCed99"
      }
    },
    {
      "cell_type": "code",
      "source": [
        "sns.boxplot(df['Age'])\n",
        "plt.title('Age analysis to find mean,median')\n",
        "plt.show()"
      ],
      "metadata": {
        "colab": {
          "base_uri": "https://localhost:8080/",
          "height": 352
        },
        "id": "qRWXYTtCrC43",
        "outputId": "b2a711b8-7451-4d26-f8e3-c5fb090ad01a"
      },
      "execution_count": null,
      "outputs": [
        {
          "output_type": "stream",
          "name": "stderr",
          "text": [
            "/usr/local/lib/python3.8/dist-packages/seaborn/_decorators.py:36: FutureWarning: Pass the following variable as a keyword arg: x. From version 0.12, the only valid positional argument will be `data`, and passing other arguments without an explicit keyword will result in an error or misinterpretation.\n",
            "  warnings.warn(\n"
          ]
        },
        {
          "output_type": "display_data",
          "data": {
            "text/plain": [
              "<Figure size 432x288 with 1 Axes>"
            ],
            "image/png": "[encoded data removed]"
          },
          "metadata": {
            "needs_background": "light"
          }
        }
      ]
    },
    {
      "cell_type": "markdown",
      "source": [
        "The median age of customers is about 26 years and mean age is about 29 years"
      ],
      "metadata": {
        "id": "GJfT1MHRrcX1"
      }
    },
    {
      "cell_type": "code",
      "source": [
        "plt.figure(figsize=(8,5))\n",
        "sns.distplot(df['Income'],bins=10)\n",
        "plt.title(\"Income Analysis\")\n",
        "plt.show()"
      ],
      "metadata": {
        "colab": {
          "base_uri": "https://localhost:8080/",
          "height": 407
        },
        "id": "7xSeYybXd_WF",
        "outputId": "a2c0fab8-7a47-4a97-9a88-e9fe458f5f45"
      },
      "execution_count": null,
      "outputs": [
        {
          "output_type": "stream",
          "name": "stderr",
          "text": [
            "/usr/local/lib/python3.8/dist-packages/seaborn/distributions.py:2619: FutureWarning: `distplot` is a deprecated function and will be removed in a future version. Please adapt your code to use either `displot` (a figure-level function with similar flexibility) or `histplot` (an axes-level function for histograms).\n",
            "  warnings.warn(msg, FutureWarning)\n"
          ]
        },
        {
          "output_type": "display_data",
          "data": {
            "text/plain": [
              "<Figure size 576x360 with 1 Axes>"
            ],
            "image/png": "[encoded data removed]"
          },
          "metadata": {
            "needs_background": "light"
          }
        }
      ]
    },
    {
      "cell_type": "markdown",
      "source": [
        "From this plot its clear that the majority customers have their income \n",
        "between 40000 and 60000"
      ],
      "metadata": {
        "id": "xEtDN4QHezTt"
      }
    },
    {
      "cell_type": "code",
      "source": [
        "plt.figure(figsize=(8,5))\n",
        "plt.hist(df['Miles'])\n",
        "plt.xlabel(\"Avg Miles covers per week\")\n",
        "plt.ylabel(\"count\")\n",
        "plt.title(\"Avg Miles covered VS people count\")\n",
        "plt.show()"
      ],
      "metadata": {
        "colab": {
          "base_uri": "https://localhost:8080/",
          "height": 350
        },
        "id": "ByRWk-KdewGr",
        "outputId": "a50f3c3a-d52b-4fa4-8dbd-dd6e8c6365d8"
      },
      "execution_count": null,
      "outputs": [
        {
          "output_type": "display_data",
          "data": {
            "text/plain": [
              "<Figure size 576x360 with 1 Axes>"
            ],
            "image/png": "[encoded data removed]"
          },
          "metadata": {
            "needs_background": "light"
          }
        }
      ]
    },
    {
      "cell_type": "markdown",
      "source": [
        "From this people it is clear that the most people,on an avg prefers to cover about 70-80 miles a week"
      ],
      "metadata": {
        "id": "drBu0TRzf564"
      }
    },
    {
      "cell_type": "code",
      "source": [
        "plt.figure(figsize=(8,5))\n",
        "plt.hist(df['Education'])\n",
        "plt.xlabel(\"Education in years\")\n",
        "plt.ylabel(\"count\")\n",
        "plt.title(\"Education VS people count\")\n",
        "plt.show()"
      ],
      "metadata": {
        "colab": {
          "base_uri": "https://localhost:8080/",
          "height": 350
        },
        "id": "LoMeCdCOfM1g",
        "outputId": "efa8c7c6-59d2-4e1c-c9c3-139e6e9d6202"
      },
      "execution_count": null,
      "outputs": [
        {
          "output_type": "display_data",
          "data": {
            "text/plain": [
              "<Figure size 576x360 with 1 Axes>"
            ],
            "image/png": "[encoded data removed]"
          },
          "metadata": {
            "needs_background": "light"
          }
        }
      ]
    },
    {
      "cell_type": "markdown",
      "source": [
        "from this graph ,Its clear that most people have education of 16 years, second most is 14 years.Some people have education od 20 and 21 years which can be considered as outliers"
      ],
      "metadata": {
        "id": "z0a2KH_DhVxA"
      }
    },
    {
      "cell_type": "code",
      "source": [
        "plt.figure(figsize=(8,5))\n",
        "sns.distplot(df['Fitness'],bins=10)\n",
        "plt.title(\"Fitness Analysis\")\n",
        "plt.show()"
      ],
      "metadata": {
        "colab": {
          "base_uri": "https://localhost:8080/",
          "height": 407
        },
        "id": "eDeNZ1rJhKP-",
        "outputId": "1b2ac0ec-a554-48d7-ab26-e4f596529c81"
      },
      "execution_count": null,
      "outputs": [
        {
          "output_type": "stream",
          "name": "stderr",
          "text": [
            "/usr/local/lib/python3.8/dist-packages/seaborn/distributions.py:2619: FutureWarning: `distplot` is a deprecated function and will be removed in a future version. Please adapt your code to use either `displot` (a figure-level function with similar flexibility) or `histplot` (an axes-level function for histograms).\n",
            "  warnings.warn(msg, FutureWarning)\n"
          ]
        },
        {
          "output_type": "display_data",
          "data": {
            "text/plain": [
              "<Figure size 576x360 with 1 Axes>"
            ],
            "image/png": "[encoded data removed]"
          },
          "metadata": {
            "needs_background": "light"
          }
        }
      ]
    },
    {
      "cell_type": "markdown",
      "source": [
        "The self-rated fitness scale of most customers is 3-3.5"
      ],
      "metadata": {
        "id": "ee9A9fRrh5Tf"
      }
    },
    {
      "cell_type": "code",
      "source": [
        "plt.figure(figsize=(8,5))\n",
        "sns.distplot(df['Usage'],bins=10)\n",
        "plt.title(\"Usage Analysis\")\n",
        "plt.xlabel('Usage per week')\n",
        "plt.show()"
      ],
      "metadata": {
        "colab": {
          "base_uri": "https://localhost:8080/",
          "height": 407
        },
        "id": "c1Wr3FkpiRPX",
        "outputId": "864da232-8f79-4131-99f5-e4a5316534c9"
      },
      "execution_count": null,
      "outputs": [
        {
          "output_type": "stream",
          "name": "stderr",
          "text": [
            "/usr/local/lib/python3.8/dist-packages/seaborn/distributions.py:2619: FutureWarning: `distplot` is a deprecated function and will be removed in a future version. Please adapt your code to use either `displot` (a figure-level function with similar flexibility) or `histplot` (an axes-level function for histograms).\n",
            "  warnings.warn(msg, FutureWarning)\n"
          ]
        },
        {
          "output_type": "display_data",
          "data": {
            "text/plain": [
              "<Figure size 576x360 with 1 Axes>"
            ],
            "image/png": "[encoded data removed]"
          },
          "metadata": {
            "needs_background": "light"
          }
        }
      ]
    },
    {
      "cell_type": "markdown",
      "source": [
        "From the plot its clear that most customers prefer to use the machines 3-4.5 times a week"
      ],
      "metadata": {
        "id": "LsbzP5DDisCQ"
      }
    },
    {
      "cell_type": "markdown",
      "source": [
        "#Univariate Analysis-Categorical"
      ],
      "metadata": {
        "id": "iT9NslfCkByf"
      }
    },
    {
      "cell_type": "code",
      "source": [
        "temp_g_1=df[['Product','Age']]\n",
        "sns.countplot(data=temp_g_1,x='Product')\n",
        "plt.title(\"Product vs customer count\")\n",
        "plt.show()"
      ],
      "metadata": {
        "colab": {
          "base_uri": "https://localhost:8080/",
          "height": 295
        },
        "id": "suNZNOwyj8bK",
        "outputId": "13cd8c3e-11a7-4afb-8b43-f2178f9530f0"
      },
      "execution_count": null,
      "outputs": [
        {
          "output_type": "display_data",
          "data": {
            "text/plain": [
              "<Figure size 432x288 with 1 Axes>"
            ],
            "image/png": "[encoded data removed]"
          },
          "metadata": {
            "needs_background": "light"
          }
        }
      ]
    },
    {
      "cell_type": "markdown",
      "source": [
        "From the plot,Its clear that customers are the most for KP281, second for KP481 and least for KP781. This may be attributed to the fact that \n",
        "KP281 is the least expensive and KP781 the most"
      ],
      "metadata": {
        "id": "Wq0s0NcZk6eo"
      }
    },
    {
      "cell_type": "code",
      "source": [
        "temp_g_2=df[['MaritalStatus']]\n",
        "sns.countplot(data=temp_g_2,x='MaritalStatus')\n",
        "plt.title(\"Single vs Partnered\")\n",
        "plt.show()"
      ],
      "metadata": {
        "colab": {
          "base_uri": "https://localhost:8080/",
          "height": 295
        },
        "id": "ZJi-790kmLsX",
        "outputId": "5471e0de-3552-4522-8a47-0e7b1c610eb3"
      },
      "execution_count": null,
      "outputs": [
        {
          "output_type": "display_data",
          "data": {
            "text/plain": [
              "<Figure size 432x288 with 1 Axes>"
            ],
            "image/png": "[encoded data removed]"
          },
          "metadata": {
            "needs_background": "light"
          }
        }
      ]
    },
    {
      "cell_type": "markdown",
      "source": [
        "From the plot , we can see that out of all the customers,More people are partnered."
      ],
      "metadata": {
        "id": "B9rm-86goZWO"
      }
    },
    {
      "cell_type": "code",
      "source": [
        "temp_g_4=df[['Gender']]\n",
        "sns.countplot(data=temp_g_4,x='Gender')\n",
        "plt.title(\"Males vs Females\")\n",
        "plt.show()"
      ],
      "metadata": {
        "colab": {
          "base_uri": "https://localhost:8080/",
          "height": 295
        },
        "id": "eK4PaFysn0J9",
        "outputId": "729782f6-33af-4fed-82b1-010953f0171b"
      },
      "execution_count": null,
      "outputs": [
        {
          "output_type": "display_data",
          "data": {
            "text/plain": [
              "<Figure size 432x288 with 1 Axes>"
            ],
            "image/png": "[encoded data removed]"
          },
          "metadata": {
            "needs_background": "light"
          }
        }
      ]
    },
    {
      "cell_type": "markdown",
      "source": [
        "More customers are males compared to females."
      ],
      "metadata": {
        "id": "jWl8SAQCoH45"
      }
    },
    {
      "cell_type": "markdown",
      "source": [
        "#2) Bivariate Analysis-Categorical"
      ],
      "metadata": {
        "id": "NT4MDiPjmyQS"
      }
    },
    {
      "cell_type": "code",
      "source": [
        "temp_g_3=df[['Product','MaritalStatus']]"
      ],
      "metadata": {
        "id": "S-UGkixsmYGL"
      },
      "execution_count": null,
      "outputs": []
    },
    {
      "cell_type": "code",
      "source": [
        "sns.countplot(x='Product',data=temp_g_3,hue='MaritalStatus') "
      ],
      "metadata": {
        "colab": {
          "base_uri": "https://localhost:8080/",
          "height": 300
        },
        "id": "iD1ivM4QnHAm",
        "outputId": "261cf9c9-98f3-443d-e3ab-417a49dafc35"
      },
      "execution_count": null,
      "outputs": [
        {
          "output_type": "execute_result",
          "data": {
            "text/plain": [
              "<matplotlib.axes._subplots.AxesSubplot at 0x7f06a6cf5610>"
            ]
          },
          "metadata": {},
          "execution_count": 99
        },
        {
          "output_type": "display_data",
          "data": {
            "text/plain": [
              "<Figure size 432x288 with 1 Axes>"
            ],
            "image/png": "[encoded data removed]"
          },
          "metadata": {
            "needs_background": "light"
          }
        }
      ]
    },
    {
      "cell_type": "markdown",
      "source": [
        "From this plot,Its clear that in all three products ,More customers are Partnered people."
      ],
      "metadata": {
        "id": "ZpqoDS-incYH"
      }
    },
    {
      "cell_type": "code",
      "source": [
        "temp_g_5=df[['Product','Gender']]\n",
        "sns.countplot(x='Product',data=temp_g_5,hue='Gender') \n",
        "plt.legend(loc='upper right')\n",
        "plt.show()"
      ],
      "metadata": {
        "colab": {
          "base_uri": "https://localhost:8080/",
          "height": 279
        },
        "id": "6ZgtAZ0cnYvy",
        "outputId": "040ca6ab-1d18-42a8-f048-aaf53097ca16"
      },
      "execution_count": null,
      "outputs": [
        {
          "output_type": "display_data",
          "data": {
            "text/plain": [
              "<Figure size 432x288 with 1 Axes>"
            ],
            "image/png": "[encoded data removed]"
          },
          "metadata": {
            "needs_background": "light"
          }
        }
      ]
    },
    {
      "cell_type": "markdown",
      "source": [
        "An Interesting fact from the graph is that KP281 have equal no:of male and female customers.But KP781 have very less no: of female customers as compared to males"
      ],
      "metadata": {
        "id": "EJgatBu4qFOj"
      }
    },
    {
      "cell_type": "markdown",
      "source": [
        "#Bivariate-Continuous"
      ],
      "metadata": {
        "id": "cR0QjHd2sDdk"
      }
    },
    {
      "cell_type": "code",
      "source": [
        "#Comparison of variables \n",
        "#1 Age\n",
        "sns.kdeplot(data=df,x='Age',hue='Product')"
      ],
      "metadata": {
        "colab": {
          "base_uri": "https://localhost:8080/",
          "height": 297
        },
        "id": "mHl5-zKkuie7",
        "outputId": "e496461e-fbfe-423f-dcb3-55fa1c9c6095"
      },
      "execution_count": null,
      "outputs": [
        {
          "output_type": "execute_result",
          "data": {
            "text/plain": [
              "<matplotlib.axes._subplots.AxesSubplot at 0x7f06a6c28fd0>"
            ]
          },
          "metadata": {},
          "execution_count": 101
        },
        {
          "output_type": "display_data",
          "data": {
            "text/plain": [
              "<Figure size 432x288 with 1 Axes>"
            ],
            "image/png": "[encoded data removed]"
          },
          "metadata": {
            "needs_background": "light"
          }
        }
      ]
    },
    {
      "cell_type": "markdown",
      "source": [
        "Slighlty younger people prefer less expensive products"
      ],
      "metadata": {
        "id": "ZWaUDPrVujQ0"
      }
    },
    {
      "cell_type": "code",
      "source": [
        "#2  Fitness\n",
        "sns.kdeplot(data=df,x='Fitness',hue='Product')"
      ],
      "metadata": {
        "colab": {
          "base_uri": "https://localhost:8080/",
          "height": 297
        },
        "id": "JiJ2ydEtvNTR",
        "outputId": "908858fd-65a3-4010-858a-2b052221a0c9"
      },
      "execution_count": null,
      "outputs": [
        {
          "output_type": "execute_result",
          "data": {
            "text/plain": [
              "<matplotlib.axes._subplots.AxesSubplot at 0x7f06a6cc7e20>"
            ]
          },
          "metadata": {},
          "execution_count": 102
        },
        {
          "output_type": "display_data",
          "data": {
            "text/plain": [
              "<Figure size 432x288 with 1 Axes>"
            ],
            "image/png": "[encoded data removed]"
          },
          "metadata": {
            "needs_background": "light"
          }
        }
      ]
    },
    {
      "cell_type": "markdown",
      "source": [
        "People using KP281 AND KP781 Has an average fitness scale of 3 .But for KP781 the fitness is around high which is higer.So more fitness freaks spend more money to get higher priced tredmill(KP781)"
      ],
      "metadata": {
        "id": "8b33fh-AvUtr"
      }
    },
    {
      "cell_type": "code",
      "source": [
        "#3  Usage\n",
        "sns.kdeplot(data=df,x='Usage',hue='Product')"
      ],
      "metadata": {
        "colab": {
          "base_uri": "https://localhost:8080/",
          "height": 297
        },
        "id": "q0nNDuvZvUbE",
        "outputId": "447540f3-66f8-419c-8289-b51a460ebf97"
      },
      "execution_count": null,
      "outputs": [
        {
          "output_type": "execute_result",
          "data": {
            "text/plain": [
              "<matplotlib.axes._subplots.AxesSubplot at 0x7f06a6c79a60>"
            ]
          },
          "metadata": {},
          "execution_count": 103
        },
        {
          "output_type": "display_data",
          "data": {
            "text/plain": [
              "<Figure size 432x288 with 1 Axes>"
            ],
            "image/png": "[encoded data removed]"
          },
          "metadata": {
            "needs_background": "light"
          }
        }
      ]
    },
    {
      "cell_type": "markdown",
      "source": [
        "People using KP781 has higher usage rate compared to KP281 and KP481.\n",
        "\n",
        "For KP281 and KP781 the usage pattern is almost the same."
      ],
      "metadata": {
        "id": "k2c476ibv8i7"
      }
    },
    {
      "cell_type": "code",
      "source": [
        "#4  Education\n",
        "sns.kdeplot(data=df,x='Education',hue='Product')"
      ],
      "metadata": {
        "colab": {
          "base_uri": "https://localhost:8080/",
          "height": 297
        },
        "id": "JMcMsqrPwTab",
        "outputId": "e4a6651b-9436-4e00-c7c4-b9ef02844be9"
      },
      "execution_count": null,
      "outputs": [
        {
          "output_type": "execute_result",
          "data": {
            "text/plain": [
              "<matplotlib.axes._subplots.AxesSubplot at 0x7f06a6e1c520>"
            ]
          },
          "metadata": {},
          "execution_count": 104
        },
        {
          "output_type": "display_data",
          "data": {
            "text/plain": [
              "<Figure size 432x288 with 1 Axes>"
            ],
            "image/png": "[encoded data removed]"
          },
          "metadata": {
            "needs_background": "light"
          }
        }
      ]
    },
    {
      "cell_type": "markdown",
      "source": [
        "People using KP781 is slightly more educated than people using KP281 and KP481.Again KP281 and  KP481 has almost similar education pattern but differeing in number of people only."
      ],
      "metadata": {
        "id": "GRRxrSUFwZKq"
      }
    },
    {
      "cell_type": "code",
      "source": [
        "#5  Miles\n",
        "sns.kdeplot(data=df,x='Miles',hue='Product')"
      ],
      "metadata": {
        "colab": {
          "base_uri": "https://localhost:8080/",
          "height": 297
        },
        "id": "zFKVRAA2wYhV",
        "outputId": "40eb0bc5-28e7-4474-dd0e-b14c792eb4a1"
      },
      "execution_count": null,
      "outputs": [
        {
          "output_type": "execute_result",
          "data": {
            "text/plain": [
              "<matplotlib.axes._subplots.AxesSubplot at 0x7f06a6f1dfd0>"
            ]
          },
          "metadata": {},
          "execution_count": 105
        },
        {
          "output_type": "display_data",
          "data": {
            "text/plain": [
              "<Figure size 432x288 with 1 Axes>"
            ],
            "image/png": "[encoded data removed]"
          },
          "metadata": {
            "needs_background": "light"
          }
        }
      ]
    },
    {
      "cell_type": "markdown",
      "source": [
        "People using KP781 covers more miles per week as compared to other two variants."
      ],
      "metadata": {
        "id": "LaonWJdrw-A6"
      }
    },
    {
      "cell_type": "code",
      "source": [
        "#6  Income\n",
        "sns.kdeplot(data=df,x='Income',hue='Product')"
      ],
      "metadata": {
        "colab": {
          "base_uri": "https://localhost:8080/",
          "height": 308
        },
        "id": "b-mruiZDw9JU",
        "outputId": "2b904f85-af92-4b2f-ccfe-58c0b75bdce7"
      },
      "execution_count": null,
      "outputs": [
        {
          "output_type": "execute_result",
          "data": {
            "text/plain": [
              "<matplotlib.axes._subplots.AxesSubplot at 0x7f06a6f71ac0>"
            ]
          },
          "metadata": {},
          "execution_count": 106
        },
        {
          "output_type": "display_data",
          "data": {
            "text/plain": [
              "<Figure size 432x288 with 1 Axes>"
            ],
            "image/png": "[encoded data removed]"
          },
          "metadata": {
            "needs_background": "light"
          }
        }
      ]
    },
    {
      "cell_type": "markdown",
      "source": [
        "People of high income prefer KP781(most expensive)\n",
        "\n",
        "For KP281 and KP481 the income range is almost the same (between 20000-80000)"
      ],
      "metadata": {
        "id": "2H3bOX3xxtF1"
      }
    },
    {
      "cell_type": "markdown",
      "source": [
        "#3) Correlation Analysis"
      ],
      "metadata": {
        "id": "whuqdTNwsbZH"
      }
    },
    {
      "cell_type": "code",
      "source": [
        "#Heat Map\n",
        "sns.heatmap(df.corr(), cmap= \"Blues\", annot=True)"
      ],
      "metadata": {
        "colab": {
          "base_uri": "https://localhost:8080/",
          "height": 287
        },
        "id": "cQythckostdJ",
        "outputId": "755c88f9-0058-449c-8953-6526a98e339d"
      },
      "execution_count": null,
      "outputs": [
        {
          "output_type": "execute_result",
          "data": {
            "text/plain": [
              "<matplotlib.axes._subplots.AxesSubplot at 0x7f06a6f422e0>"
            ]
          },
          "metadata": {},
          "execution_count": 107
        },
        {
          "output_type": "display_data",
          "data": {
            "text/plain": [
              "<Figure size 432x288 with 2 Axes>"
            ],
            "image/png": "[encoded data removed]"
          },
          "metadata": {
            "needs_background": "light"
          }
        }
      ]
    },
    {
      "cell_type": "markdown",
      "source": [
        "From heat map its clear that all continuos variables in dataset has a positive correlation\n",
        "\n",
        "Fitness and miles ,Usage and miles   have high correlation\n",
        "Income and education has good correlation\n",
        "Miles and age , Miles and Usage has very low correlation"
      ],
      "metadata": {
        "id": "EdjFfS-zs-a_"
      }
    },
    {
      "cell_type": "code",
      "source": [
        "#pair plot \n",
        "sns.pairplot(data=df)\n",
        "plt.show()"
      ],
      "metadata": {
        "colab": {
          "base_uri": "https://localhost:8080/",
          "height": 1000
        },
        "id": "aFM9cntss1QU",
        "outputId": "40401c18-1eaa-4a59-f4e1-4f8665d648e3"
      },
      "execution_count": null,
      "outputs": [
        {
          "output_type": "display_data",
          "data": {
            "text/plain": [
              "<Figure size 1080x1080 with 42 Axes>"
            ],
            "image/png": "[encoded data removed]"
          },
          "metadata": {
            "needs_background": "light"
          }
        }
      ]
    },
    {
      "cell_type": "markdown",
      "source": [
        "From Pairplot its clear that all continuos variables in dataset has a positive correlation\n",
        "\n",
        "Fitness and miles ,Usage and miles   have high correlation\n",
        "Income and education has good correlation\n",
        "Miles and age , Miles and Usage has very low correlation"
      ],
      "metadata": {
        "id": "82K20vwyt_69"
      }
    },
    {
      "cell_type": "markdown",
      "source": [
        "#4)Missing Value & Outlier Detection"
      ],
      "metadata": {
        "id": "cvJPRDv9yUNv"
      }
    },
    {
      "cell_type": "markdown",
      "source": [
        "The original dataset had no missing values nor it had any duplicates"
      ],
      "metadata": {
        "id": "KCWfgZ-t5suR"
      }
    },
    {
      "cell_type": "code",
      "source": [
        "df.isna().sum()"
      ],
      "metadata": {
        "colab": {
          "base_uri": "https://localhost:8080/"
        },
        "id": "QP7HvSeIyTyD",
        "outputId": "54fabb83-8689-42fc-9036-3fdc2ac6c540"
      },
      "execution_count": null,
      "outputs": [
        {
          "output_type": "execute_result",
          "data": {
            "text/plain": [
              "Product          0\n",
              "Age              0\n",
              "Gender           0\n",
              "Education        0\n",
              "MaritalStatus    0\n",
              "Usage            0\n",
              "Fitness          0\n",
              "Income           0\n",
              "Miles            0\n",
              "dtype: int64"
            ]
          },
          "metadata": {},
          "execution_count": 109
        }
      ]
    },
    {
      "cell_type": "code",
      "source": [
        "df.duplicated().sum()"
      ],
      "metadata": {
        "colab": {
          "base_uri": "https://localhost:8080/"
        },
        "id": "NwAPLXmu6D1f",
        "outputId": "6e80ae63-de74-4467-d0e3-fb95508fc56a"
      },
      "execution_count": null,
      "outputs": [
        {
          "output_type": "execute_result",
          "data": {
            "text/plain": [
              "0"
            ]
          },
          "metadata": {},
          "execution_count": 110
        }
      ]
    },
    {
      "cell_type": "markdown",
      "source": [
        "#OUTLIER DETECTION"
      ],
      "metadata": {
        "id": "2r3EjEqi6VGw"
      }
    },
    {
      "cell_type": "code",
      "source": [
        "sns.boxplot(df['Age'])\n",
        "plt.title(\"Age analysis\")\n",
        "plt.show()"
      ],
      "metadata": {
        "colab": {
          "base_uri": "https://localhost:8080/",
          "height": 352
        },
        "id": "6EJTbS7_6Ohf",
        "outputId": "799265cf-2c80-45e1-ff95-b10d93247924"
      },
      "execution_count": null,
      "outputs": [
        {
          "output_type": "stream",
          "name": "stderr",
          "text": [
            "/usr/local/lib/python3.8/dist-packages/seaborn/_decorators.py:36: FutureWarning: Pass the following variable as a keyword arg: x. From version 0.12, the only valid positional argument will be `data`, and passing other arguments without an explicit keyword will result in an error or misinterpretation.\n",
            "  warnings.warn(\n"
          ]
        },
        {
          "output_type": "display_data",
          "data": {
            "text/plain": [
              "<Figure size 432x288 with 1 Axes>"
            ],
            "image/png": "[encoded data removed]"
          },
          "metadata": {
            "needs_background": "light"
          }
        }
      ]
    },
    {
      "cell_type": "markdown",
      "source": [
        "from this plot we can conclude most of the customers are aged between 20-33. But there are a few customers of age greater than 46 years which can be considered as outliers"
      ],
      "metadata": {
        "id": "EjQEfT0C6lCj"
      }
    },
    {
      "cell_type": "code",
      "source": [
        "sns.boxplot(df['Education'])\n",
        "plt.title(\"Education analysis\")\n",
        "plt.show()"
      ],
      "metadata": {
        "colab": {
          "base_uri": "https://localhost:8080/",
          "height": 352
        },
        "id": "AUCrDjL76dm2",
        "outputId": "c3e57339-85d1-4664-cf3a-8649cc4faf09"
      },
      "execution_count": null,
      "outputs": [
        {
          "output_type": "stream",
          "name": "stderr",
          "text": [
            "/usr/local/lib/python3.8/dist-packages/seaborn/_decorators.py:36: FutureWarning: Pass the following variable as a keyword arg: x. From version 0.12, the only valid positional argument will be `data`, and passing other arguments without an explicit keyword will result in an error or misinterpretation.\n",
            "  warnings.warn(\n"
          ]
        },
        {
          "output_type": "display_data",
          "data": {
            "text/plain": [
              "<Figure size 432x288 with 1 Axes>"
            ],
            "image/png": "[encoded data removed]"
          },
          "metadata": {
            "needs_background": "light"
          }
        }
      ]
    },
    {
      "cell_type": "markdown",
      "source": [
        "Here most of the customers have education in range 14-16 years.Very small number of customers have education greater than 20 years which are outliers"
      ],
      "metadata": {
        "id": "YFaLTwEj7Ujj"
      }
    },
    {
      "cell_type": "code",
      "source": [
        "sns.boxplot(df['Income'])\n",
        "plt.title(\"Income analysis\")\n",
        "plt.show()"
      ],
      "metadata": {
        "colab": {
          "base_uri": "https://localhost:8080/",
          "height": 352
        },
        "id": "_yFSCMJF7RAx",
        "outputId": "c33f053e-4270-421a-acab-5ca318e496bf"
      },
      "execution_count": null,
      "outputs": [
        {
          "output_type": "stream",
          "name": "stderr",
          "text": [
            "/usr/local/lib/python3.8/dist-packages/seaborn/_decorators.py:36: FutureWarning: Pass the following variable as a keyword arg: x. From version 0.12, the only valid positional argument will be `data`, and passing other arguments without an explicit keyword will result in an error or misinterpretation.\n",
            "  warnings.warn(\n"
          ]
        },
        {
          "output_type": "display_data",
          "data": {
            "text/plain": [
              "<Figure size 432x288 with 1 Axes>"
            ],
            "image/png": "[encoded data removed]"
          },
          "metadata": {
            "needs_background": "light"
          }
        }
      ]
    },
    {
      "cell_type": "markdown",
      "source": [
        "In this plot we can see a large no:of outliers greater than 85000 $"
      ],
      "metadata": {
        "id": "4glnMAuP74ZD"
      }
    },
    {
      "cell_type": "code",
      "source": [
        "sns.boxplot(df['Usage'])\n",
        "plt.title(\"Usage analysis\")\n",
        "plt.show()"
      ],
      "metadata": {
        "colab": {
          "base_uri": "https://localhost:8080/",
          "height": 352
        },
        "id": "DUEVNsJA734f",
        "outputId": "4a789121-8c28-441b-884b-b117aa5d5c63"
      },
      "execution_count": null,
      "outputs": [
        {
          "output_type": "stream",
          "name": "stderr",
          "text": [
            "/usr/local/lib/python3.8/dist-packages/seaborn/_decorators.py:36: FutureWarning: Pass the following variable as a keyword arg: x. From version 0.12, the only valid positional argument will be `data`, and passing other arguments without an explicit keyword will result in an error or misinterpretation.\n",
            "  warnings.warn(\n"
          ]
        },
        {
          "output_type": "display_data",
          "data": {
            "text/plain": [
              "<Figure size 432x288 with 1 Axes>"
            ],
            "image/png": "[encoded data removed]"
          },
          "metadata": {
            "needs_background": "light"
          }
        }
      ]
    },
    {
      "cell_type": "markdown",
      "source": [
        "Most of the customers use the tredmill 3-4 times a week.But there are some customers using 6 and 7 times a week which are outliers"
      ],
      "metadata": {
        "id": "9AXOZyhV8Mb9"
      }
    },
    {
      "cell_type": "code",
      "source": [
        "sns.boxplot(df['Fitness'])\n",
        "plt.title(\"Fitness analysis\")\n",
        "plt.show()"
      ],
      "metadata": {
        "colab": {
          "base_uri": "https://localhost:8080/",
          "height": 352
        },
        "id": "6UAprbSl7zsi",
        "outputId": "ca859460-e44c-47a9-ec07-424c2fd3c364"
      },
      "execution_count": null,
      "outputs": [
        {
          "output_type": "stream",
          "name": "stderr",
          "text": [
            "/usr/local/lib/python3.8/dist-packages/seaborn/_decorators.py:36: FutureWarning: Pass the following variable as a keyword arg: x. From version 0.12, the only valid positional argument will be `data`, and passing other arguments without an explicit keyword will result in an error or misinterpretation.\n",
            "  warnings.warn(\n"
          ]
        },
        {
          "output_type": "display_data",
          "data": {
            "text/plain": [
              "<Figure size 432x288 with 1 Axes>"
            ],
            "image/png": "[encoded data removed]"
          },
          "metadata": {
            "needs_background": "light"
          }
        }
      ]
    },
    {
      "cell_type": "markdown",
      "source": [
        "Most customers have fitness in range of 3-4.One customer has fitness of 1 which is an outlier "
      ],
      "metadata": {
        "id": "2WlDFzz58ltG"
      }
    },
    {
      "cell_type": "code",
      "source": [
        "sns.boxplot(df['Miles'])\n",
        "plt.title(\"Miles analysis\")\n",
        "plt.show()"
      ],
      "metadata": {
        "colab": {
          "base_uri": "https://localhost:8080/",
          "height": 352
        },
        "id": "nnBIzvs48gGN",
        "outputId": "957704c6-a691-4760-deae-375eec790b96"
      },
      "execution_count": null,
      "outputs": [
        {
          "output_type": "stream",
          "name": "stderr",
          "text": [
            "/usr/local/lib/python3.8/dist-packages/seaborn/_decorators.py:36: FutureWarning: Pass the following variable as a keyword arg: x. From version 0.12, the only valid positional argument will be `data`, and passing other arguments without an explicit keyword will result in an error or misinterpretation.\n",
            "  warnings.warn(\n"
          ]
        },
        {
          "output_type": "display_data",
          "data": {
            "text/plain": [
              "<Figure size 432x288 with 1 Axes>"
            ],
            "image/png": "[encoded data removed]"
          },
          "metadata": {
            "needs_background": "light"
          }
        }
      ]
    },
    {
      "cell_type": "markdown",
      "source": [
        "most customers cover 70-120 miles a week.But some customers are there who covers 200-350 miles which are outliers"
      ],
      "metadata": {
        "id": "WH6WKpyE9AMp"
      }
    },
    {
      "cell_type": "markdown",
      "source": [
        "#Probabilty Calcualtion"
      ],
      "metadata": {
        "id": "uVFgXsW69TK9"
      }
    },
    {
      "cell_type": "code",
      "source": [
        "#Age related\n",
        "ages=df[['Product','Age']].copy()\n",
        "for i in range(0,60,10):\n",
        "  ages.loc[ages['Age'].between(i,i+10,\"left\"),\"Age_Range\"]=\"{0}-{1}\".format(i,i+10)\n",
        "pd.crosstab(index=ages['Product'],columns=ages[\"Age_Range\"],margins=True)"
      ],
      "metadata": {
        "colab": {
          "base_uri": "https://localhost:8080/",
          "height": 206
        },
        "id": "B-BaM3YP8-Km",
        "outputId": "dee9ecc3-774d-4c33-9f7c-d0d830137e29"
      },
      "execution_count": null,
      "outputs": [
        {
          "output_type": "execute_result",
          "data": {
            "text/plain": [
              "Age_Range  10-20  20-30  30-40  40-50  50-60  All\n",
              "Product                                          \n",
              "KP281          4     49     20      6      1   80\n",
              "KP481          1     32     22      5      0   60\n",
              "KP781          0     27      8      5      0   40\n",
              "All            5    108     50     16      1  180"
            ],
            "text/html": [
              "\n",
              "  <div id=\"df-58c9384a-5541-402d-bd89-396e94359a38\">\n",
              "    <div class=\"colab-df-container\">\n",
              "      <div>\n",
              "<style scoped>\n",
              "    .dataframe tbody tr th:only-of-type {\n",
              "        vertical-align: middle;\n",
              "    }\n",
              "\n",
              "    .dataframe tbody tr th {\n",
              "        vertical-align: top;\n",
              "    }\n",
              "\n",
              "    .dataframe thead th {\n",
              "        text-align: right;\n",
              "    }\n",
              "</style>\n",
              "<table border=\"1\" class=\"dataframe\">\n",
              "  <thead>\n",
              "    <tr style=\"text-align: right;\">\n",
              "      <th>Age_Range</th>\n",
              "      <th>10-20</th>\n",
              "      <th>20-30</th>\n",
              "      <th>30-40</th>\n",
              "      <th>40-50</th>\n",
              "      <th>50-60</th>\n",
              "      <th>All</th>\n",
              "    </tr>\n",
              "    <tr>\n",
              "      <th>Product</th>\n",
              "      <th></th>\n",
              "      <th></th>\n",
              "      <th></th>\n",
              "      <th></th>\n",
              "      <th></th>\n",
              "      <th></th>\n",
              "    </tr>\n",
              "  </thead>\n",
              "  <tbody>\n",
              "    <tr>\n",
              "      <th>KP281</th>\n",
              "      <td>4</td>\n",
              "      <td>49</td>\n",
              "      <td>20</td>\n",
              "      <td>6</td>\n",
              "      <td>1</td>\n",
              "      <td>80</td>\n",
              "    </tr>\n",
              "    <tr>\n",
              "      <th>KP481</th>\n",
              "      <td>1</td>\n",
              "      <td>32</td>\n",
              "      <td>22</td>\n",
              "      <td>5</td>\n",
              "      <td>0</td>\n",
              "      <td>60</td>\n",
              "    </tr>\n",
              "    <tr>\n",
              "      <th>KP781</th>\n",
              "      <td>0</td>\n",
              "      <td>27</td>\n",
              "      <td>8</td>\n",
              "      <td>5</td>\n",
              "      <td>0</td>\n",
              "      <td>40</td>\n",
              "    </tr>\n",
              "    <tr>\n",
              "      <th>All</th>\n",
              "      <td>5</td>\n",
              "      <td>108</td>\n",
              "      <td>50</td>\n",
              "      <td>16</td>\n",
              "      <td>1</td>\n",
              "      <td>180</td>\n",
              "    </tr>\n",
              "  </tbody>\n",
              "</table>\n",
              "</div>\n",
              "      <button class=\"colab-df-convert\" onclick=\"convertToInteractive('df-58c9384a-5541-402d-bd89-396e94359a38')\"\n",
              "              title=\"Convert this dataframe to an interactive table.\"\n",
              "              style=\"display:none;\">\n",
              "        \n",
              "  <svg xmlns=\"http://www.w3.org/2000/svg\" height=\"24px\"viewBox=\"0 0 24 24\"\n",
              "       width=\"24px\">\n",
              "    <path d=\"M0 0h24v24H0V0z\" fill=\"none\"/>\n",
              "    <path d=\"M18.56 5.44l.94 2.06.94-2.06 2.06-.94-2.06-.94-.94-2.06-.94 2.06-2.06.94zm-11 1L8.5 8.5l.94-2.06 2.06-.94-2.06-.94L8.5 2.5l-.94 2.06-2.06.94zm10 10l.94 2.06.94-2.06 2.06-.94-2.06-.94-.94-2.06-.94 2.06-2.06.94z\"/><path d=\"M17.41 7.96l-1.37-1.37c-.4-.4-.92-.59-1.43-.59-.52 0-1.04.2-1.43.59L10.3 9.45l-7.72 7.72c-.78.78-.78 2.05 0 2.83L4 21.41c.39.39.9.59 1.41.59.51 0 1.02-.2 1.41-.59l7.78-7.78 2.81-2.81c.8-.78.8-2.07 0-2.86zM5.41 20L4 18.59l7.72-7.72 1.47 1.35L5.41 20z\"/>\n",
              "  </svg>\n",
              "      </button>\n",
              "      \n",
              "  <style>\n",
              "    .colab-df-container {\n",
              "      display:flex;\n",
              "      flex-wrap:wrap;\n",
              "      gap: 12px;\n",
              "    }\n",
              "\n",
              "    .colab-df-convert {\n",
              "      background-color: #E8F0FE;\n",
              "      border: none;\n",
              "      border-radius: 50%;\n",
              "      cursor: pointer;\n",
              "      display: none;\n",
              "      fill: #1967D2;\n",
              "      height: 32px;\n",
              "      padding: 0 0 0 0;\n",
              "      width: 32px;\n",
              "    }\n",
              "\n",
              "    .colab-df-convert:hover {\n",
              "      background-color: #E2EBFA;\n",
              "      box-shadow: 0px 1px 2px rgba(60, 64, 67, 0.3), 0px 1px 3px 1px rgba(60, 64, 67, 0.15);\n",
              "      fill: #174EA6;\n",
              "    }\n",
              "\n",
              "    [theme=dark] .colab-df-convert {\n",
              "      background-color: #3B4455;\n",
              "      fill: #D2E3FC;\n",
              "    }\n",
              "\n",
              "    [theme=dark] .colab-df-convert:hover {\n",
              "      background-color: #434B5C;\n",
              "      box-shadow: 0px 1px 3px 1px rgba(0, 0, 0, 0.15);\n",
              "      filter: drop-shadow(0px 1px 2px rgba(0, 0, 0, 0.3));\n",
              "      fill: #FFFFFF;\n",
              "    }\n",
              "  </style>\n",
              "\n",
              "      <script>\n",
              "        const buttonEl =\n",
              "          document.querySelector('#df-58c9384a-5541-402d-bd89-396e94359a38 button.colab-df-convert');\n",
              "        buttonEl.style.display =\n",
              "          google.colab.kernel.accessAllowed ? 'block' : 'none';\n",
              "\n",
              "        async function convertToInteractive(key) {\n",
              "          const element = document.querySelector('#df-58c9384a-5541-402d-bd89-396e94359a38');\n",
              "          const dataTable =\n",
              "            await google.colab.kernel.invokeFunction('convertToInteractive',\n",
              "                                                     [key], {});\n",
              "          if (!dataTable) return;\n",
              "\n",
              "          const docLinkHtml = 'Like what you see? Visit the ' +\n",
              "            '<a target=\"_blank\" href=https://colab.research.google.com/notebooks/data_table.ipynb>data table notebook</a>'\n",
              "            + ' to learn more about interactive tables.';\n",
              "          element.innerHTML = '';\n",
              "          dataTable['output_type'] = 'display_data';\n",
              "          await google.colab.output.renderOutput(dataTable, element);\n",
              "          const docLink = document.createElement('div');\n",
              "          docLink.innerHTML = docLinkHtml;\n",
              "          element.appendChild(docLink);\n",
              "        }\n",
              "      </script>\n",
              "    </div>\n",
              "  </div>\n",
              "  "
            ]
          },
          "metadata": {},
          "execution_count": 117
        }
      ]
    },
    {
      "cell_type": "code",
      "source": [
        "print(\"Probabilty of a person in age_range (10-20) to buy KP281=\",4/5)\n",
        "print(\"Probabilty of a person in age_range (10-20) to buy KP481=\",1/5)\n",
        "print(\"Probabilty of a person in age_range (10-20) to buy KP781=\",0/5)\n",
        "print(\"+++++++++++++++++++++++++++++++++++++++++++++++++++++++++++++++++\")\n",
        "print(\"Probabilty of a person in age_range (20-30) to buy KP281=\",49/108)\n",
        "print(\"Probabilty of a person in age_range (20-30) to buy KP481=\",32/108)\n",
        "print(\"Probabilty of a person in age_range (20-30) to buy KP781=\",27/108)\n",
        "print(\"+++++++++++++++++++++++++++++++++++++++++++++++++++++++++++++++++\")\n",
        "print(\"Probabilty of a person in age_range (30-40) to buy KP281=\",20/50)\n",
        "print(\"Probabilty of a person in age_range (30-40) to buy KP481=\",22/50)\n",
        "print(\"Probabilty of a person in age_range (30-40) to buy KP781=\",8/50)\n",
        "print(\"+++++++++++++++++++++++++++++++++++++++++++++++++++++++++++++++++\")\n",
        "print(\"Probabilty of a person in age_range (40-50) to buy KP281=\",6/16)\n",
        "print(\"Probabilty of a person in age_range (40-50) to buy KP481=\",5/16)\n",
        "print(\"Probabilty of a person in age_range (40-50) to buy KP781=\",5/16)\n",
        "print(\"+++++++++++++++++++++++++++++++++++++++++++++++++++++++++++++++++\")\n",
        "print(\"Probabilty of a person in age_range (50-60) to buy KP281=\",1/1)\n",
        "print(\"Probabilty of a person in age_range (50-60) to buy KP481=\",0/1)\n",
        "print(\"Probabilty of a person in age_range (50-60) to buy KP781=\",0/1)"
      ],
      "metadata": {
        "colab": {
          "base_uri": "https://localhost:8080/"
        },
        "id": "eLq-dWrz-I16",
        "outputId": "c53d7f1b-72d2-471a-e0a2-42bc454c03cd"
      },
      "execution_count": null,
      "outputs": [
        {
          "output_type": "stream",
          "name": "stdout",
          "text": [
            "Probabilty of a person in age_range (10-20) to buy KP281= 0.8\n",
            "Probabilty of a person in age_range (10-20) to buy KP481= 0.2\n",
            "Probabilty of a person in age_range (10-20) to buy KP781= 0.0\n",
            "+++++++++++++++++++++++++++++++++++++++++++++++++++++++++++++++++\n",
            "Probabilty of a person in age_range (20-30) to buy KP281= 0.4537037037037037\n",
            "Probabilty of a person in age_range (20-30) to buy KP481= 0.2962962962962963\n",
            "Probabilty of a person in age_range (20-30) to buy KP781= 0.25\n",
            "+++++++++++++++++++++++++++++++++++++++++++++++++++++++++++++++++\n",
            "Probabilty of a person in age_range (30-40) to buy KP281= 0.4\n",
            "Probabilty of a person in age_range (30-40) to buy KP481= 0.44\n",
            "Probabilty of a person in age_range (30-40) to buy KP781= 0.16\n",
            "+++++++++++++++++++++++++++++++++++++++++++++++++++++++++++++++++\n",
            "Probabilty of a person in age_range (40-50) to buy KP281= 0.375\n",
            "Probabilty of a person in age_range (40-50) to buy KP481= 0.3125\n",
            "Probabilty of a person in age_range (40-50) to buy KP781= 0.3125\n",
            "+++++++++++++++++++++++++++++++++++++++++++++++++++++++++++++++++\n",
            "Probabilty of a person in age_range (50-60) to buy KP281= 1.0\n",
            "Probabilty of a person in age_range (50-60) to buy KP481= 0.0\n",
            "Probabilty of a person in age_range (50-60) to buy KP781= 0.0\n"
          ]
        }
      ]
    },
    {
      "cell_type": "code",
      "source": [
        "#gender related\n",
        "#contigency table for gender colums\n",
        "\n",
        "gender=pd.crosstab(index=df['Product'],columns=df['Gender'],margins=True)\n",
        "np.round(gender/180,2)"
      ],
      "metadata": {
        "colab": {
          "base_uri": "https://localhost:8080/",
          "height": 206
        },
        "id": "mp2M4j1a-q2q",
        "outputId": "c4ccc197-7cc7-4659-f2f9-088213b91916"
      },
      "execution_count": null,
      "outputs": [
        {
          "output_type": "execute_result",
          "data": {
            "text/plain": [
              "Gender   Female  Male   All\n",
              "Product                    \n",
              "KP281      0.22  0.22  0.44\n",
              "KP481      0.16  0.17  0.33\n",
              "KP781      0.04  0.18  0.22\n",
              "All        0.42  0.58  1.00"
            ],
            "text/html": [
              "\n",
              "  <div id=\"df-0653cc31-7571-41d3-aff3-c4853b599157\">\n",
              "    <div class=\"colab-df-container\">\n",
              "      <div>\n",
              "<style scoped>\n",
              "    .dataframe tbody tr th:only-of-type {\n",
              "        vertical-align: middle;\n",
              "    }\n",
              "\n",
              "    .dataframe tbody tr th {\n",
              "        vertical-align: top;\n",
              "    }\n",
              "\n",
              "    .dataframe thead th {\n",
              "        text-align: right;\n",
              "    }\n",
              "</style>\n",
              "<table border=\"1\" class=\"dataframe\">\n",
              "  <thead>\n",
              "    <tr style=\"text-align: right;\">\n",
              "      <th>Gender</th>\n",
              "      <th>Female</th>\n",
              "      <th>Male</th>\n",
              "      <th>All</th>\n",
              "    </tr>\n",
              "    <tr>\n",
              "      <th>Product</th>\n",
              "      <th></th>\n",
              "      <th></th>\n",
              "      <th></th>\n",
              "    </tr>\n",
              "  </thead>\n",
              "  <tbody>\n",
              "    <tr>\n",
              "      <th>KP281</th>\n",
              "      <td>0.22</td>\n",
              "      <td>0.22</td>\n",
              "      <td>0.44</td>\n",
              "    </tr>\n",
              "    <tr>\n",
              "      <th>KP481</th>\n",
              "      <td>0.16</td>\n",
              "      <td>0.17</td>\n",
              "      <td>0.33</td>\n",
              "    </tr>\n",
              "    <tr>\n",
              "      <th>KP781</th>\n",
              "      <td>0.04</td>\n",
              "      <td>0.18</td>\n",
              "      <td>0.22</td>\n",
              "    </tr>\n",
              "    <tr>\n",
              "      <th>All</th>\n",
              "      <td>0.42</td>\n",
              "      <td>0.58</td>\n",
              "      <td>1.00</td>\n",
              "    </tr>\n",
              "  </tbody>\n",
              "</table>\n",
              "</div>\n",
              "      <button class=\"colab-df-convert\" onclick=\"convertToInteractive('df-0653cc31-7571-41d3-aff3-c4853b599157')\"\n",
              "              title=\"Convert this dataframe to an interactive table.\"\n",
              "              style=\"display:none;\">\n",
              "        \n",
              "  <svg xmlns=\"http://www.w3.org/2000/svg\" height=\"24px\"viewBox=\"0 0 24 24\"\n",
              "       width=\"24px\">\n",
              "    <path d=\"M0 0h24v24H0V0z\" fill=\"none\"/>\n",
              "    <path d=\"M18.56 5.44l.94 2.06.94-2.06 2.06-.94-2.06-.94-.94-2.06-.94 2.06-2.06.94zm-11 1L8.5 8.5l.94-2.06 2.06-.94-2.06-.94L8.5 2.5l-.94 2.06-2.06.94zm10 10l.94 2.06.94-2.06 2.06-.94-2.06-.94-.94-2.06-.94 2.06-2.06.94z\"/><path d=\"M17.41 7.96l-1.37-1.37c-.4-.4-.92-.59-1.43-.59-.52 0-1.04.2-1.43.59L10.3 9.45l-7.72 7.72c-.78.78-.78 2.05 0 2.83L4 21.41c.39.39.9.59 1.41.59.51 0 1.02-.2 1.41-.59l7.78-7.78 2.81-2.81c.8-.78.8-2.07 0-2.86zM5.41 20L4 18.59l7.72-7.72 1.47 1.35L5.41 20z\"/>\n",
              "  </svg>\n",
              "      </button>\n",
              "      \n",
              "  <style>\n",
              "    .colab-df-container {\n",
              "      display:flex;\n",
              "      flex-wrap:wrap;\n",
              "      gap: 12px;\n",
              "    }\n",
              "\n",
              "    .colab-df-convert {\n",
              "      background-color: #E8F0FE;\n",
              "      border: none;\n",
              "      border-radius: 50%;\n",
              "      cursor: pointer;\n",
              "      display: none;\n",
              "      fill: #1967D2;\n",
              "      height: 32px;\n",
              "      padding: 0 0 0 0;\n",
              "      width: 32px;\n",
              "    }\n",
              "\n",
              "    .colab-df-convert:hover {\n",
              "      background-color: #E2EBFA;\n",
              "      box-shadow: 0px 1px 2px rgba(60, 64, 67, 0.3), 0px 1px 3px 1px rgba(60, 64, 67, 0.15);\n",
              "      fill: #174EA6;\n",
              "    }\n",
              "\n",
              "    [theme=dark] .colab-df-convert {\n",
              "      background-color: #3B4455;\n",
              "      fill: #D2E3FC;\n",
              "    }\n",
              "\n",
              "    [theme=dark] .colab-df-convert:hover {\n",
              "      background-color: #434B5C;\n",
              "      box-shadow: 0px 1px 3px 1px rgba(0, 0, 0, 0.15);\n",
              "      filter: drop-shadow(0px 1px 2px rgba(0, 0, 0, 0.3));\n",
              "      fill: #FFFFFF;\n",
              "    }\n",
              "  </style>\n",
              "\n",
              "      <script>\n",
              "        const buttonEl =\n",
              "          document.querySelector('#df-0653cc31-7571-41d3-aff3-c4853b599157 button.colab-df-convert');\n",
              "        buttonEl.style.display =\n",
              "          google.colab.kernel.accessAllowed ? 'block' : 'none';\n",
              "\n",
              "        async function convertToInteractive(key) {\n",
              "          const element = document.querySelector('#df-0653cc31-7571-41d3-aff3-c4853b599157');\n",
              "          const dataTable =\n",
              "            await google.colab.kernel.invokeFunction('convertToInteractive',\n",
              "                                                     [key], {});\n",
              "          if (!dataTable) return;\n",
              "\n",
              "          const docLinkHtml = 'Like what you see? Visit the ' +\n",
              "            '<a target=\"_blank\" href=https://colab.research.google.com/notebooks/data_table.ipynb>data table notebook</a>'\n",
              "            + ' to learn more about interactive tables.';\n",
              "          element.innerHTML = '';\n",
              "          dataTable['output_type'] = 'display_data';\n",
              "          await google.colab.output.renderOutput(dataTable, element);\n",
              "          const docLink = document.createElement('div');\n",
              "          docLink.innerHTML = docLinkHtml;\n",
              "          element.appendChild(docLink);\n",
              "        }\n",
              "      </script>\n",
              "    </div>\n",
              "  </div>\n",
              "  "
            ]
          },
          "metadata": {},
          "execution_count": 119
        }
      ]
    },
    {
      "cell_type": "code",
      "source": [
        "#Conditional probabibilies P(rox_index|col_index)\n",
        "#eg: P(KP781|Male)=0.32\n",
        "\n",
        "def row_given_col(df):\n",
        "  new_df=df/180\n",
        "  return np.round(new_df.iloc[:-1,:-1]/new_df.iloc[-1,:-1],2)\n",
        "row_given_col(gender)"
      ],
      "metadata": {
        "colab": {
          "base_uri": "https://localhost:8080/",
          "height": 175
        },
        "id": "VmW017QGB5tl",
        "outputId": "8405709d-b03c-4bba-b939-93534e3b2548"
      },
      "execution_count": null,
      "outputs": [
        {
          "output_type": "execute_result",
          "data": {
            "text/plain": [
              "Gender   Female  Male\n",
              "Product              \n",
              "KP281      0.53  0.38\n",
              "KP481      0.38  0.30\n",
              "KP781      0.09  0.32"
            ],
            "text/html": [
              "\n",
              "  <div id=\"df-5e65a000-607a-4f20-9c97-ebec5d03b18a\">\n",
              "    <div class=\"colab-df-container\">\n",
              "      <div>\n",
              "<style scoped>\n",
              "    .dataframe tbody tr th:only-of-type {\n",
              "        vertical-align: middle;\n",
              "    }\n",
              "\n",
              "    .dataframe tbody tr th {\n",
              "        vertical-align: top;\n",
              "    }\n",
              "\n",
              "    .dataframe thead th {\n",
              "        text-align: right;\n",
              "    }\n",
              "</style>\n",
              "<table border=\"1\" class=\"dataframe\">\n",
              "  <thead>\n",
              "    <tr style=\"text-align: right;\">\n",
              "      <th>Gender</th>\n",
              "      <th>Female</th>\n",
              "      <th>Male</th>\n",
              "    </tr>\n",
              "    <tr>\n",
              "      <th>Product</th>\n",
              "      <th></th>\n",
              "      <th></th>\n",
              "    </tr>\n",
              "  </thead>\n",
              "  <tbody>\n",
              "    <tr>\n",
              "      <th>KP281</th>\n",
              "      <td>0.53</td>\n",
              "      <td>0.38</td>\n",
              "    </tr>\n",
              "    <tr>\n",
              "      <th>KP481</th>\n",
              "      <td>0.38</td>\n",
              "      <td>0.30</td>\n",
              "    </tr>\n",
              "    <tr>\n",
              "      <th>KP781</th>\n",
              "      <td>0.09</td>\n",
              "      <td>0.32</td>\n",
              "    </tr>\n",
              "  </tbody>\n",
              "</table>\n",
              "</div>\n",
              "      <button class=\"colab-df-convert\" onclick=\"convertToInteractive('df-5e65a000-607a-4f20-9c97-ebec5d03b18a')\"\n",
              "              title=\"Convert this dataframe to an interactive table.\"\n",
              "              style=\"display:none;\">\n",
              "        \n",
              "  <svg xmlns=\"http://www.w3.org/2000/svg\" height=\"24px\"viewBox=\"0 0 24 24\"\n",
              "       width=\"24px\">\n",
              "    <path d=\"M0 0h24v24H0V0z\" fill=\"none\"/>\n",
              "    <path d=\"M18.56 5.44l.94 2.06.94-2.06 2.06-.94-2.06-.94-.94-2.06-.94 2.06-2.06.94zm-11 1L8.5 8.5l.94-2.06 2.06-.94-2.06-.94L8.5 2.5l-.94 2.06-2.06.94zm10 10l.94 2.06.94-2.06 2.06-.94-2.06-.94-.94-2.06-.94 2.06-2.06.94z\"/><path d=\"M17.41 7.96l-1.37-1.37c-.4-.4-.92-.59-1.43-.59-.52 0-1.04.2-1.43.59L10.3 9.45l-7.72 7.72c-.78.78-.78 2.05 0 2.83L4 21.41c.39.39.9.59 1.41.59.51 0 1.02-.2 1.41-.59l7.78-7.78 2.81-2.81c.8-.78.8-2.07 0-2.86zM5.41 20L4 18.59l7.72-7.72 1.47 1.35L5.41 20z\"/>\n",
              "  </svg>\n",
              "      </button>\n",
              "      \n",
              "  <style>\n",
              "    .colab-df-container {\n",
              "      display:flex;\n",
              "      flex-wrap:wrap;\n",
              "      gap: 12px;\n",
              "    }\n",
              "\n",
              "    .colab-df-convert {\n",
              "      background-color: #E8F0FE;\n",
              "      border: none;\n",
              "      border-radius: 50%;\n",
              "      cursor: pointer;\n",
              "      display: none;\n",
              "      fill: #1967D2;\n",
              "      height: 32px;\n",
              "      padding: 0 0 0 0;\n",
              "      width: 32px;\n",
              "    }\n",
              "\n",
              "    .colab-df-convert:hover {\n",
              "      background-color: #E2EBFA;\n",
              "      box-shadow: 0px 1px 2px rgba(60, 64, 67, 0.3), 0px 1px 3px 1px rgba(60, 64, 67, 0.15);\n",
              "      fill: #174EA6;\n",
              "    }\n",
              "\n",
              "    [theme=dark] .colab-df-convert {\n",
              "      background-color: #3B4455;\n",
              "      fill: #D2E3FC;\n",
              "    }\n",
              "\n",
              "    [theme=dark] .colab-df-convert:hover {\n",
              "      background-color: #434B5C;\n",
              "      box-shadow: 0px 1px 3px 1px rgba(0, 0, 0, 0.15);\n",
              "      filter: drop-shadow(0px 1px 2px rgba(0, 0, 0, 0.3));\n",
              "      fill: #FFFFFF;\n",
              "    }\n",
              "  </style>\n",
              "\n",
              "      <script>\n",
              "        const buttonEl =\n",
              "          document.querySelector('#df-5e65a000-607a-4f20-9c97-ebec5d03b18a button.colab-df-convert');\n",
              "        buttonEl.style.display =\n",
              "          google.colab.kernel.accessAllowed ? 'block' : 'none';\n",
              "\n",
              "        async function convertToInteractive(key) {\n",
              "          const element = document.querySelector('#df-5e65a000-607a-4f20-9c97-ebec5d03b18a');\n",
              "          const dataTable =\n",
              "            await google.colab.kernel.invokeFunction('convertToInteractive',\n",
              "                                                     [key], {});\n",
              "          if (!dataTable) return;\n",
              "\n",
              "          const docLinkHtml = 'Like what you see? Visit the ' +\n",
              "            '<a target=\"_blank\" href=https://colab.research.google.com/notebooks/data_table.ipynb>data table notebook</a>'\n",
              "            + ' to learn more about interactive tables.';\n",
              "          element.innerHTML = '';\n",
              "          dataTable['output_type'] = 'display_data';\n",
              "          await google.colab.output.renderOutput(dataTable, element);\n",
              "          const docLink = document.createElement('div');\n",
              "          docLink.innerHTML = docLinkHtml;\n",
              "          element.appendChild(docLink);\n",
              "        }\n",
              "      </script>\n",
              "    </div>\n",
              "  </div>\n",
              "  "
            ]
          },
          "metadata": {},
          "execution_count": 120
        }
      ]
    },
    {
      "cell_type": "markdown",
      "source": [
        "There are very small probability of female buying KP781"
      ],
      "metadata": {
        "id": "aaXobuQpDQeu"
      }
    },
    {
      "cell_type": "code",
      "source": [
        "#income related\n",
        "incomes=df[['Product','Income']].copy()\n",
        "width=20000\n",
        "for i in range(0,120000,width):\n",
        "  incomes.loc[incomes['Income'].between(i,i+width,'left'),\"IncomeRange\"]=\"{0}-{1}\".format(i,i+width)\n",
        "income_tab=pd.crosstab(index=incomes['Product'],columns=incomes[\"IncomeRange\"],margins=True)"
      ],
      "metadata": {
        "id": "0bdS_iTzDP6_"
      },
      "execution_count": null,
      "outputs": []
    },
    {
      "cell_type": "code",
      "source": [
        "#P(row_index|col_index)\n",
        "row_given_col(income_tab)"
      ],
      "metadata": {
        "colab": {
          "base_uri": "https://localhost:8080/",
          "height": 175
        },
        "id": "lh_u8QzuGrA2",
        "outputId": "0cebb7cd-9320-4d0a-9bf9-35aa970b37a2"
      },
      "execution_count": null,
      "outputs": [
        {
          "output_type": "execute_result",
          "data": {
            "text/plain": [
              "IncomeRange  100000-120000  20000-40000  40000-60000  60000-80000  \\\n",
              "Product                                                             \n",
              "KP281                  0.0         0.72         0.48         0.26   \n",
              "KP481                  0.0         0.28         0.42         0.30   \n",
              "KP781                  1.0         0.00         0.10         0.43   \n",
              "\n",
              "IncomeRange  80000-100000  \n",
              "Product                    \n",
              "KP281                 0.0  \n",
              "KP481                 0.0  \n",
              "KP781                 1.0  "
            ],
            "text/html": [
              "\n",
              "  <div id=\"df-4651c47a-e356-4ad3-aeda-cffc006919bf\">\n",
              "    <div class=\"colab-df-container\">\n",
              "      <div>\n",
              "<style scoped>\n",
              "    .dataframe tbody tr th:only-of-type {\n",
              "        vertical-align: middle;\n",
              "    }\n",
              "\n",
              "    .dataframe tbody tr th {\n",
              "        vertical-align: top;\n",
              "    }\n",
              "\n",
              "    .dataframe thead th {\n",
              "        text-align: right;\n",
              "    }\n",
              "</style>\n",
              "<table border=\"1\" class=\"dataframe\">\n",
              "  <thead>\n",
              "    <tr style=\"text-align: right;\">\n",
              "      <th>IncomeRange</th>\n",
              "      <th>100000-120000</th>\n",
              "      <th>20000-40000</th>\n",
              "      <th>40000-60000</th>\n",
              "      <th>60000-80000</th>\n",
              "      <th>80000-100000</th>\n",
              "    </tr>\n",
              "    <tr>\n",
              "      <th>Product</th>\n",
              "      <th></th>\n",
              "      <th></th>\n",
              "      <th></th>\n",
              "      <th></th>\n",
              "      <th></th>\n",
              "    </tr>\n",
              "  </thead>\n",
              "  <tbody>\n",
              "    <tr>\n",
              "      <th>KP281</th>\n",
              "      <td>0.0</td>\n",
              "      <td>0.72</td>\n",
              "      <td>0.48</td>\n",
              "      <td>0.26</td>\n",
              "      <td>0.0</td>\n",
              "    </tr>\n",
              "    <tr>\n",
              "      <th>KP481</th>\n",
              "      <td>0.0</td>\n",
              "      <td>0.28</td>\n",
              "      <td>0.42</td>\n",
              "      <td>0.30</td>\n",
              "      <td>0.0</td>\n",
              "    </tr>\n",
              "    <tr>\n",
              "      <th>KP781</th>\n",
              "      <td>1.0</td>\n",
              "      <td>0.00</td>\n",
              "      <td>0.10</td>\n",
              "      <td>0.43</td>\n",
              "      <td>1.0</td>\n",
              "    </tr>\n",
              "  </tbody>\n",
              "</table>\n",
              "</div>\n",
              "      <button class=\"colab-df-convert\" onclick=\"convertToInteractive('df-4651c47a-e356-4ad3-aeda-cffc006919bf')\"\n",
              "              title=\"Convert this dataframe to an interactive table.\"\n",
              "              style=\"display:none;\">\n",
              "        \n",
              "  <svg xmlns=\"http://www.w3.org/2000/svg\" height=\"24px\"viewBox=\"0 0 24 24\"\n",
              "       width=\"24px\">\n",
              "    <path d=\"M0 0h24v24H0V0z\" fill=\"none\"/>\n",
              "    <path d=\"M18.56 5.44l.94 2.06.94-2.06 2.06-.94-2.06-.94-.94-2.06-.94 2.06-2.06.94zm-11 1L8.5 8.5l.94-2.06 2.06-.94-2.06-.94L8.5 2.5l-.94 2.06-2.06.94zm10 10l.94 2.06.94-2.06 2.06-.94-2.06-.94-.94-2.06-.94 2.06-2.06.94z\"/><path d=\"M17.41 7.96l-1.37-1.37c-.4-.4-.92-.59-1.43-.59-.52 0-1.04.2-1.43.59L10.3 9.45l-7.72 7.72c-.78.78-.78 2.05 0 2.83L4 21.41c.39.39.9.59 1.41.59.51 0 1.02-.2 1.41-.59l7.78-7.78 2.81-2.81c.8-.78.8-2.07 0-2.86zM5.41 20L4 18.59l7.72-7.72 1.47 1.35L5.41 20z\"/>\n",
              "  </svg>\n",
              "      </button>\n",
              "      \n",
              "  <style>\n",
              "    .colab-df-container {\n",
              "      display:flex;\n",
              "      flex-wrap:wrap;\n",
              "      gap: 12px;\n",
              "    }\n",
              "\n",
              "    .colab-df-convert {\n",
              "      background-color: #E8F0FE;\n",
              "      border: none;\n",
              "      border-radius: 50%;\n",
              "      cursor: pointer;\n",
              "      display: none;\n",
              "      fill: #1967D2;\n",
              "      height: 32px;\n",
              "      padding: 0 0 0 0;\n",
              "      width: 32px;\n",
              "    }\n",
              "\n",
              "    .colab-df-convert:hover {\n",
              "      background-color: #E2EBFA;\n",
              "      box-shadow: 0px 1px 2px rgba(60, 64, 67, 0.3), 0px 1px 3px 1px rgba(60, 64, 67, 0.15);\n",
              "      fill: #174EA6;\n",
              "    }\n",
              "\n",
              "    [theme=dark] .colab-df-convert {\n",
              "      background-color: #3B4455;\n",
              "      fill: #D2E3FC;\n",
              "    }\n",
              "\n",
              "    [theme=dark] .colab-df-convert:hover {\n",
              "      background-color: #434B5C;\n",
              "      box-shadow: 0px 1px 3px 1px rgba(0, 0, 0, 0.15);\n",
              "      filter: drop-shadow(0px 1px 2px rgba(0, 0, 0, 0.3));\n",
              "      fill: #FFFFFF;\n",
              "    }\n",
              "  </style>\n",
              "\n",
              "      <script>\n",
              "        const buttonEl =\n",
              "          document.querySelector('#df-4651c47a-e356-4ad3-aeda-cffc006919bf button.colab-df-convert');\n",
              "        buttonEl.style.display =\n",
              "          google.colab.kernel.accessAllowed ? 'block' : 'none';\n",
              "\n",
              "        async function convertToInteractive(key) {\n",
              "          const element = document.querySelector('#df-4651c47a-e356-4ad3-aeda-cffc006919bf');\n",
              "          const dataTable =\n",
              "            await google.colab.kernel.invokeFunction('convertToInteractive',\n",
              "                                                     [key], {});\n",
              "          if (!dataTable) return;\n",
              "\n",
              "          const docLinkHtml = 'Like what you see? Visit the ' +\n",
              "            '<a target=\"_blank\" href=https://colab.research.google.com/notebooks/data_table.ipynb>data table notebook</a>'\n",
              "            + ' to learn more about interactive tables.';\n",
              "          element.innerHTML = '';\n",
              "          dataTable['output_type'] = 'display_data';\n",
              "          await google.colab.output.renderOutput(dataTable, element);\n",
              "          const docLink = document.createElement('div');\n",
              "          docLink.innerHTML = docLinkHtml;\n",
              "          element.appendChild(docLink);\n",
              "        }\n",
              "      </script>\n",
              "    </div>\n",
              "  </div>\n",
              "  "
            ]
          },
          "metadata": {},
          "execution_count": 122
        }
      ]
    },
    {
      "cell_type": "markdown",
      "source": [
        "There is a high probability that person with income > 80k buys KP781\n",
        "\n",
        "There is a high probability that person with income in range of 20k-40k buys KP281"
      ],
      "metadata": {
        "id": "RutJAcEvHYtT"
      }
    },
    {
      "cell_type": "code",
      "source": [
        "#Education related\n",
        "Educations=df[['Product','Education']].copy()\n",
        "for i in range(0,21,5):\n",
        "  Educations.loc[Educations['Education'].between(i,i+5,'left'),\"EducationRange\"]=\"{0}-{1}\".format(i,i+5)\n",
        "education_tab=pd.crosstab(index=Educations['Product'],columns=Educations[\"EducationRange\"],margins=True)\n",
        "np.round(education_tab/180,2)"
      ],
      "metadata": {
        "colab": {
          "base_uri": "https://localhost:8080/",
          "height": 206
        },
        "id": "KS3JGsQaEA8F",
        "outputId": "198f0c7b-f3be-4c92-9f7b-37f58db146d6"
      },
      "execution_count": null,
      "outputs": [
        {
          "output_type": "execute_result",
          "data": {
            "text/plain": [
              "EducationRange  10-15  15-20  20-25   All\n",
              "Product                                  \n",
              "KP281            0.19   0.25   0.00  0.44\n",
              "KP481            0.14   0.19   0.00  0.33\n",
              "KP781            0.01   0.19   0.02  0.22\n",
              "All              0.35   0.63   0.02  1.00"
            ],
            "text/html": [
              "\n",
              "  <div id=\"df-d2b03b07-6619-4ccb-9e4f-74dc399af048\">\n",
              "    <div class=\"colab-df-container\">\n",
              "      <div>\n",
              "<style scoped>\n",
              "    .dataframe tbody tr th:only-of-type {\n",
              "        vertical-align: middle;\n",
              "    }\n",
              "\n",
              "    .dataframe tbody tr th {\n",
              "        vertical-align: top;\n",
              "    }\n",
              "\n",
              "    .dataframe thead th {\n",
              "        text-align: right;\n",
              "    }\n",
              "</style>\n",
              "<table border=\"1\" class=\"dataframe\">\n",
              "  <thead>\n",
              "    <tr style=\"text-align: right;\">\n",
              "      <th>EducationRange</th>\n",
              "      <th>10-15</th>\n",
              "      <th>15-20</th>\n",
              "      <th>20-25</th>\n",
              "      <th>All</th>\n",
              "    </tr>\n",
              "    <tr>\n",
              "      <th>Product</th>\n",
              "      <th></th>\n",
              "      <th></th>\n",
              "      <th></th>\n",
              "      <th></th>\n",
              "    </tr>\n",
              "  </thead>\n",
              "  <tbody>\n",
              "    <tr>\n",
              "      <th>KP281</th>\n",
              "      <td>0.19</td>\n",
              "      <td>0.25</td>\n",
              "      <td>0.00</td>\n",
              "      <td>0.44</td>\n",
              "    </tr>\n",
              "    <tr>\n",
              "      <th>KP481</th>\n",
              "      <td>0.14</td>\n",
              "      <td>0.19</td>\n",
              "      <td>0.00</td>\n",
              "      <td>0.33</td>\n",
              "    </tr>\n",
              "    <tr>\n",
              "      <th>KP781</th>\n",
              "      <td>0.01</td>\n",
              "      <td>0.19</td>\n",
              "      <td>0.02</td>\n",
              "      <td>0.22</td>\n",
              "    </tr>\n",
              "    <tr>\n",
              "      <th>All</th>\n",
              "      <td>0.35</td>\n",
              "      <td>0.63</td>\n",
              "      <td>0.02</td>\n",
              "      <td>1.00</td>\n",
              "    </tr>\n",
              "  </tbody>\n",
              "</table>\n",
              "</div>\n",
              "      <button class=\"colab-df-convert\" onclick=\"convertToInteractive('df-d2b03b07-6619-4ccb-9e4f-74dc399af048')\"\n",
              "              title=\"Convert this dataframe to an interactive table.\"\n",
              "              style=\"display:none;\">\n",
              "        \n",
              "  <svg xmlns=\"http://www.w3.org/2000/svg\" height=\"24px\"viewBox=\"0 0 24 24\"\n",
              "       width=\"24px\">\n",
              "    <path d=\"M0 0h24v24H0V0z\" fill=\"none\"/>\n",
              "    <path d=\"M18.56 5.44l.94 2.06.94-2.06 2.06-.94-2.06-.94-.94-2.06-.94 2.06-2.06.94zm-11 1L8.5 8.5l.94-2.06 2.06-.94-2.06-.94L8.5 2.5l-.94 2.06-2.06.94zm10 10l.94 2.06.94-2.06 2.06-.94-2.06-.94-.94-2.06-.94 2.06-2.06.94z\"/><path d=\"M17.41 7.96l-1.37-1.37c-.4-.4-.92-.59-1.43-.59-.52 0-1.04.2-1.43.59L10.3 9.45l-7.72 7.72c-.78.78-.78 2.05 0 2.83L4 21.41c.39.39.9.59 1.41.59.51 0 1.02-.2 1.41-.59l7.78-7.78 2.81-2.81c.8-.78.8-2.07 0-2.86zM5.41 20L4 18.59l7.72-7.72 1.47 1.35L5.41 20z\"/>\n",
              "  </svg>\n",
              "      </button>\n",
              "      \n",
              "  <style>\n",
              "    .colab-df-container {\n",
              "      display:flex;\n",
              "      flex-wrap:wrap;\n",
              "      gap: 12px;\n",
              "    }\n",
              "\n",
              "    .colab-df-convert {\n",
              "      background-color: #E8F0FE;\n",
              "      border: none;\n",
              "      border-radius: 50%;\n",
              "      cursor: pointer;\n",
              "      display: none;\n",
              "      fill: #1967D2;\n",
              "      height: 32px;\n",
              "      padding: 0 0 0 0;\n",
              "      width: 32px;\n",
              "    }\n",
              "\n",
              "    .colab-df-convert:hover {\n",
              "      background-color: #E2EBFA;\n",
              "      box-shadow: 0px 1px 2px rgba(60, 64, 67, 0.3), 0px 1px 3px 1px rgba(60, 64, 67, 0.15);\n",
              "      fill: #174EA6;\n",
              "    }\n",
              "\n",
              "    [theme=dark] .colab-df-convert {\n",
              "      background-color: #3B4455;\n",
              "      fill: #D2E3FC;\n",
              "    }\n",
              "\n",
              "    [theme=dark] .colab-df-convert:hover {\n",
              "      background-color: #434B5C;\n",
              "      box-shadow: 0px 1px 3px 1px rgba(0, 0, 0, 0.15);\n",
              "      filter: drop-shadow(0px 1px 2px rgba(0, 0, 0, 0.3));\n",
              "      fill: #FFFFFF;\n",
              "    }\n",
              "  </style>\n",
              "\n",
              "      <script>\n",
              "        const buttonEl =\n",
              "          document.querySelector('#df-d2b03b07-6619-4ccb-9e4f-74dc399af048 button.colab-df-convert');\n",
              "        buttonEl.style.display =\n",
              "          google.colab.kernel.accessAllowed ? 'block' : 'none';\n",
              "\n",
              "        async function convertToInteractive(key) {\n",
              "          const element = document.querySelector('#df-d2b03b07-6619-4ccb-9e4f-74dc399af048');\n",
              "          const dataTable =\n",
              "            await google.colab.kernel.invokeFunction('convertToInteractive',\n",
              "                                                     [key], {});\n",
              "          if (!dataTable) return;\n",
              "\n",
              "          const docLinkHtml = 'Like what you see? Visit the ' +\n",
              "            '<a target=\"_blank\" href=https://colab.research.google.com/notebooks/data_table.ipynb>data table notebook</a>'\n",
              "            + ' to learn more about interactive tables.';\n",
              "          element.innerHTML = '';\n",
              "          dataTable['output_type'] = 'display_data';\n",
              "          await google.colab.output.renderOutput(dataTable, element);\n",
              "          const docLink = document.createElement('div');\n",
              "          docLink.innerHTML = docLinkHtml;\n",
              "          element.appendChild(docLink);\n",
              "        }\n",
              "      </script>\n",
              "    </div>\n",
              "  </div>\n",
              "  "
            ]
          },
          "metadata": {},
          "execution_count": 123
        }
      ]
    },
    {
      "cell_type": "code",
      "source": [
        "#P(row_index|col_index)\n",
        "row_given_col(education_tab)"
      ],
      "metadata": {
        "colab": {
          "base_uri": "https://localhost:8080/",
          "height": 175
        },
        "id": "hVkvCKZ8Ibi8",
        "outputId": "76c2cfbb-dfca-481a-b6f8-7d5988a1bb1f"
      },
      "execution_count": null,
      "outputs": [
        {
          "output_type": "execute_result",
          "data": {
            "text/plain": [
              "EducationRange  10-15  15-20  20-25\n",
              "Product                            \n",
              "KP281            0.56    0.4    0.0\n",
              "KP481            0.41    0.3    0.0\n",
              "KP781            0.03    0.3    1.0"
            ],
            "text/html": [
              "\n",
              "  <div id=\"df-fc3797d1-ced9-4902-a9e6-fe460540f861\">\n",
              "    <div class=\"colab-df-container\">\n",
              "      <div>\n",
              "<style scoped>\n",
              "    .dataframe tbody tr th:only-of-type {\n",
              "        vertical-align: middle;\n",
              "    }\n",
              "\n",
              "    .dataframe tbody tr th {\n",
              "        vertical-align: top;\n",
              "    }\n",
              "\n",
              "    .dataframe thead th {\n",
              "        text-align: right;\n",
              "    }\n",
              "</style>\n",
              "<table border=\"1\" class=\"dataframe\">\n",
              "  <thead>\n",
              "    <tr style=\"text-align: right;\">\n",
              "      <th>EducationRange</th>\n",
              "      <th>10-15</th>\n",
              "      <th>15-20</th>\n",
              "      <th>20-25</th>\n",
              "    </tr>\n",
              "    <tr>\n",
              "      <th>Product</th>\n",
              "      <th></th>\n",
              "      <th></th>\n",
              "      <th></th>\n",
              "    </tr>\n",
              "  </thead>\n",
              "  <tbody>\n",
              "    <tr>\n",
              "      <th>KP281</th>\n",
              "      <td>0.56</td>\n",
              "      <td>0.4</td>\n",
              "      <td>0.0</td>\n",
              "    </tr>\n",
              "    <tr>\n",
              "      <th>KP481</th>\n",
              "      <td>0.41</td>\n",
              "      <td>0.3</td>\n",
              "      <td>0.0</td>\n",
              "    </tr>\n",
              "    <tr>\n",
              "      <th>KP781</th>\n",
              "      <td>0.03</td>\n",
              "      <td>0.3</td>\n",
              "      <td>1.0</td>\n",
              "    </tr>\n",
              "  </tbody>\n",
              "</table>\n",
              "</div>\n",
              "      <button class=\"colab-df-convert\" onclick=\"convertToInteractive('df-fc3797d1-ced9-4902-a9e6-fe460540f861')\"\n",
              "              title=\"Convert this dataframe to an interactive table.\"\n",
              "              style=\"display:none;\">\n",
              "        \n",
              "  <svg xmlns=\"http://www.w3.org/2000/svg\" height=\"24px\"viewBox=\"0 0 24 24\"\n",
              "       width=\"24px\">\n",
              "    <path d=\"M0 0h24v24H0V0z\" fill=\"none\"/>\n",
              "    <path d=\"M18.56 5.44l.94 2.06.94-2.06 2.06-.94-2.06-.94-.94-2.06-.94 2.06-2.06.94zm-11 1L8.5 8.5l.94-2.06 2.06-.94-2.06-.94L8.5 2.5l-.94 2.06-2.06.94zm10 10l.94 2.06.94-2.06 2.06-.94-2.06-.94-.94-2.06-.94 2.06-2.06.94z\"/><path d=\"M17.41 7.96l-1.37-1.37c-.4-.4-.92-.59-1.43-.59-.52 0-1.04.2-1.43.59L10.3 9.45l-7.72 7.72c-.78.78-.78 2.05 0 2.83L4 21.41c.39.39.9.59 1.41.59.51 0 1.02-.2 1.41-.59l7.78-7.78 2.81-2.81c.8-.78.8-2.07 0-2.86zM5.41 20L4 18.59l7.72-7.72 1.47 1.35L5.41 20z\"/>\n",
              "  </svg>\n",
              "      </button>\n",
              "      \n",
              "  <style>\n",
              "    .colab-df-container {\n",
              "      display:flex;\n",
              "      flex-wrap:wrap;\n",
              "      gap: 12px;\n",
              "    }\n",
              "\n",
              "    .colab-df-convert {\n",
              "      background-color: #E8F0FE;\n",
              "      border: none;\n",
              "      border-radius: 50%;\n",
              "      cursor: pointer;\n",
              "      display: none;\n",
              "      fill: #1967D2;\n",
              "      height: 32px;\n",
              "      padding: 0 0 0 0;\n",
              "      width: 32px;\n",
              "    }\n",
              "\n",
              "    .colab-df-convert:hover {\n",
              "      background-color: #E2EBFA;\n",
              "      box-shadow: 0px 1px 2px rgba(60, 64, 67, 0.3), 0px 1px 3px 1px rgba(60, 64, 67, 0.15);\n",
              "      fill: #174EA6;\n",
              "    }\n",
              "\n",
              "    [theme=dark] .colab-df-convert {\n",
              "      background-color: #3B4455;\n",
              "      fill: #D2E3FC;\n",
              "    }\n",
              "\n",
              "    [theme=dark] .colab-df-convert:hover {\n",
              "      background-color: #434B5C;\n",
              "      box-shadow: 0px 1px 3px 1px rgba(0, 0, 0, 0.15);\n",
              "      filter: drop-shadow(0px 1px 2px rgba(0, 0, 0, 0.3));\n",
              "      fill: #FFFFFF;\n",
              "    }\n",
              "  </style>\n",
              "\n",
              "      <script>\n",
              "        const buttonEl =\n",
              "          document.querySelector('#df-fc3797d1-ced9-4902-a9e6-fe460540f861 button.colab-df-convert');\n",
              "        buttonEl.style.display =\n",
              "          google.colab.kernel.accessAllowed ? 'block' : 'none';\n",
              "\n",
              "        async function convertToInteractive(key) {\n",
              "          const element = document.querySelector('#df-fc3797d1-ced9-4902-a9e6-fe460540f861');\n",
              "          const dataTable =\n",
              "            await google.colab.kernel.invokeFunction('convertToInteractive',\n",
              "                                                     [key], {});\n",
              "          if (!dataTable) return;\n",
              "\n",
              "          const docLinkHtml = 'Like what you see? Visit the ' +\n",
              "            '<a target=\"_blank\" href=https://colab.research.google.com/notebooks/data_table.ipynb>data table notebook</a>'\n",
              "            + ' to learn more about interactive tables.';\n",
              "          element.innerHTML = '';\n",
              "          dataTable['output_type'] = 'display_data';\n",
              "          await google.colab.output.renderOutput(dataTable, element);\n",
              "          const docLink = document.createElement('div');\n",
              "          docLink.innerHTML = docLinkHtml;\n",
              "          element.appendChild(docLink);\n",
              "        }\n",
              "      </script>\n",
              "    </div>\n",
              "  </div>\n",
              "  "
            ]
          },
          "metadata": {},
          "execution_count": 124
        }
      ]
    },
    {
      "cell_type": "markdown",
      "source": [
        "There is a high probability that a person with education of 10-15 years buys KP281\n",
        "\n",
        "There is a high probability that a person with education of 20-25 years buys KP781"
      ],
      "metadata": {
        "id": "K8B__y5kIx9y"
      }
    },
    {
      "cell_type": "code",
      "source": [
        "#Fitness related\n",
        "fitness_tab=pd.crosstab(index=df['Product'],columns=df[\"Fitness\"],margins=True)\n",
        "np.round(fitness_tab/180,2)"
      ],
      "metadata": {
        "colab": {
          "base_uri": "https://localhost:8080/",
          "height": 206
        },
        "id": "cqIxSDY_IvkX",
        "outputId": "0e843427-e073-485c-bee8-35fd3ff1ed0a"
      },
      "execution_count": null,
      "outputs": [
        {
          "output_type": "execute_result",
          "data": {
            "text/plain": [
              "Fitness     1     2     3     4     5   All\n",
              "Product                                    \n",
              "KP281    0.01  0.08  0.30  0.05  0.01  0.44\n",
              "KP481    0.01  0.07  0.22  0.04  0.00  0.33\n",
              "KP781    0.00  0.00  0.02  0.04  0.16  0.22\n",
              "All      0.01  0.14  0.54  0.13  0.17  1.00"
            ],
            "text/html": [
              "\n",
              "  <div id=\"df-27e14a0b-4376-4531-8a54-edcf11c8aed5\">\n",
              "    <div class=\"colab-df-container\">\n",
              "      <div>\n",
              "<style scoped>\n",
              "    .dataframe tbody tr th:only-of-type {\n",
              "        vertical-align: middle;\n",
              "    }\n",
              "\n",
              "    .dataframe tbody tr th {\n",
              "        vertical-align: top;\n",
              "    }\n",
              "\n",
              "    .dataframe thead th {\n",
              "        text-align: right;\n",
              "    }\n",
              "</style>\n",
              "<table border=\"1\" class=\"dataframe\">\n",
              "  <thead>\n",
              "    <tr style=\"text-align: right;\">\n",
              "      <th>Fitness</th>\n",
              "      <th>1</th>\n",
              "      <th>2</th>\n",
              "      <th>3</th>\n",
              "      <th>4</th>\n",
              "      <th>5</th>\n",
              "      <th>All</th>\n",
              "    </tr>\n",
              "    <tr>\n",
              "      <th>Product</th>\n",
              "      <th></th>\n",
              "      <th></th>\n",
              "      <th></th>\n",
              "      <th></th>\n",
              "      <th></th>\n",
              "      <th></th>\n",
              "    </tr>\n",
              "  </thead>\n",
              "  <tbody>\n",
              "    <tr>\n",
              "      <th>KP281</th>\n",
              "      <td>0.01</td>\n",
              "      <td>0.08</td>\n",
              "      <td>0.30</td>\n",
              "      <td>0.05</td>\n",
              "      <td>0.01</td>\n",
              "      <td>0.44</td>\n",
              "    </tr>\n",
              "    <tr>\n",
              "      <th>KP481</th>\n",
              "      <td>0.01</td>\n",
              "      <td>0.07</td>\n",
              "      <td>0.22</td>\n",
              "      <td>0.04</td>\n",
              "      <td>0.00</td>\n",
              "      <td>0.33</td>\n",
              "    </tr>\n",
              "    <tr>\n",
              "      <th>KP781</th>\n",
              "      <td>0.00</td>\n",
              "      <td>0.00</td>\n",
              "      <td>0.02</td>\n",
              "      <td>0.04</td>\n",
              "      <td>0.16</td>\n",
              "      <td>0.22</td>\n",
              "    </tr>\n",
              "    <tr>\n",
              "      <th>All</th>\n",
              "      <td>0.01</td>\n",
              "      <td>0.14</td>\n",
              "      <td>0.54</td>\n",
              "      <td>0.13</td>\n",
              "      <td>0.17</td>\n",
              "      <td>1.00</td>\n",
              "    </tr>\n",
              "  </tbody>\n",
              "</table>\n",
              "</div>\n",
              "      <button class=\"colab-df-convert\" onclick=\"convertToInteractive('df-27e14a0b-4376-4531-8a54-edcf11c8aed5')\"\n",
              "              title=\"Convert this dataframe to an interactive table.\"\n",
              "              style=\"display:none;\">\n",
              "        \n",
              "  <svg xmlns=\"http://www.w3.org/2000/svg\" height=\"24px\"viewBox=\"0 0 24 24\"\n",
              "       width=\"24px\">\n",
              "    <path d=\"M0 0h24v24H0V0z\" fill=\"none\"/>\n",
              "    <path d=\"M18.56 5.44l.94 2.06.94-2.06 2.06-.94-2.06-.94-.94-2.06-.94 2.06-2.06.94zm-11 1L8.5 8.5l.94-2.06 2.06-.94-2.06-.94L8.5 2.5l-.94 2.06-2.06.94zm10 10l.94 2.06.94-2.06 2.06-.94-2.06-.94-.94-2.06-.94 2.06-2.06.94z\"/><path d=\"M17.41 7.96l-1.37-1.37c-.4-.4-.92-.59-1.43-.59-.52 0-1.04.2-1.43.59L10.3 9.45l-7.72 7.72c-.78.78-.78 2.05 0 2.83L4 21.41c.39.39.9.59 1.41.59.51 0 1.02-.2 1.41-.59l7.78-7.78 2.81-2.81c.8-.78.8-2.07 0-2.86zM5.41 20L4 18.59l7.72-7.72 1.47 1.35L5.41 20z\"/>\n",
              "  </svg>\n",
              "      </button>\n",
              "      \n",
              "  <style>\n",
              "    .colab-df-container {\n",
              "      display:flex;\n",
              "      flex-wrap:wrap;\n",
              "      gap: 12px;\n",
              "    }\n",
              "\n",
              "    .colab-df-convert {\n",
              "      background-color: #E8F0FE;\n",
              "      border: none;\n",
              "      border-radius: 50%;\n",
              "      cursor: pointer;\n",
              "      display: none;\n",
              "      fill: #1967D2;\n",
              "      height: 32px;\n",
              "      padding: 0 0 0 0;\n",
              "      width: 32px;\n",
              "    }\n",
              "\n",
              "    .colab-df-convert:hover {\n",
              "      background-color: #E2EBFA;\n",
              "      box-shadow: 0px 1px 2px rgba(60, 64, 67, 0.3), 0px 1px 3px 1px rgba(60, 64, 67, 0.15);\n",
              "      fill: #174EA6;\n",
              "    }\n",
              "\n",
              "    [theme=dark] .colab-df-convert {\n",
              "      background-color: #3B4455;\n",
              "      fill: #D2E3FC;\n",
              "    }\n",
              "\n",
              "    [theme=dark] .colab-df-convert:hover {\n",
              "      background-color: #434B5C;\n",
              "      box-shadow: 0px 1px 3px 1px rgba(0, 0, 0, 0.15);\n",
              "      filter: drop-shadow(0px 1px 2px rgba(0, 0, 0, 0.3));\n",
              "      fill: #FFFFFF;\n",
              "    }\n",
              "  </style>\n",
              "\n",
              "      <script>\n",
              "        const buttonEl =\n",
              "          document.querySelector('#df-27e14a0b-4376-4531-8a54-edcf11c8aed5 button.colab-df-convert');\n",
              "        buttonEl.style.display =\n",
              "          google.colab.kernel.accessAllowed ? 'block' : 'none';\n",
              "\n",
              "        async function convertToInteractive(key) {\n",
              "          const element = document.querySelector('#df-27e14a0b-4376-4531-8a54-edcf11c8aed5');\n",
              "          const dataTable =\n",
              "            await google.colab.kernel.invokeFunction('convertToInteractive',\n",
              "                                                     [key], {});\n",
              "          if (!dataTable) return;\n",
              "\n",
              "          const docLinkHtml = 'Like what you see? Visit the ' +\n",
              "            '<a target=\"_blank\" href=https://colab.research.google.com/notebooks/data_table.ipynb>data table notebook</a>'\n",
              "            + ' to learn more about interactive tables.';\n",
              "          element.innerHTML = '';\n",
              "          dataTable['output_type'] = 'display_data';\n",
              "          await google.colab.output.renderOutput(dataTable, element);\n",
              "          const docLink = document.createElement('div');\n",
              "          docLink.innerHTML = docLinkHtml;\n",
              "          element.appendChild(docLink);\n",
              "        }\n",
              "      </script>\n",
              "    </div>\n",
              "  </div>\n",
              "  "
            ]
          },
          "metadata": {},
          "execution_count": 125
        }
      ]
    },
    {
      "cell_type": "code",
      "source": [
        "row_given_col(fitness_tab)"
      ],
      "metadata": {
        "colab": {
          "base_uri": "https://localhost:8080/",
          "height": 175
        },
        "id": "UQLTDEwlJiZ6",
        "outputId": "8d517e13-0544-4e9b-ce5b-a6dd0057d463"
      },
      "execution_count": null,
      "outputs": [
        {
          "output_type": "execute_result",
          "data": {
            "text/plain": [
              "Fitness    1     2     3     4     5\n",
              "Product                             \n",
              "KP281    0.5  0.54  0.56  0.38  0.06\n",
              "KP481    0.5  0.46  0.40  0.33  0.00\n",
              "KP781    0.0  0.00  0.04  0.29  0.94"
            ],
            "text/html": [
              "\n",
              "  <div id=\"df-fb4d8c0d-8849-4a0c-a56c-0b4855d4fd78\">\n",
              "    <div class=\"colab-df-container\">\n",
              "      <div>\n",
              "<style scoped>\n",
              "    .dataframe tbody tr th:only-of-type {\n",
              "        vertical-align: middle;\n",
              "    }\n",
              "\n",
              "    .dataframe tbody tr th {\n",
              "        vertical-align: top;\n",
              "    }\n",
              "\n",
              "    .dataframe thead th {\n",
              "        text-align: right;\n",
              "    }\n",
              "</style>\n",
              "<table border=\"1\" class=\"dataframe\">\n",
              "  <thead>\n",
              "    <tr style=\"text-align: right;\">\n",
              "      <th>Fitness</th>\n",
              "      <th>1</th>\n",
              "      <th>2</th>\n",
              "      <th>3</th>\n",
              "      <th>4</th>\n",
              "      <th>5</th>\n",
              "    </tr>\n",
              "    <tr>\n",
              "      <th>Product</th>\n",
              "      <th></th>\n",
              "      <th></th>\n",
              "      <th></th>\n",
              "      <th></th>\n",
              "      <th></th>\n",
              "    </tr>\n",
              "  </thead>\n",
              "  <tbody>\n",
              "    <tr>\n",
              "      <th>KP281</th>\n",
              "      <td>0.5</td>\n",
              "      <td>0.54</td>\n",
              "      <td>0.56</td>\n",
              "      <td>0.38</td>\n",
              "      <td>0.06</td>\n",
              "    </tr>\n",
              "    <tr>\n",
              "      <th>KP481</th>\n",
              "      <td>0.5</td>\n",
              "      <td>0.46</td>\n",
              "      <td>0.40</td>\n",
              "      <td>0.33</td>\n",
              "      <td>0.00</td>\n",
              "    </tr>\n",
              "    <tr>\n",
              "      <th>KP781</th>\n",
              "      <td>0.0</td>\n",
              "      <td>0.00</td>\n",
              "      <td>0.04</td>\n",
              "      <td>0.29</td>\n",
              "      <td>0.94</td>\n",
              "    </tr>\n",
              "  </tbody>\n",
              "</table>\n",
              "</div>\n",
              "      <button class=\"colab-df-convert\" onclick=\"convertToInteractive('df-fb4d8c0d-8849-4a0c-a56c-0b4855d4fd78')\"\n",
              "              title=\"Convert this dataframe to an interactive table.\"\n",
              "              style=\"display:none;\">\n",
              "        \n",
              "  <svg xmlns=\"http://www.w3.org/2000/svg\" height=\"24px\"viewBox=\"0 0 24 24\"\n",
              "       width=\"24px\">\n",
              "    <path d=\"M0 0h24v24H0V0z\" fill=\"none\"/>\n",
              "    <path d=\"M18.56 5.44l.94 2.06.94-2.06 2.06-.94-2.06-.94-.94-2.06-.94 2.06-2.06.94zm-11 1L8.5 8.5l.94-2.06 2.06-.94-2.06-.94L8.5 2.5l-.94 2.06-2.06.94zm10 10l.94 2.06.94-2.06 2.06-.94-2.06-.94-.94-2.06-.94 2.06-2.06.94z\"/><path d=\"M17.41 7.96l-1.37-1.37c-.4-.4-.92-.59-1.43-.59-.52 0-1.04.2-1.43.59L10.3 9.45l-7.72 7.72c-.78.78-.78 2.05 0 2.83L4 21.41c.39.39.9.59 1.41.59.51 0 1.02-.2 1.41-.59l7.78-7.78 2.81-2.81c.8-.78.8-2.07 0-2.86zM5.41 20L4 18.59l7.72-7.72 1.47 1.35L5.41 20z\"/>\n",
              "  </svg>\n",
              "      </button>\n",
              "      \n",
              "  <style>\n",
              "    .colab-df-container {\n",
              "      display:flex;\n",
              "      flex-wrap:wrap;\n",
              "      gap: 12px;\n",
              "    }\n",
              "\n",
              "    .colab-df-convert {\n",
              "      background-color: #E8F0FE;\n",
              "      border: none;\n",
              "      border-radius: 50%;\n",
              "      cursor: pointer;\n",
              "      display: none;\n",
              "      fill: #1967D2;\n",
              "      height: 32px;\n",
              "      padding: 0 0 0 0;\n",
              "      width: 32px;\n",
              "    }\n",
              "\n",
              "    .colab-df-convert:hover {\n",
              "      background-color: #E2EBFA;\n",
              "      box-shadow: 0px 1px 2px rgba(60, 64, 67, 0.3), 0px 1px 3px 1px rgba(60, 64, 67, 0.15);\n",
              "      fill: #174EA6;\n",
              "    }\n",
              "\n",
              "    [theme=dark] .colab-df-convert {\n",
              "      background-color: #3B4455;\n",
              "      fill: #D2E3FC;\n",
              "    }\n",
              "\n",
              "    [theme=dark] .colab-df-convert:hover {\n",
              "      background-color: #434B5C;\n",
              "      box-shadow: 0px 1px 3px 1px rgba(0, 0, 0, 0.15);\n",
              "      filter: drop-shadow(0px 1px 2px rgba(0, 0, 0, 0.3));\n",
              "      fill: #FFFFFF;\n",
              "    }\n",
              "  </style>\n",
              "\n",
              "      <script>\n",
              "        const buttonEl =\n",
              "          document.querySelector('#df-fb4d8c0d-8849-4a0c-a56c-0b4855d4fd78 button.colab-df-convert');\n",
              "        buttonEl.style.display =\n",
              "          google.colab.kernel.accessAllowed ? 'block' : 'none';\n",
              "\n",
              "        async function convertToInteractive(key) {\n",
              "          const element = document.querySelector('#df-fb4d8c0d-8849-4a0c-a56c-0b4855d4fd78');\n",
              "          const dataTable =\n",
              "            await google.colab.kernel.invokeFunction('convertToInteractive',\n",
              "                                                     [key], {});\n",
              "          if (!dataTable) return;\n",
              "\n",
              "          const docLinkHtml = 'Like what you see? Visit the ' +\n",
              "            '<a target=\"_blank\" href=https://colab.research.google.com/notebooks/data_table.ipynb>data table notebook</a>'\n",
              "            + ' to learn more about interactive tables.';\n",
              "          element.innerHTML = '';\n",
              "          dataTable['output_type'] = 'display_data';\n",
              "          await google.colab.output.renderOutput(dataTable, element);\n",
              "          const docLink = document.createElement('div');\n",
              "          docLink.innerHTML = docLinkHtml;\n",
              "          element.appendChild(docLink);\n",
              "        }\n",
              "      </script>\n",
              "    </div>\n",
              "  </div>\n",
              "  "
            ]
          },
          "metadata": {},
          "execution_count": 126
        }
      ]
    },
    {
      "cell_type": "markdown",
      "source": [
        "There is a high probabiblity that a person using KP781 to rated as highly fit(5)"
      ],
      "metadata": {
        "id": "fvOaXovULas1"
      }
    },
    {
      "cell_type": "code",
      "source": [
        "#Miles related\n",
        "miles=df[['Product','Miles']].copy()\n",
        "for i in range(0,360,50):\n",
        "  miles.loc[miles['Miles'].between(i,i+50,'left'),\"MilesRange\"]=\"{0}-{1}\".format(i,i+50)\n",
        "miles_tab=pd.crosstab(index=miles['Product'],columns=miles[\"MilesRange\"],margins=True)\n",
        "np.round(miles_tab/180,2)"
      ],
      "metadata": {
        "colab": {
          "base_uri": "https://localhost:8080/",
          "height": 206
        },
        "id": "MVxYmrTfLsqr",
        "outputId": "4a3984e9-9365-4203-fe80-bdb252ae8754"
      },
      "execution_count": null,
      "outputs": [
        {
          "output_type": "execute_result",
          "data": {
            "text/plain": [
              "MilesRange  0-50  100-150  150-200  200-250  250-300  300-350  350-400  \\\n",
              "Product                                                                  \n",
              "KP281       0.07     0.09     0.01     0.00     0.00     0.00     0.00   \n",
              "KP481       0.03     0.07     0.01     0.01     0.00     0.00     0.00   \n",
              "KP781       0.00     0.07     0.09     0.04     0.01     0.01     0.01   \n",
              "All         0.09     0.23     0.11     0.04     0.01     0.01     0.01   \n",
              "\n",
              "MilesRange  50-100   All  \n",
              "Product                   \n",
              "KP281         0.28  0.44  \n",
              "KP481         0.22  0.33  \n",
              "KP781         0.01  0.22  \n",
              "All           0.50  1.00  "
            ],
            "text/html": [
              "\n",
              "  <div id=\"df-b579d558-3b7c-4c15-853c-e1ac68f640b5\">\n",
              "    <div class=\"colab-df-container\">\n",
              "      <div>\n",
              "<style scoped>\n",
              "    .dataframe tbody tr th:only-of-type {\n",
              "        vertical-align: middle;\n",
              "    }\n",
              "\n",
              "    .dataframe tbody tr th {\n",
              "        vertical-align: top;\n",
              "    }\n",
              "\n",
              "    .dataframe thead th {\n",
              "        text-align: right;\n",
              "    }\n",
              "</style>\n",
              "<table border=\"1\" class=\"dataframe\">\n",
              "  <thead>\n",
              "    <tr style=\"text-align: right;\">\n",
              "      <th>MilesRange</th>\n",
              "      <th>0-50</th>\n",
              "      <th>100-150</th>\n",
              "      <th>150-200</th>\n",
              "      <th>200-250</th>\n",
              "      <th>250-300</th>\n",
              "      <th>300-350</th>\n",
              "      <th>350-400</th>\n",
              "      <th>50-100</th>\n",
              "      <th>All</th>\n",
              "    </tr>\n",
              "    <tr>\n",
              "      <th>Product</th>\n",
              "      <th></th>\n",
              "      <th></th>\n",
              "      <th></th>\n",
              "      <th></th>\n",
              "      <th></th>\n",
              "      <th></th>\n",
              "      <th></th>\n",
              "      <th></th>\n",
              "      <th></th>\n",
              "    </tr>\n",
              "  </thead>\n",
              "  <tbody>\n",
              "    <tr>\n",
              "      <th>KP281</th>\n",
              "      <td>0.07</td>\n",
              "      <td>0.09</td>\n",
              "      <td>0.01</td>\n",
              "      <td>0.00</td>\n",
              "      <td>0.00</td>\n",
              "      <td>0.00</td>\n",
              "      <td>0.00</td>\n",
              "      <td>0.28</td>\n",
              "      <td>0.44</td>\n",
              "    </tr>\n",
              "    <tr>\n",
              "      <th>KP481</th>\n",
              "      <td>0.03</td>\n",
              "      <td>0.07</td>\n",
              "      <td>0.01</td>\n",
              "      <td>0.01</td>\n",
              "      <td>0.00</td>\n",
              "      <td>0.00</td>\n",
              "      <td>0.00</td>\n",
              "      <td>0.22</td>\n",
              "      <td>0.33</td>\n",
              "    </tr>\n",
              "    <tr>\n",
              "      <th>KP781</th>\n",
              "      <td>0.00</td>\n",
              "      <td>0.07</td>\n",
              "      <td>0.09</td>\n",
              "      <td>0.04</td>\n",
              "      <td>0.01</td>\n",
              "      <td>0.01</td>\n",
              "      <td>0.01</td>\n",
              "      <td>0.01</td>\n",
              "      <td>0.22</td>\n",
              "    </tr>\n",
              "    <tr>\n",
              "      <th>All</th>\n",
              "      <td>0.09</td>\n",
              "      <td>0.23</td>\n",
              "      <td>0.11</td>\n",
              "      <td>0.04</td>\n",
              "      <td>0.01</td>\n",
              "      <td>0.01</td>\n",
              "      <td>0.01</td>\n",
              "      <td>0.50</td>\n",
              "      <td>1.00</td>\n",
              "    </tr>\n",
              "  </tbody>\n",
              "</table>\n",
              "</div>\n",
              "      <button class=\"colab-df-convert\" onclick=\"convertToInteractive('df-b579d558-3b7c-4c15-853c-e1ac68f640b5')\"\n",
              "              title=\"Convert this dataframe to an interactive table.\"\n",
              "              style=\"display:none;\">\n",
              "        \n",
              "  <svg xmlns=\"http://www.w3.org/2000/svg\" height=\"24px\"viewBox=\"0 0 24 24\"\n",
              "       width=\"24px\">\n",
              "    <path d=\"M0 0h24v24H0V0z\" fill=\"none\"/>\n",
              "    <path d=\"M18.56 5.44l.94 2.06.94-2.06 2.06-.94-2.06-.94-.94-2.06-.94 2.06-2.06.94zm-11 1L8.5 8.5l.94-2.06 2.06-.94-2.06-.94L8.5 2.5l-.94 2.06-2.06.94zm10 10l.94 2.06.94-2.06 2.06-.94-2.06-.94-.94-2.06-.94 2.06-2.06.94z\"/><path d=\"M17.41 7.96l-1.37-1.37c-.4-.4-.92-.59-1.43-.59-.52 0-1.04.2-1.43.59L10.3 9.45l-7.72 7.72c-.78.78-.78 2.05 0 2.83L4 21.41c.39.39.9.59 1.41.59.51 0 1.02-.2 1.41-.59l7.78-7.78 2.81-2.81c.8-.78.8-2.07 0-2.86zM5.41 20L4 18.59l7.72-7.72 1.47 1.35L5.41 20z\"/>\n",
              "  </svg>\n",
              "      </button>\n",
              "      \n",
              "  <style>\n",
              "    .colab-df-container {\n",
              "      display:flex;\n",
              "      flex-wrap:wrap;\n",
              "      gap: 12px;\n",
              "    }\n",
              "\n",
              "    .colab-df-convert {\n",
              "      background-color: #E8F0FE;\n",
              "      border: none;\n",
              "      border-radius: 50%;\n",
              "      cursor: pointer;\n",
              "      display: none;\n",
              "      fill: #1967D2;\n",
              "      height: 32px;\n",
              "      padding: 0 0 0 0;\n",
              "      width: 32px;\n",
              "    }\n",
              "\n",
              "    .colab-df-convert:hover {\n",
              "      background-color: #E2EBFA;\n",
              "      box-shadow: 0px 1px 2px rgba(60, 64, 67, 0.3), 0px 1px 3px 1px rgba(60, 64, 67, 0.15);\n",
              "      fill: #174EA6;\n",
              "    }\n",
              "\n",
              "    [theme=dark] .colab-df-convert {\n",
              "      background-color: #3B4455;\n",
              "      fill: #D2E3FC;\n",
              "    }\n",
              "\n",
              "    [theme=dark] .colab-df-convert:hover {\n",
              "      background-color: #434B5C;\n",
              "      box-shadow: 0px 1px 3px 1px rgba(0, 0, 0, 0.15);\n",
              "      filter: drop-shadow(0px 1px 2px rgba(0, 0, 0, 0.3));\n",
              "      fill: #FFFFFF;\n",
              "    }\n",
              "  </style>\n",
              "\n",
              "      <script>\n",
              "        const buttonEl =\n",
              "          document.querySelector('#df-b579d558-3b7c-4c15-853c-e1ac68f640b5 button.colab-df-convert');\n",
              "        buttonEl.style.display =\n",
              "          google.colab.kernel.accessAllowed ? 'block' : 'none';\n",
              "\n",
              "        async function convertToInteractive(key) {\n",
              "          const element = document.querySelector('#df-b579d558-3b7c-4c15-853c-e1ac68f640b5');\n",
              "          const dataTable =\n",
              "            await google.colab.kernel.invokeFunction('convertToInteractive',\n",
              "                                                     [key], {});\n",
              "          if (!dataTable) return;\n",
              "\n",
              "          const docLinkHtml = 'Like what you see? Visit the ' +\n",
              "            '<a target=\"_blank\" href=https://colab.research.google.com/notebooks/data_table.ipynb>data table notebook</a>'\n",
              "            + ' to learn more about interactive tables.';\n",
              "          element.innerHTML = '';\n",
              "          dataTable['output_type'] = 'display_data';\n",
              "          await google.colab.output.renderOutput(dataTable, element);\n",
              "          const docLink = document.createElement('div');\n",
              "          docLink.innerHTML = docLinkHtml;\n",
              "          element.appendChild(docLink);\n",
              "        }\n",
              "      </script>\n",
              "    </div>\n",
              "  </div>\n",
              "  "
            ]
          },
          "metadata": {},
          "execution_count": 127
        }
      ]
    },
    {
      "cell_type": "code",
      "source": [
        "row_given_col(miles_tab)"
      ],
      "metadata": {
        "colab": {
          "base_uri": "https://localhost:8080/",
          "height": 175
        },
        "id": "CrWv2_QBMI1N",
        "outputId": "62f8dc34-96db-4824-8886-33d720f6693e"
      },
      "execution_count": null,
      "outputs": [
        {
          "output_type": "execute_result",
          "data": {
            "text/plain": [
              "MilesRange  0-50  100-150  150-200  200-250  250-300  300-350  350-400  50-100\n",
              "Product                                                                       \n",
              "KP281       0.71     0.39      0.1     0.00      0.0      0.0      0.0    0.56\n",
              "KP481       0.29     0.32      0.1     0.12      0.0      0.0      0.0    0.43\n",
              "KP781       0.00     0.29      0.8     0.88      1.0      1.0      1.0    0.01"
            ],
            "text/html": [
              "\n",
              "  <div id=\"df-dc0d0fc8-c9fc-4c36-963f-71fa92e1631e\">\n",
              "    <div class=\"colab-df-container\">\n",
              "      <div>\n",
              "<style scoped>\n",
              "    .dataframe tbody tr th:only-of-type {\n",
              "        vertical-align: middle;\n",
              "    }\n",
              "\n",
              "    .dataframe tbody tr th {\n",
              "        vertical-align: top;\n",
              "    }\n",
              "\n",
              "    .dataframe thead th {\n",
              "        text-align: right;\n",
              "    }\n",
              "</style>\n",
              "<table border=\"1\" class=\"dataframe\">\n",
              "  <thead>\n",
              "    <tr style=\"text-align: right;\">\n",
              "      <th>MilesRange</th>\n",
              "      <th>0-50</th>\n",
              "      <th>100-150</th>\n",
              "      <th>150-200</th>\n",
              "      <th>200-250</th>\n",
              "      <th>250-300</th>\n",
              "      <th>300-350</th>\n",
              "      <th>350-400</th>\n",
              "      <th>50-100</th>\n",
              "    </tr>\n",
              "    <tr>\n",
              "      <th>Product</th>\n",
              "      <th></th>\n",
              "      <th></th>\n",
              "      <th></th>\n",
              "      <th></th>\n",
              "      <th></th>\n",
              "      <th></th>\n",
              "      <th></th>\n",
              "      <th></th>\n",
              "    </tr>\n",
              "  </thead>\n",
              "  <tbody>\n",
              "    <tr>\n",
              "      <th>KP281</th>\n",
              "      <td>0.71</td>\n",
              "      <td>0.39</td>\n",
              "      <td>0.1</td>\n",
              "      <td>0.00</td>\n",
              "      <td>0.0</td>\n",
              "      <td>0.0</td>\n",
              "      <td>0.0</td>\n",
              "      <td>0.56</td>\n",
              "    </tr>\n",
              "    <tr>\n",
              "      <th>KP481</th>\n",
              "      <td>0.29</td>\n",
              "      <td>0.32</td>\n",
              "      <td>0.1</td>\n",
              "      <td>0.12</td>\n",
              "      <td>0.0</td>\n",
              "      <td>0.0</td>\n",
              "      <td>0.0</td>\n",
              "      <td>0.43</td>\n",
              "    </tr>\n",
              "    <tr>\n",
              "      <th>KP781</th>\n",
              "      <td>0.00</td>\n",
              "      <td>0.29</td>\n",
              "      <td>0.8</td>\n",
              "      <td>0.88</td>\n",
              "      <td>1.0</td>\n",
              "      <td>1.0</td>\n",
              "      <td>1.0</td>\n",
              "      <td>0.01</td>\n",
              "    </tr>\n",
              "  </tbody>\n",
              "</table>\n",
              "</div>\n",
              "      <button class=\"colab-df-convert\" onclick=\"convertToInteractive('df-dc0d0fc8-c9fc-4c36-963f-71fa92e1631e')\"\n",
              "              title=\"Convert this dataframe to an interactive table.\"\n",
              "              style=\"display:none;\">\n",
              "        \n",
              "  <svg xmlns=\"http://www.w3.org/2000/svg\" height=\"24px\"viewBox=\"0 0 24 24\"\n",
              "       width=\"24px\">\n",
              "    <path d=\"M0 0h24v24H0V0z\" fill=\"none\"/>\n",
              "    <path d=\"M18.56 5.44l.94 2.06.94-2.06 2.06-.94-2.06-.94-.94-2.06-.94 2.06-2.06.94zm-11 1L8.5 8.5l.94-2.06 2.06-.94-2.06-.94L8.5 2.5l-.94 2.06-2.06.94zm10 10l.94 2.06.94-2.06 2.06-.94-2.06-.94-.94-2.06-.94 2.06-2.06.94z\"/><path d=\"M17.41 7.96l-1.37-1.37c-.4-.4-.92-.59-1.43-.59-.52 0-1.04.2-1.43.59L10.3 9.45l-7.72 7.72c-.78.78-.78 2.05 0 2.83L4 21.41c.39.39.9.59 1.41.59.51 0 1.02-.2 1.41-.59l7.78-7.78 2.81-2.81c.8-.78.8-2.07 0-2.86zM5.41 20L4 18.59l7.72-7.72 1.47 1.35L5.41 20z\"/>\n",
              "  </svg>\n",
              "      </button>\n",
              "      \n",
              "  <style>\n",
              "    .colab-df-container {\n",
              "      display:flex;\n",
              "      flex-wrap:wrap;\n",
              "      gap: 12px;\n",
              "    }\n",
              "\n",
              "    .colab-df-convert {\n",
              "      background-color: #E8F0FE;\n",
              "      border: none;\n",
              "      border-radius: 50%;\n",
              "      cursor: pointer;\n",
              "      display: none;\n",
              "      fill: #1967D2;\n",
              "      height: 32px;\n",
              "      padding: 0 0 0 0;\n",
              "      width: 32px;\n",
              "    }\n",
              "\n",
              "    .colab-df-convert:hover {\n",
              "      background-color: #E2EBFA;\n",
              "      box-shadow: 0px 1px 2px rgba(60, 64, 67, 0.3), 0px 1px 3px 1px rgba(60, 64, 67, 0.15);\n",
              "      fill: #174EA6;\n",
              "    }\n",
              "\n",
              "    [theme=dark] .colab-df-convert {\n",
              "      background-color: #3B4455;\n",
              "      fill: #D2E3FC;\n",
              "    }\n",
              "\n",
              "    [theme=dark] .colab-df-convert:hover {\n",
              "      background-color: #434B5C;\n",
              "      box-shadow: 0px 1px 3px 1px rgba(0, 0, 0, 0.15);\n",
              "      filter: drop-shadow(0px 1px 2px rgba(0, 0, 0, 0.3));\n",
              "      fill: #FFFFFF;\n",
              "    }\n",
              "  </style>\n",
              "\n",
              "      <script>\n",
              "        const buttonEl =\n",
              "          document.querySelector('#df-dc0d0fc8-c9fc-4c36-963f-71fa92e1631e button.colab-df-convert');\n",
              "        buttonEl.style.display =\n",
              "          google.colab.kernel.accessAllowed ? 'block' : 'none';\n",
              "\n",
              "        async function convertToInteractive(key) {\n",
              "          const element = document.querySelector('#df-dc0d0fc8-c9fc-4c36-963f-71fa92e1631e');\n",
              "          const dataTable =\n",
              "            await google.colab.kernel.invokeFunction('convertToInteractive',\n",
              "                                                     [key], {});\n",
              "          if (!dataTable) return;\n",
              "\n",
              "          const docLinkHtml = 'Like what you see? Visit the ' +\n",
              "            '<a target=\"_blank\" href=https://colab.research.google.com/notebooks/data_table.ipynb>data table notebook</a>'\n",
              "            + ' to learn more about interactive tables.';\n",
              "          element.innerHTML = '';\n",
              "          dataTable['output_type'] = 'display_data';\n",
              "          await google.colab.output.renderOutput(dataTable, element);\n",
              "          const docLink = document.createElement('div');\n",
              "          docLink.innerHTML = docLinkHtml;\n",
              "          element.appendChild(docLink);\n",
              "        }\n",
              "      </script>\n",
              "    </div>\n",
              "  </div>\n",
              "  "
            ]
          },
          "metadata": {},
          "execution_count": 128
        }
      ]
    },
    {
      "cell_type": "markdown",
      "source": [
        "There is high chances of people using KP781 to cover 200-250 miles\n",
        "\n",
        "There is high chances of people using KP281 to cover 0-50 miles"
      ],
      "metadata": {
        "id": "f6YpxhhNNbf1"
      }
    },
    {
      "cell_type": "code",
      "source": [
        "#Usage related\n",
        "usage_tab=pd.crosstab(index=df['Product'],columns=df[\"Usage\"],margins=True)\n",
        "np.round(usage_tab/180,2)"
      ],
      "metadata": {
        "colab": {
          "base_uri": "https://localhost:8080/",
          "height": 206
        },
        "id": "_UV4B7UyN7Z1",
        "outputId": "9e2b2d8c-5b00-4876-89f1-450e5f65b93d"
      },
      "execution_count": null,
      "outputs": [
        {
          "output_type": "execute_result",
          "data": {
            "text/plain": [
              "Usage       2     3     4     5     6     7   All\n",
              "Product                                          \n",
              "KP281    0.11  0.21  0.12  0.01  0.00  0.00  0.44\n",
              "KP481    0.08  0.17  0.07  0.02  0.00  0.00  0.33\n",
              "KP781    0.00  0.01  0.10  0.07  0.04  0.01  0.22\n",
              "All      0.18  0.38  0.29  0.09  0.04  0.01  1.00"
            ],
            "text/html": [
              "\n",
              "  <div id=\"df-78eeb3f4-1a45-4780-8624-2970f83e553f\">\n",
              "    <div class=\"colab-df-container\">\n",
              "      <div>\n",
              "<style scoped>\n",
              "    .dataframe tbody tr th:only-of-type {\n",
              "        vertical-align: middle;\n",
              "    }\n",
              "\n",
              "    .dataframe tbody tr th {\n",
              "        vertical-align: top;\n",
              "    }\n",
              "\n",
              "    .dataframe thead th {\n",
              "        text-align: right;\n",
              "    }\n",
              "</style>\n",
              "<table border=\"1\" class=\"dataframe\">\n",
              "  <thead>\n",
              "    <tr style=\"text-align: right;\">\n",
              "      <th>Usage</th>\n",
              "      <th>2</th>\n",
              "      <th>3</th>\n",
              "      <th>4</th>\n",
              "      <th>5</th>\n",
              "      <th>6</th>\n",
              "      <th>7</th>\n",
              "      <th>All</th>\n",
              "    </tr>\n",
              "    <tr>\n",
              "      <th>Product</th>\n",
              "      <th></th>\n",
              "      <th></th>\n",
              "      <th></th>\n",
              "      <th></th>\n",
              "      <th></th>\n",
              "      <th></th>\n",
              "      <th></th>\n",
              "    </tr>\n",
              "  </thead>\n",
              "  <tbody>\n",
              "    <tr>\n",
              "      <th>KP281</th>\n",
              "      <td>0.11</td>\n",
              "      <td>0.21</td>\n",
              "      <td>0.12</td>\n",
              "      <td>0.01</td>\n",
              "      <td>0.00</td>\n",
              "      <td>0.00</td>\n",
              "      <td>0.44</td>\n",
              "    </tr>\n",
              "    <tr>\n",
              "      <th>KP481</th>\n",
              "      <td>0.08</td>\n",
              "      <td>0.17</td>\n",
              "      <td>0.07</td>\n",
              "      <td>0.02</td>\n",
              "      <td>0.00</td>\n",
              "      <td>0.00</td>\n",
              "      <td>0.33</td>\n",
              "    </tr>\n",
              "    <tr>\n",
              "      <th>KP781</th>\n",
              "      <td>0.00</td>\n",
              "      <td>0.01</td>\n",
              "      <td>0.10</td>\n",
              "      <td>0.07</td>\n",
              "      <td>0.04</td>\n",
              "      <td>0.01</td>\n",
              "      <td>0.22</td>\n",
              "    </tr>\n",
              "    <tr>\n",
              "      <th>All</th>\n",
              "      <td>0.18</td>\n",
              "      <td>0.38</td>\n",
              "      <td>0.29</td>\n",
              "      <td>0.09</td>\n",
              "      <td>0.04</td>\n",
              "      <td>0.01</td>\n",
              "      <td>1.00</td>\n",
              "    </tr>\n",
              "  </tbody>\n",
              "</table>\n",
              "</div>\n",
              "      <button class=\"colab-df-convert\" onclick=\"convertToInteractive('df-78eeb3f4-1a45-4780-8624-2970f83e553f')\"\n",
              "              title=\"Convert this dataframe to an interactive table.\"\n",
              "              style=\"display:none;\">\n",
              "        \n",
              "  <svg xmlns=\"http://www.w3.org/2000/svg\" height=\"24px\"viewBox=\"0 0 24 24\"\n",
              "       width=\"24px\">\n",
              "    <path d=\"M0 0h24v24H0V0z\" fill=\"none\"/>\n",
              "    <path d=\"M18.56 5.44l.94 2.06.94-2.06 2.06-.94-2.06-.94-.94-2.06-.94 2.06-2.06.94zm-11 1L8.5 8.5l.94-2.06 2.06-.94-2.06-.94L8.5 2.5l-.94 2.06-2.06.94zm10 10l.94 2.06.94-2.06 2.06-.94-2.06-.94-.94-2.06-.94 2.06-2.06.94z\"/><path d=\"M17.41 7.96l-1.37-1.37c-.4-.4-.92-.59-1.43-.59-.52 0-1.04.2-1.43.59L10.3 9.45l-7.72 7.72c-.78.78-.78 2.05 0 2.83L4 21.41c.39.39.9.59 1.41.59.51 0 1.02-.2 1.41-.59l7.78-7.78 2.81-2.81c.8-.78.8-2.07 0-2.86zM5.41 20L4 18.59l7.72-7.72 1.47 1.35L5.41 20z\"/>\n",
              "  </svg>\n",
              "      </button>\n",
              "      \n",
              "  <style>\n",
              "    .colab-df-container {\n",
              "      display:flex;\n",
              "      flex-wrap:wrap;\n",
              "      gap: 12px;\n",
              "    }\n",
              "\n",
              "    .colab-df-convert {\n",
              "      background-color: #E8F0FE;\n",
              "      border: none;\n",
              "      border-radius: 50%;\n",
              "      cursor: pointer;\n",
              "      display: none;\n",
              "      fill: #1967D2;\n",
              "      height: 32px;\n",
              "      padding: 0 0 0 0;\n",
              "      width: 32px;\n",
              "    }\n",
              "\n",
              "    .colab-df-convert:hover {\n",
              "      background-color: #E2EBFA;\n",
              "      box-shadow: 0px 1px 2px rgba(60, 64, 67, 0.3), 0px 1px 3px 1px rgba(60, 64, 67, 0.15);\n",
              "      fill: #174EA6;\n",
              "    }\n",
              "\n",
              "    [theme=dark] .colab-df-convert {\n",
              "      background-color: #3B4455;\n",
              "      fill: #D2E3FC;\n",
              "    }\n",
              "\n",
              "    [theme=dark] .colab-df-convert:hover {\n",
              "      background-color: #434B5C;\n",
              "      box-shadow: 0px 1px 3px 1px rgba(0, 0, 0, 0.15);\n",
              "      filter: drop-shadow(0px 1px 2px rgba(0, 0, 0, 0.3));\n",
              "      fill: #FFFFFF;\n",
              "    }\n",
              "  </style>\n",
              "\n",
              "      <script>\n",
              "        const buttonEl =\n",
              "          document.querySelector('#df-78eeb3f4-1a45-4780-8624-2970f83e553f button.colab-df-convert');\n",
              "        buttonEl.style.display =\n",
              "          google.colab.kernel.accessAllowed ? 'block' : 'none';\n",
              "\n",
              "        async function convertToInteractive(key) {\n",
              "          const element = document.querySelector('#df-78eeb3f4-1a45-4780-8624-2970f83e553f');\n",
              "          const dataTable =\n",
              "            await google.colab.kernel.invokeFunction('convertToInteractive',\n",
              "                                                     [key], {});\n",
              "          if (!dataTable) return;\n",
              "\n",
              "          const docLinkHtml = 'Like what you see? Visit the ' +\n",
              "            '<a target=\"_blank\" href=https://colab.research.google.com/notebooks/data_table.ipynb>data table notebook</a>'\n",
              "            + ' to learn more about interactive tables.';\n",
              "          element.innerHTML = '';\n",
              "          dataTable['output_type'] = 'display_data';\n",
              "          await google.colab.output.renderOutput(dataTable, element);\n",
              "          const docLink = document.createElement('div');\n",
              "          docLink.innerHTML = docLinkHtml;\n",
              "          element.appendChild(docLink);\n",
              "        }\n",
              "      </script>\n",
              "    </div>\n",
              "  </div>\n",
              "  "
            ]
          },
          "metadata": {},
          "execution_count": 129
        }
      ]
    },
    {
      "cell_type": "code",
      "source": [
        "row_given_col(usage_tab)"
      ],
      "metadata": {
        "colab": {
          "base_uri": "https://localhost:8080/",
          "height": 175
        },
        "id": "aMGrrKouOdYv",
        "outputId": "895ca483-2331-4b0e-949d-e359e1a1b068"
      },
      "execution_count": null,
      "outputs": [
        {
          "output_type": "execute_result",
          "data": {
            "text/plain": [
              "Usage       2     3     4     5    6    7\n",
              "Product                                  \n",
              "KP281    0.58  0.54  0.42  0.12  0.0  0.0\n",
              "KP481    0.42  0.45  0.23  0.18  0.0  0.0\n",
              "KP781    0.00  0.01  0.35  0.71  1.0  1.0"
            ],
            "text/html": [
              "\n",
              "  <div id=\"df-684dc04c-3110-43d5-97be-162f3554d2a5\">\n",
              "    <div class=\"colab-df-container\">\n",
              "      <div>\n",
              "<style scoped>\n",
              "    .dataframe tbody tr th:only-of-type {\n",
              "        vertical-align: middle;\n",
              "    }\n",
              "\n",
              "    .dataframe tbody tr th {\n",
              "        vertical-align: top;\n",
              "    }\n",
              "\n",
              "    .dataframe thead th {\n",
              "        text-align: right;\n",
              "    }\n",
              "</style>\n",
              "<table border=\"1\" class=\"dataframe\">\n",
              "  <thead>\n",
              "    <tr style=\"text-align: right;\">\n",
              "      <th>Usage</th>\n",
              "      <th>2</th>\n",
              "      <th>3</th>\n",
              "      <th>4</th>\n",
              "      <th>5</th>\n",
              "      <th>6</th>\n",
              "      <th>7</th>\n",
              "    </tr>\n",
              "    <tr>\n",
              "      <th>Product</th>\n",
              "      <th></th>\n",
              "      <th></th>\n",
              "      <th></th>\n",
              "      <th></th>\n",
              "      <th></th>\n",
              "      <th></th>\n",
              "    </tr>\n",
              "  </thead>\n",
              "  <tbody>\n",
              "    <tr>\n",
              "      <th>KP281</th>\n",
              "      <td>0.58</td>\n",
              "      <td>0.54</td>\n",
              "      <td>0.42</td>\n",
              "      <td>0.12</td>\n",
              "      <td>0.0</td>\n",
              "      <td>0.0</td>\n",
              "    </tr>\n",
              "    <tr>\n",
              "      <th>KP481</th>\n",
              "      <td>0.42</td>\n",
              "      <td>0.45</td>\n",
              "      <td>0.23</td>\n",
              "      <td>0.18</td>\n",
              "      <td>0.0</td>\n",
              "      <td>0.0</td>\n",
              "    </tr>\n",
              "    <tr>\n",
              "      <th>KP781</th>\n",
              "      <td>0.00</td>\n",
              "      <td>0.01</td>\n",
              "      <td>0.35</td>\n",
              "      <td>0.71</td>\n",
              "      <td>1.0</td>\n",
              "      <td>1.0</td>\n",
              "    </tr>\n",
              "  </tbody>\n",
              "</table>\n",
              "</div>\n",
              "      <button class=\"colab-df-convert\" onclick=\"convertToInteractive('df-684dc04c-3110-43d5-97be-162f3554d2a5')\"\n",
              "              title=\"Convert this dataframe to an interactive table.\"\n",
              "              style=\"display:none;\">\n",
              "        \n",
              "  <svg xmlns=\"http://www.w3.org/2000/svg\" height=\"24px\"viewBox=\"0 0 24 24\"\n",
              "       width=\"24px\">\n",
              "    <path d=\"M0 0h24v24H0V0z\" fill=\"none\"/>\n",
              "    <path d=\"M18.56 5.44l.94 2.06.94-2.06 2.06-.94-2.06-.94-.94-2.06-.94 2.06-2.06.94zm-11 1L8.5 8.5l.94-2.06 2.06-.94-2.06-.94L8.5 2.5l-.94 2.06-2.06.94zm10 10l.94 2.06.94-2.06 2.06-.94-2.06-.94-.94-2.06-.94 2.06-2.06.94z\"/><path d=\"M17.41 7.96l-1.37-1.37c-.4-.4-.92-.59-1.43-.59-.52 0-1.04.2-1.43.59L10.3 9.45l-7.72 7.72c-.78.78-.78 2.05 0 2.83L4 21.41c.39.39.9.59 1.41.59.51 0 1.02-.2 1.41-.59l7.78-7.78 2.81-2.81c.8-.78.8-2.07 0-2.86zM5.41 20L4 18.59l7.72-7.72 1.47 1.35L5.41 20z\"/>\n",
              "  </svg>\n",
              "      </button>\n",
              "      \n",
              "  <style>\n",
              "    .colab-df-container {\n",
              "      display:flex;\n",
              "      flex-wrap:wrap;\n",
              "      gap: 12px;\n",
              "    }\n",
              "\n",
              "    .colab-df-convert {\n",
              "      background-color: #E8F0FE;\n",
              "      border: none;\n",
              "      border-radius: 50%;\n",
              "      cursor: pointer;\n",
              "      display: none;\n",
              "      fill: #1967D2;\n",
              "      height: 32px;\n",
              "      padding: 0 0 0 0;\n",
              "      width: 32px;\n",
              "    }\n",
              "\n",
              "    .colab-df-convert:hover {\n",
              "      background-color: #E2EBFA;\n",
              "      box-shadow: 0px 1px 2px rgba(60, 64, 67, 0.3), 0px 1px 3px 1px rgba(60, 64, 67, 0.15);\n",
              "      fill: #174EA6;\n",
              "    }\n",
              "\n",
              "    [theme=dark] .colab-df-convert {\n",
              "      background-color: #3B4455;\n",
              "      fill: #D2E3FC;\n",
              "    }\n",
              "\n",
              "    [theme=dark] .colab-df-convert:hover {\n",
              "      background-color: #434B5C;\n",
              "      box-shadow: 0px 1px 3px 1px rgba(0, 0, 0, 0.15);\n",
              "      filter: drop-shadow(0px 1px 2px rgba(0, 0, 0, 0.3));\n",
              "      fill: #FFFFFF;\n",
              "    }\n",
              "  </style>\n",
              "\n",
              "      <script>\n",
              "        const buttonEl =\n",
              "          document.querySelector('#df-684dc04c-3110-43d5-97be-162f3554d2a5 button.colab-df-convert');\n",
              "        buttonEl.style.display =\n",
              "          google.colab.kernel.accessAllowed ? 'block' : 'none';\n",
              "\n",
              "        async function convertToInteractive(key) {\n",
              "          const element = document.querySelector('#df-684dc04c-3110-43d5-97be-162f3554d2a5');\n",
              "          const dataTable =\n",
              "            await google.colab.kernel.invokeFunction('convertToInteractive',\n",
              "                                                     [key], {});\n",
              "          if (!dataTable) return;\n",
              "\n",
              "          const docLinkHtml = 'Like what you see? Visit the ' +\n",
              "            '<a target=\"_blank\" href=https://colab.research.google.com/notebooks/data_table.ipynb>data table notebook</a>'\n",
              "            + ' to learn more about interactive tables.';\n",
              "          element.innerHTML = '';\n",
              "          dataTable['output_type'] = 'display_data';\n",
              "          await google.colab.output.renderOutput(dataTable, element);\n",
              "          const docLink = document.createElement('div');\n",
              "          docLink.innerHTML = docLinkHtml;\n",
              "          element.appendChild(docLink);\n",
              "        }\n",
              "      </script>\n",
              "    </div>\n",
              "  </div>\n",
              "  "
            ]
          },
          "metadata": {},
          "execution_count": 130
        }
      ]
    },
    {
      "cell_type": "markdown",
      "source": [
        "There are high chance that person using KP781 use it 5 times a week"
      ],
      "metadata": {
        "id": "OoMxCezsOohv"
      }
    },
    {
      "cell_type": "markdown",
      "source": [
        "#5)Business Insights based on Non-Graphical and Visual Analysis "
      ],
      "metadata": {
        "id": "Irtwh7NpO8AP"
      }
    },
    {
      "cell_type": "markdown",
      "source": [
        "#5.1  Comments on the range of attributes"
      ],
      "metadata": {
        "id": "ifTReKCrO-QX"
      }
    },
    {
      "cell_type": "code",
      "source": [
        "df.describe()"
      ],
      "metadata": {
        "colab": {
          "base_uri": "https://localhost:8080/",
          "height": 300
        },
        "id": "dTpEH6DIO8pf",
        "outputId": "c2673cb7-33ff-49ce-ddb3-c18a069f7a36"
      },
      "execution_count": null,
      "outputs": [
        {
          "output_type": "execute_result",
          "data": {
            "text/plain": [
              "              Age   Education       Usage     Fitness         Income  \\\n",
              "count  180.000000  180.000000  180.000000  180.000000     180.000000   \n",
              "mean    28.788889   15.572222    3.455556    3.311111   53719.577778   \n",
              "std      6.943498    1.617055    1.084797    0.958869   16506.684226   \n",
              "min     18.000000   12.000000    2.000000    1.000000   29562.000000   \n",
              "25%     24.000000   14.000000    3.000000    3.000000   44058.750000   \n",
              "50%     26.000000   16.000000    3.000000    3.000000   50596.500000   \n",
              "75%     33.000000   16.000000    4.000000    4.000000   58668.000000   \n",
              "max     50.000000   21.000000    7.000000    5.000000  104581.000000   \n",
              "\n",
              "            Miles  \n",
              "count  180.000000  \n",
              "mean   103.194444  \n",
              "std     51.863605  \n",
              "min     21.000000  \n",
              "25%     66.000000  \n",
              "50%     94.000000  \n",
              "75%    114.750000  \n",
              "max    360.000000  "
            ],
            "text/html": [
              "\n",
              "  <div id=\"df-38ac1c18-55d9-4aa0-a729-57811dd3709b\">\n",
              "    <div class=\"colab-df-container\">\n",
              "      <div>\n",
              "<style scoped>\n",
              "    .dataframe tbody tr th:only-of-type {\n",
              "        vertical-align: middle;\n",
              "    }\n",
              "\n",
              "    .dataframe tbody tr th {\n",
              "        vertical-align: top;\n",
              "    }\n",
              "\n",
              "    .dataframe thead th {\n",
              "        text-align: right;\n",
              "    }\n",
              "</style>\n",
              "<table border=\"1\" class=\"dataframe\">\n",
              "  <thead>\n",
              "    <tr style=\"text-align: right;\">\n",
              "      <th></th>\n",
              "      <th>Age</th>\n",
              "      <th>Education</th>\n",
              "      <th>Usage</th>\n",
              "      <th>Fitness</th>\n",
              "      <th>Income</th>\n",
              "      <th>Miles</th>\n",
              "    </tr>\n",
              "  </thead>\n",
              "  <tbody>\n",
              "    <tr>\n",
              "      <th>count</th>\n",
              "      <td>180.000000</td>\n",
              "      <td>180.000000</td>\n",
              "      <td>180.000000</td>\n",
              "      <td>180.000000</td>\n",
              "      <td>180.000000</td>\n",
              "      <td>180.000000</td>\n",
              "    </tr>\n",
              "    <tr>\n",
              "      <th>mean</th>\n",
              "      <td>28.788889</td>\n",
              "      <td>15.572222</td>\n",
              "      <td>3.455556</td>\n",
              "      <td>3.311111</td>\n",
              "      <td>53719.577778</td>\n",
              "      <td>103.194444</td>\n",
              "    </tr>\n",
              "    <tr>\n",
              "      <th>std</th>\n",
              "      <td>6.943498</td>\n",
              "      <td>1.617055</td>\n",
              "      <td>1.084797</td>\n",
              "      <td>0.958869</td>\n",
              "      <td>16506.684226</td>\n",
              "      <td>51.863605</td>\n",
              "    </tr>\n",
              "    <tr>\n",
              "      <th>min</th>\n",
              "      <td>18.000000</td>\n",
              "      <td>12.000000</td>\n",
              "      <td>2.000000</td>\n",
              "      <td>1.000000</td>\n",
              "      <td>29562.000000</td>\n",
              "      <td>21.000000</td>\n",
              "    </tr>\n",
              "    <tr>\n",
              "      <th>25%</th>\n",
              "      <td>24.000000</td>\n",
              "      <td>14.000000</td>\n",
              "      <td>3.000000</td>\n",
              "      <td>3.000000</td>\n",
              "      <td>44058.750000</td>\n",
              "      <td>66.000000</td>\n",
              "    </tr>\n",
              "    <tr>\n",
              "      <th>50%</th>\n",
              "      <td>26.000000</td>\n",
              "      <td>16.000000</td>\n",
              "      <td>3.000000</td>\n",
              "      <td>3.000000</td>\n",
              "      <td>50596.500000</td>\n",
              "      <td>94.000000</td>\n",
              "    </tr>\n",
              "    <tr>\n",
              "      <th>75%</th>\n",
              "      <td>33.000000</td>\n",
              "      <td>16.000000</td>\n",
              "      <td>4.000000</td>\n",
              "      <td>4.000000</td>\n",
              "      <td>58668.000000</td>\n",
              "      <td>114.750000</td>\n",
              "    </tr>\n",
              "    <tr>\n",
              "      <th>max</th>\n",
              "      <td>50.000000</td>\n",
              "      <td>21.000000</td>\n",
              "      <td>7.000000</td>\n",
              "      <td>5.000000</td>\n",
              "      <td>104581.000000</td>\n",
              "      <td>360.000000</td>\n",
              "    </tr>\n",
              "  </tbody>\n",
              "</table>\n",
              "</div>\n",
              "      <button class=\"colab-df-convert\" onclick=\"convertToInteractive('df-38ac1c18-55d9-4aa0-a729-57811dd3709b')\"\n",
              "              title=\"Convert this dataframe to an interactive table.\"\n",
              "              style=\"display:none;\">\n",
              "        \n",
              "  <svg xmlns=\"http://www.w3.org/2000/svg\" height=\"24px\"viewBox=\"0 0 24 24\"\n",
              "       width=\"24px\">\n",
              "    <path d=\"M0 0h24v24H0V0z\" fill=\"none\"/>\n",
              "    <path d=\"M18.56 5.44l.94 2.06.94-2.06 2.06-.94-2.06-.94-.94-2.06-.94 2.06-2.06.94zm-11 1L8.5 8.5l.94-2.06 2.06-.94-2.06-.94L8.5 2.5l-.94 2.06-2.06.94zm10 10l.94 2.06.94-2.06 2.06-.94-2.06-.94-.94-2.06-.94 2.06-2.06.94z\"/><path d=\"M17.41 7.96l-1.37-1.37c-.4-.4-.92-.59-1.43-.59-.52 0-1.04.2-1.43.59L10.3 9.45l-7.72 7.72c-.78.78-.78 2.05 0 2.83L4 21.41c.39.39.9.59 1.41.59.51 0 1.02-.2 1.41-.59l7.78-7.78 2.81-2.81c.8-.78.8-2.07 0-2.86zM5.41 20L4 18.59l7.72-7.72 1.47 1.35L5.41 20z\"/>\n",
              "  </svg>\n",
              "      </button>\n",
              "      \n",
              "  <style>\n",
              "    .colab-df-container {\n",
              "      display:flex;\n",
              "      flex-wrap:wrap;\n",
              "      gap: 12px;\n",
              "    }\n",
              "\n",
              "    .colab-df-convert {\n",
              "      background-color: #E8F0FE;\n",
              "      border: none;\n",
              "      border-radius: 50%;\n",
              "      cursor: pointer;\n",
              "      display: none;\n",
              "      fill: #1967D2;\n",
              "      height: 32px;\n",
              "      padding: 0 0 0 0;\n",
              "      width: 32px;\n",
              "    }\n",
              "\n",
              "    .colab-df-convert:hover {\n",
              "      background-color: #E2EBFA;\n",
              "      box-shadow: 0px 1px 2px rgba(60, 64, 67, 0.3), 0px 1px 3px 1px rgba(60, 64, 67, 0.15);\n",
              "      fill: #174EA6;\n",
              "    }\n",
              "\n",
              "    [theme=dark] .colab-df-convert {\n",
              "      background-color: #3B4455;\n",
              "      fill: #D2E3FC;\n",
              "    }\n",
              "\n",
              "    [theme=dark] .colab-df-convert:hover {\n",
              "      background-color: #434B5C;\n",
              "      box-shadow: 0px 1px 3px 1px rgba(0, 0, 0, 0.15);\n",
              "      filter: drop-shadow(0px 1px 2px rgba(0, 0, 0, 0.3));\n",
              "      fill: #FFFFFF;\n",
              "    }\n",
              "  </style>\n",
              "\n",
              "      <script>\n",
              "        const buttonEl =\n",
              "          document.querySelector('#df-38ac1c18-55d9-4aa0-a729-57811dd3709b button.colab-df-convert');\n",
              "        buttonEl.style.display =\n",
              "          google.colab.kernel.accessAllowed ? 'block' : 'none';\n",
              "\n",
              "        async function convertToInteractive(key) {\n",
              "          const element = document.querySelector('#df-38ac1c18-55d9-4aa0-a729-57811dd3709b');\n",
              "          const dataTable =\n",
              "            await google.colab.kernel.invokeFunction('convertToInteractive',\n",
              "                                                     [key], {});\n",
              "          if (!dataTable) return;\n",
              "\n",
              "          const docLinkHtml = 'Like what you see? Visit the ' +\n",
              "            '<a target=\"_blank\" href=https://colab.research.google.com/notebooks/data_table.ipynb>data table notebook</a>'\n",
              "            + ' to learn more about interactive tables.';\n",
              "          element.innerHTML = '';\n",
              "          dataTable['output_type'] = 'display_data';\n",
              "          await google.colab.output.renderOutput(dataTable, element);\n",
              "          const docLink = document.createElement('div');\n",
              "          docLink.innerHTML = docLinkHtml;\n",
              "          element.appendChild(docLink);\n",
              "        }\n",
              "      </script>\n",
              "    </div>\n",
              "  </div>\n",
              "  "
            ]
          },
          "metadata": {},
          "execution_count": 131
        }
      ]
    },
    {
      "cell_type": "code",
      "source": [
        "df.describe(include='object')"
      ],
      "metadata": {
        "colab": {
          "base_uri": "https://localhost:8080/",
          "height": 175
        },
        "id": "xuavaZ95PYHf",
        "outputId": "b609884a-12a5-4194-f52c-fd71afe689c8"
      },
      "execution_count": null,
      "outputs": [
        {
          "output_type": "execute_result",
          "data": {
            "text/plain": [
              "       Product Gender MaritalStatus\n",
              "count      180    180           180\n",
              "unique       3      2             2\n",
              "top      KP281   Male     Partnered\n",
              "freq        80    104           107"
            ],
            "text/html": [
              "\n",
              "  <div id=\"df-b37f40b3-2dab-4913-aa92-b0b2b14ec0af\">\n",
              "    <div class=\"colab-df-container\">\n",
              "      <div>\n",
              "<style scoped>\n",
              "    .dataframe tbody tr th:only-of-type {\n",
              "        vertical-align: middle;\n",
              "    }\n",
              "\n",
              "    .dataframe tbody tr th {\n",
              "        vertical-align: top;\n",
              "    }\n",
              "\n",
              "    .dataframe thead th {\n",
              "        text-align: right;\n",
              "    }\n",
              "</style>\n",
              "<table border=\"1\" class=\"dataframe\">\n",
              "  <thead>\n",
              "    <tr style=\"text-align: right;\">\n",
              "      <th></th>\n",
              "      <th>Product</th>\n",
              "      <th>Gender</th>\n",
              "      <th>MaritalStatus</th>\n",
              "    </tr>\n",
              "  </thead>\n",
              "  <tbody>\n",
              "    <tr>\n",
              "      <th>count</th>\n",
              "      <td>180</td>\n",
              "      <td>180</td>\n",
              "      <td>180</td>\n",
              "    </tr>\n",
              "    <tr>\n",
              "      <th>unique</th>\n",
              "      <td>3</td>\n",
              "      <td>2</td>\n",
              "      <td>2</td>\n",
              "    </tr>\n",
              "    <tr>\n",
              "      <th>top</th>\n",
              "      <td>KP281</td>\n",
              "      <td>Male</td>\n",
              "      <td>Partnered</td>\n",
              "    </tr>\n",
              "    <tr>\n",
              "      <th>freq</th>\n",
              "      <td>80</td>\n",
              "      <td>104</td>\n",
              "      <td>107</td>\n",
              "    </tr>\n",
              "  </tbody>\n",
              "</table>\n",
              "</div>\n",
              "      <button class=\"colab-df-convert\" onclick=\"convertToInteractive('df-b37f40b3-2dab-4913-aa92-b0b2b14ec0af')\"\n",
              "              title=\"Convert this dataframe to an interactive table.\"\n",
              "              style=\"display:none;\">\n",
              "        \n",
              "  <svg xmlns=\"http://www.w3.org/2000/svg\" height=\"24px\"viewBox=\"0 0 24 24\"\n",
              "       width=\"24px\">\n",
              "    <path d=\"M0 0h24v24H0V0z\" fill=\"none\"/>\n",
              "    <path d=\"M18.56 5.44l.94 2.06.94-2.06 2.06-.94-2.06-.94-.94-2.06-.94 2.06-2.06.94zm-11 1L8.5 8.5l.94-2.06 2.06-.94-2.06-.94L8.5 2.5l-.94 2.06-2.06.94zm10 10l.94 2.06.94-2.06 2.06-.94-2.06-.94-.94-2.06-.94 2.06-2.06.94z\"/><path d=\"M17.41 7.96l-1.37-1.37c-.4-.4-.92-.59-1.43-.59-.52 0-1.04.2-1.43.59L10.3 9.45l-7.72 7.72c-.78.78-.78 2.05 0 2.83L4 21.41c.39.39.9.59 1.41.59.51 0 1.02-.2 1.41-.59l7.78-7.78 2.81-2.81c.8-.78.8-2.07 0-2.86zM5.41 20L4 18.59l7.72-7.72 1.47 1.35L5.41 20z\"/>\n",
              "  </svg>\n",
              "      </button>\n",
              "      \n",
              "  <style>\n",
              "    .colab-df-container {\n",
              "      display:flex;\n",
              "      flex-wrap:wrap;\n",
              "      gap: 12px;\n",
              "    }\n",
              "\n",
              "    .colab-df-convert {\n",
              "      background-color: #E8F0FE;\n",
              "      border: none;\n",
              "      border-radius: 50%;\n",
              "      cursor: pointer;\n",
              "      display: none;\n",
              "      fill: #1967D2;\n",
              "      height: 32px;\n",
              "      padding: 0 0 0 0;\n",
              "      width: 32px;\n",
              "    }\n",
              "\n",
              "    .colab-df-convert:hover {\n",
              "      background-color: #E2EBFA;\n",
              "      box-shadow: 0px 1px 2px rgba(60, 64, 67, 0.3), 0px 1px 3px 1px rgba(60, 64, 67, 0.15);\n",
              "      fill: #174EA6;\n",
              "    }\n",
              "\n",
              "    [theme=dark] .colab-df-convert {\n",
              "      background-color: #3B4455;\n",
              "      fill: #D2E3FC;\n",
              "    }\n",
              "\n",
              "    [theme=dark] .colab-df-convert:hover {\n",
              "      background-color: #434B5C;\n",
              "      box-shadow: 0px 1px 3px 1px rgba(0, 0, 0, 0.15);\n",
              "      filter: drop-shadow(0px 1px 2px rgba(0, 0, 0, 0.3));\n",
              "      fill: #FFFFFF;\n",
              "    }\n",
              "  </style>\n",
              "\n",
              "      <script>\n",
              "        const buttonEl =\n",
              "          document.querySelector('#df-b37f40b3-2dab-4913-aa92-b0b2b14ec0af button.colab-df-convert');\n",
              "        buttonEl.style.display =\n",
              "          google.colab.kernel.accessAllowed ? 'block' : 'none';\n",
              "\n",
              "        async function convertToInteractive(key) {\n",
              "          const element = document.querySelector('#df-b37f40b3-2dab-4913-aa92-b0b2b14ec0af');\n",
              "          const dataTable =\n",
              "            await google.colab.kernel.invokeFunction('convertToInteractive',\n",
              "                                                     [key], {});\n",
              "          if (!dataTable) return;\n",
              "\n",
              "          const docLinkHtml = 'Like what you see? Visit the ' +\n",
              "            '<a target=\"_blank\" href=https://colab.research.google.com/notebooks/data_table.ipynb>data table notebook</a>'\n",
              "            + ' to learn more about interactive tables.';\n",
              "          element.innerHTML = '';\n",
              "          dataTable['output_type'] = 'display_data';\n",
              "          await google.colab.output.renderOutput(dataTable, element);\n",
              "          const docLink = document.createElement('div');\n",
              "          docLink.innerHTML = docLinkHtml;\n",
              "          element.appendChild(docLink);\n",
              "        }\n",
              "      </script>\n",
              "    </div>\n",
              "  </div>\n",
              "  "
            ]
          },
          "metadata": {},
          "execution_count": 132
        }
      ]
    },
    {
      "cell_type": "code",
      "source": [
        "#range of age\n",
        "print(\"minimum age of customer=\",df['Age'].min())\n",
        "print(\"maximum age of customer=\",df['Age'].max())"
      ],
      "metadata": {
        "colab": {
          "base_uri": "https://localhost:8080/"
        },
        "id": "IJ-QuaF9PhTZ",
        "outputId": "d4391ace-80d4-4bfa-db0e-01c4b218e104"
      },
      "execution_count": null,
      "outputs": [
        {
          "output_type": "stream",
          "name": "stdout",
          "text": [
            "minimum age of customer= 18\n",
            "maximum age of customer= 50\n"
          ]
        }
      ]
    },
    {
      "cell_type": "markdown",
      "source": [
        "The dataset consist of information of customers of age between 18 and 50 years"
      ],
      "metadata": {
        "id": "TOx4XvB2P2DM"
      }
    },
    {
      "cell_type": "code",
      "source": [
        "#range of education\n",
        "print(\"minimum education of customer=\",df['Education'].min())\n",
        "print(\"maximum education of customer=\",df['Education'].max())"
      ],
      "metadata": {
        "colab": {
          "base_uri": "https://localhost:8080/"
        },
        "id": "dgTQJbVnPwlH",
        "outputId": "7ae9e7fc-9604-448a-9cfc-6b25c1d00da4"
      },
      "execution_count": null,
      "outputs": [
        {
          "output_type": "stream",
          "name": "stdout",
          "text": [
            "minimum education of customer= 12\n",
            "maximum education of customer= 21\n"
          ]
        }
      ]
    },
    {
      "cell_type": "markdown",
      "source": [
        "The Education of customers varies between 12 to 21 years"
      ],
      "metadata": {
        "id": "952FJ4AWQKg6"
      }
    },
    {
      "cell_type": "code",
      "source": [
        "#range of Income\n",
        "print(\"minimum Income of customer=\",df['Income'].min())\n",
        "print(\"maximum Income of customer=\",df['Income'].max())"
      ],
      "metadata": {
        "colab": {
          "base_uri": "https://localhost:8080/"
        },
        "id": "ub4baF9_QJbW",
        "outputId": "0339c58d-7c02-4fc6-ec93-4de3cb29726f"
      },
      "execution_count": null,
      "outputs": [
        {
          "output_type": "stream",
          "name": "stdout",
          "text": [
            "minimum Income of customer= 29562\n",
            "maximum Income of customer= 104581\n"
          ]
        }
      ]
    },
    {
      "cell_type": "markdown",
      "source": [
        "The Income of customers varies between 29562 $ to 104581 $"
      ],
      "metadata": {
        "id": "-tt8P2rsQZah"
      }
    },
    {
      "cell_type": "code",
      "source": [
        "#Range of Usage\n",
        "print(\"minimum usage of customer=\",df['Usage'].min())\n",
        "print(\"maximum usage of customer=\",df['Usage'].max())"
      ],
      "metadata": {
        "colab": {
          "base_uri": "https://localhost:8080/"
        },
        "id": "nW5IdeDSQXqM",
        "outputId": "d6f1153c-578f-4655-8089-36b79cfc704c"
      },
      "execution_count": null,
      "outputs": [
        {
          "output_type": "stream",
          "name": "stdout",
          "text": [
            "minimum usage of customer= 2\n",
            "maximum usage of customer= 7\n"
          ]
        }
      ]
    },
    {
      "cell_type": "markdown",
      "source": [
        "The minimum average use of customer is 2 times a week and maximum is 7 times a week"
      ],
      "metadata": {
        "id": "5JzgI-fNQn7Z"
      }
    },
    {
      "cell_type": "code",
      "source": [
        "# range of miles\n",
        "print(\"minimum miles of customer=\",df['Miles'].min())\n",
        "print(\"maximum miles of customer=\",df['Miles'].max())"
      ],
      "metadata": {
        "colab": {
          "base_uri": "https://localhost:8080/"
        },
        "id": "_OUmMLv6Qm0J",
        "outputId": "eb46489b-23a8-4871-ad7d-010ffa312e6c"
      },
      "execution_count": null,
      "outputs": [
        {
          "output_type": "stream",
          "name": "stdout",
          "text": [
            "minimum miles of customer= 21\n",
            "maximum miles of customer= 360\n"
          ]
        }
      ]
    },
    {
      "cell_type": "markdown",
      "source": [
        "The miles covered by the users vary between 21 miles to 360 miles a week"
      ],
      "metadata": {
        "id": "jKhQTCnTRAa2"
      }
    },
    {
      "cell_type": "code",
      "source": [
        "# range of fitness\n",
        "print(\"minimum fitness of customer=\",df['Fitness'].min())\n",
        "print(\"maximum fitness of customer=\",df['Fitness'].max())"
      ],
      "metadata": {
        "colab": {
          "base_uri": "https://localhost:8080/"
        },
        "id": "vy7Rk5OyQ_ky",
        "outputId": "a870ea31-73a3-4e6c-b8f6-e369936017d4"
      },
      "execution_count": null,
      "outputs": [
        {
          "output_type": "stream",
          "name": "stdout",
          "text": [
            "minimum fitness of customer= 1\n",
            "maximum fitness of customer= 5\n"
          ]
        }
      ]
    },
    {
      "cell_type": "markdown",
      "source": [
        "The fitness scale of customers vary between 1 to 5"
      ],
      "metadata": {
        "id": "1dLD_QKHRQE-"
      }
    },
    {
      "cell_type": "markdown",
      "source": [
        "#5.2 Comments on the distribution of the variables and relationship between them"
      ],
      "metadata": {
        "id": "xIVD7drCRZdF"
      }
    },
    {
      "cell_type": "markdown",
      "source": [
        "There are 9 different variables in the original dataset. They are 'Product', 'Age', 'Gender', 'Education', 'MaritalStatus', 'Usage',\n",
        "       'Fitness', 'Income', 'Miles'.\n",
        "\n",
        "The gender is either Male or Female\n",
        "\n",
        "The marital Status is either Single or Partnered\n"
      ],
      "metadata": {
        "id": "ThKZa8b7RoAR"
      }
    },
    {
      "cell_type": "code",
      "source": [
        "sns.heatmap(data=df.corr(),cmap='Blues',annot=True)"
      ],
      "metadata": {
        "colab": {
          "base_uri": "https://localhost:8080/",
          "height": 287
        },
        "id": "i6JNC2JZRqnP",
        "outputId": "a27587e0-46e4-4059-e88c-bb4273ca4f6f"
      },
      "execution_count": null,
      "outputs": [
        {
          "output_type": "execute_result",
          "data": {
            "text/plain": [
              "<matplotlib.axes._subplots.AxesSubplot at 0x7f06a25d7f70>"
            ]
          },
          "metadata": {},
          "execution_count": 139
        },
        {
          "output_type": "display_data",
          "data": {
            "text/plain": [
              "<Figure size 432x288 with 2 Axes>"
            ],
            "image/png": "[encoded data removed]"
          },
          "metadata": {
            "needs_background": "light"
          }
        }
      ]
    },
    {
      "cell_type": "markdown",
      "source": [
        "from the heatmap the relationships between variables are clear\n",
        "\n",
        "All the varibles have a positive relation with each other\n",
        "\n",
        "Miles and Fitness have highly positive correlation\n",
        "\n",
        "Miles and Usage have highly positive correlation\n",
        "\n",
        "Income and Education have highly positive correlation\n",
        "\n",
        "\n",
        "Age and Education has weak correlation\n",
        "\n",
        "usage and age has weak correaltion"
      ],
      "metadata": {
        "id": "-oJE6iFHSotD"
      }
    },
    {
      "cell_type": "markdown",
      "source": [
        "#Comments for each univariate and bivariate plot\n",
        "\n",
        "\n",
        "Comments on each univariate and bivariate graphs are given with the graphs itself"
      ],
      "metadata": {
        "id": "wetQw1BiTVdV"
      }
    },
    {
      "cell_type": "markdown",
      "source": [
        "#6)Recommendations"
      ],
      "metadata": {
        "id": "QSpC6M5NTqaC"
      }
    },
    {
      "cell_type": "markdown",
      "source": [
        "1) KP781 has very low number of female customers as compared to males.\n",
        "So Efforts should be made to find the reason and do the needful to attract female customers.\n",
        "\n",
        "2)The focus should be on Partnered customers as they are more in numbers for all three products.Offers can be made to retain them.\n",
        "\n",
        "3)The major buyers are in the age group of 20-35.In order to attract people with age more than 35. Some schemes can be made for these customers.\n",
        "\n",
        "4)It is observed that on an average, people use the treadmills 3 times a week.but for KP781 its higher and even some customers has used it 7 times a week.They might be the highly fitness concious people.So KP781\n",
        "should be recommended for fitness freaks.\n",
        "\n",
        "5)The majority of the sales lies between customers earning between 20k and 60k.So schemes should be made to attract these groups.\n",
        "\n",
        "\n",
        "6) when analysing education ,Its found that highly educated people prefer more expensive products maybe beacuse they have more income.So \n",
        "focus should be attract more educated customers.\n",
        "\n",
        "7)Based on miles covered ,its is found that less educated people covers less miles .So awareness should be made among these people about the use of products to improve health which may in turn increase the sales.\n",
        "\n",
        "\n",
        "\n",
        "\n",
        "\n",
        "\n",
        "\n"
      ],
      "metadata": {
        "id": "Ij6lqIQuTzuv"
      }
    },
    {
      "cell_type": "code",
      "source": [],
      "metadata": {
        "id": "o_deJY0WTQX1"
      },
      "execution_count": null,
      "outputs": []
    }
  ]
}